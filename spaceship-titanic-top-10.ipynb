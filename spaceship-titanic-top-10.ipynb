{
 "cells": [
  {
   "cell_type": "code",
   "execution_count": 1,
   "id": "f5000929",
   "metadata": {
    "_cell_guid": "b1076dfc-b9ad-4769-8c92-a6c4dae69d19",
    "_uuid": "8f2839f25d086af736a60e9eeb907d3b93b6e0e5",
    "execution": {
     "iopub.execute_input": "2022-11-02T12:53:30.726275Z",
     "iopub.status.busy": "2022-11-02T12:53:30.725470Z",
     "iopub.status.idle": "2022-11-02T12:53:31.629216Z",
     "shell.execute_reply": "2022-11-02T12:53:31.628267Z"
    },
    "papermill": {
     "duration": 0.922599,
     "end_time": "2022-11-02T12:53:31.631813",
     "exception": false,
     "start_time": "2022-11-02T12:53:30.709214",
     "status": "completed"
    },
    "tags": []
   },
   "outputs": [],
   "source": [
    "import numpy as np # linear algebra\n",
    "import pandas as pd # data processing, CSV file I/O (e.g. pd.read_csv)\n",
    "import matplotlib.pyplot as plt\n",
    "import seaborn as sns"
   ]
  },
  {
   "cell_type": "markdown",
   "id": "09605b81",
   "metadata": {
    "papermill": {
     "duration": 0.007031,
     "end_time": "2022-11-02T12:53:31.647053",
     "exception": false,
     "start_time": "2022-11-02T12:53:31.640022",
     "status": "completed"
    },
    "tags": []
   },
   "source": [
    "# Importing Libraries and Data"
   ]
  },
  {
   "cell_type": "code",
   "execution_count": 2,
   "id": "403d444d",
   "metadata": {
    "execution": {
     "iopub.execute_input": "2022-11-02T12:53:31.662959Z",
     "iopub.status.busy": "2022-11-02T12:53:31.662648Z",
     "iopub.status.idle": "2022-11-02T12:53:31.731032Z",
     "shell.execute_reply": "2022-11-02T12:53:31.729948Z"
    },
    "papermill": {
     "duration": 0.078826,
     "end_time": "2022-11-02T12:53:31.733365",
     "exception": false,
     "start_time": "2022-11-02T12:53:31.654539",
     "status": "completed"
    },
    "tags": []
   },
   "outputs": [
    {
     "data": {
      "text/html": [
       "<div>\n",
       "<style scoped>\n",
       "    .dataframe tbody tr th:only-of-type {\n",
       "        vertical-align: middle;\n",
       "    }\n",
       "\n",
       "    .dataframe tbody tr th {\n",
       "        vertical-align: top;\n",
       "    }\n",
       "\n",
       "    .dataframe thead th {\n",
       "        text-align: right;\n",
       "    }\n",
       "</style>\n",
       "<table border=\"1\" class=\"dataframe\">\n",
       "  <thead>\n",
       "    <tr style=\"text-align: right;\">\n",
       "      <th></th>\n",
       "      <th>PassengerId</th>\n",
       "      <th>HomePlanet</th>\n",
       "      <th>CryoSleep</th>\n",
       "      <th>Cabin</th>\n",
       "      <th>Destination</th>\n",
       "      <th>Age</th>\n",
       "      <th>VIP</th>\n",
       "      <th>RoomService</th>\n",
       "      <th>FoodCourt</th>\n",
       "      <th>ShoppingMall</th>\n",
       "      <th>Spa</th>\n",
       "      <th>VRDeck</th>\n",
       "      <th>Name</th>\n",
       "      <th>Transported</th>\n",
       "    </tr>\n",
       "  </thead>\n",
       "  <tbody>\n",
       "    <tr>\n",
       "      <th>0</th>\n",
       "      <td>0001_01</td>\n",
       "      <td>Europa</td>\n",
       "      <td>False</td>\n",
       "      <td>B/0/P</td>\n",
       "      <td>TRAPPIST-1e</td>\n",
       "      <td>39.0</td>\n",
       "      <td>False</td>\n",
       "      <td>0.0</td>\n",
       "      <td>0.0</td>\n",
       "      <td>0.0</td>\n",
       "      <td>0.0</td>\n",
       "      <td>0.0</td>\n",
       "      <td>Maham Ofracculy</td>\n",
       "      <td>False</td>\n",
       "    </tr>\n",
       "    <tr>\n",
       "      <th>1</th>\n",
       "      <td>0002_01</td>\n",
       "      <td>Earth</td>\n",
       "      <td>False</td>\n",
       "      <td>F/0/S</td>\n",
       "      <td>TRAPPIST-1e</td>\n",
       "      <td>24.0</td>\n",
       "      <td>False</td>\n",
       "      <td>109.0</td>\n",
       "      <td>9.0</td>\n",
       "      <td>25.0</td>\n",
       "      <td>549.0</td>\n",
       "      <td>44.0</td>\n",
       "      <td>Juanna Vines</td>\n",
       "      <td>True</td>\n",
       "    </tr>\n",
       "    <tr>\n",
       "      <th>2</th>\n",
       "      <td>0003_01</td>\n",
       "      <td>Europa</td>\n",
       "      <td>False</td>\n",
       "      <td>A/0/S</td>\n",
       "      <td>TRAPPIST-1e</td>\n",
       "      <td>58.0</td>\n",
       "      <td>True</td>\n",
       "      <td>43.0</td>\n",
       "      <td>3576.0</td>\n",
       "      <td>0.0</td>\n",
       "      <td>6715.0</td>\n",
       "      <td>49.0</td>\n",
       "      <td>Altark Susent</td>\n",
       "      <td>False</td>\n",
       "    </tr>\n",
       "    <tr>\n",
       "      <th>3</th>\n",
       "      <td>0003_02</td>\n",
       "      <td>Europa</td>\n",
       "      <td>False</td>\n",
       "      <td>A/0/S</td>\n",
       "      <td>TRAPPIST-1e</td>\n",
       "      <td>33.0</td>\n",
       "      <td>False</td>\n",
       "      <td>0.0</td>\n",
       "      <td>1283.0</td>\n",
       "      <td>371.0</td>\n",
       "      <td>3329.0</td>\n",
       "      <td>193.0</td>\n",
       "      <td>Solam Susent</td>\n",
       "      <td>False</td>\n",
       "    </tr>\n",
       "    <tr>\n",
       "      <th>4</th>\n",
       "      <td>0004_01</td>\n",
       "      <td>Earth</td>\n",
       "      <td>False</td>\n",
       "      <td>F/1/S</td>\n",
       "      <td>TRAPPIST-1e</td>\n",
       "      <td>16.0</td>\n",
       "      <td>False</td>\n",
       "      <td>303.0</td>\n",
       "      <td>70.0</td>\n",
       "      <td>151.0</td>\n",
       "      <td>565.0</td>\n",
       "      <td>2.0</td>\n",
       "      <td>Willy Santantines</td>\n",
       "      <td>True</td>\n",
       "    </tr>\n",
       "  </tbody>\n",
       "</table>\n",
       "</div>"
      ],
      "text/plain": [
       "  PassengerId HomePlanet CryoSleep  Cabin  Destination   Age    VIP  \\\n",
       "0     0001_01     Europa     False  B/0/P  TRAPPIST-1e  39.0  False   \n",
       "1     0002_01      Earth     False  F/0/S  TRAPPIST-1e  24.0  False   \n",
       "2     0003_01     Europa     False  A/0/S  TRAPPIST-1e  58.0   True   \n",
       "3     0003_02     Europa     False  A/0/S  TRAPPIST-1e  33.0  False   \n",
       "4     0004_01      Earth     False  F/1/S  TRAPPIST-1e  16.0  False   \n",
       "\n",
       "   RoomService  FoodCourt  ShoppingMall     Spa  VRDeck               Name  \\\n",
       "0          0.0        0.0           0.0     0.0     0.0    Maham Ofracculy   \n",
       "1        109.0        9.0          25.0   549.0    44.0       Juanna Vines   \n",
       "2         43.0     3576.0           0.0  6715.0    49.0      Altark Susent   \n",
       "3          0.0     1283.0         371.0  3329.0   193.0       Solam Susent   \n",
       "4        303.0       70.0         151.0   565.0     2.0  Willy Santantines   \n",
       "\n",
       "   Transported  \n",
       "0        False  \n",
       "1         True  \n",
       "2        False  \n",
       "3        False  \n",
       "4         True  "
      ]
     },
     "execution_count": 2,
     "metadata": {},
     "output_type": "execute_result"
    }
   ],
   "source": [
    "train = pd.read_csv('../input/spaceship-titanic/train.csv')\n",
    "train.head()"
   ]
  },
  {
   "cell_type": "code",
   "execution_count": 3,
   "id": "84335b0b",
   "metadata": {
    "execution": {
     "iopub.execute_input": "2022-11-02T12:53:31.750837Z",
     "iopub.status.busy": "2022-11-02T12:53:31.750545Z",
     "iopub.status.idle": "2022-11-02T12:53:31.787441Z",
     "shell.execute_reply": "2022-11-02T12:53:31.785951Z"
    },
    "papermill": {
     "duration": 0.04781,
     "end_time": "2022-11-02T12:53:31.789538",
     "exception": false,
     "start_time": "2022-11-02T12:53:31.741728",
     "status": "completed"
    },
    "tags": []
   },
   "outputs": [
    {
     "data": {
      "text/html": [
       "<div>\n",
       "<style scoped>\n",
       "    .dataframe tbody tr th:only-of-type {\n",
       "        vertical-align: middle;\n",
       "    }\n",
       "\n",
       "    .dataframe tbody tr th {\n",
       "        vertical-align: top;\n",
       "    }\n",
       "\n",
       "    .dataframe thead th {\n",
       "        text-align: right;\n",
       "    }\n",
       "</style>\n",
       "<table border=\"1\" class=\"dataframe\">\n",
       "  <thead>\n",
       "    <tr style=\"text-align: right;\">\n",
       "      <th></th>\n",
       "      <th>PassengerId</th>\n",
       "      <th>HomePlanet</th>\n",
       "      <th>CryoSleep</th>\n",
       "      <th>Cabin</th>\n",
       "      <th>Destination</th>\n",
       "      <th>Age</th>\n",
       "      <th>VIP</th>\n",
       "      <th>RoomService</th>\n",
       "      <th>FoodCourt</th>\n",
       "      <th>ShoppingMall</th>\n",
       "      <th>Spa</th>\n",
       "      <th>VRDeck</th>\n",
       "      <th>Name</th>\n",
       "    </tr>\n",
       "  </thead>\n",
       "  <tbody>\n",
       "    <tr>\n",
       "      <th>0</th>\n",
       "      <td>0013_01</td>\n",
       "      <td>Earth</td>\n",
       "      <td>True</td>\n",
       "      <td>G/3/S</td>\n",
       "      <td>TRAPPIST-1e</td>\n",
       "      <td>27.0</td>\n",
       "      <td>False</td>\n",
       "      <td>0.0</td>\n",
       "      <td>0.0</td>\n",
       "      <td>0.0</td>\n",
       "      <td>0.0</td>\n",
       "      <td>0.0</td>\n",
       "      <td>Nelly Carsoning</td>\n",
       "    </tr>\n",
       "    <tr>\n",
       "      <th>1</th>\n",
       "      <td>0018_01</td>\n",
       "      <td>Earth</td>\n",
       "      <td>False</td>\n",
       "      <td>F/4/S</td>\n",
       "      <td>TRAPPIST-1e</td>\n",
       "      <td>19.0</td>\n",
       "      <td>False</td>\n",
       "      <td>0.0</td>\n",
       "      <td>9.0</td>\n",
       "      <td>0.0</td>\n",
       "      <td>2823.0</td>\n",
       "      <td>0.0</td>\n",
       "      <td>Lerome Peckers</td>\n",
       "    </tr>\n",
       "    <tr>\n",
       "      <th>2</th>\n",
       "      <td>0019_01</td>\n",
       "      <td>Europa</td>\n",
       "      <td>True</td>\n",
       "      <td>C/0/S</td>\n",
       "      <td>55 Cancri e</td>\n",
       "      <td>31.0</td>\n",
       "      <td>False</td>\n",
       "      <td>0.0</td>\n",
       "      <td>0.0</td>\n",
       "      <td>0.0</td>\n",
       "      <td>0.0</td>\n",
       "      <td>0.0</td>\n",
       "      <td>Sabih Unhearfus</td>\n",
       "    </tr>\n",
       "    <tr>\n",
       "      <th>3</th>\n",
       "      <td>0021_01</td>\n",
       "      <td>Europa</td>\n",
       "      <td>False</td>\n",
       "      <td>C/1/S</td>\n",
       "      <td>TRAPPIST-1e</td>\n",
       "      <td>38.0</td>\n",
       "      <td>False</td>\n",
       "      <td>0.0</td>\n",
       "      <td>6652.0</td>\n",
       "      <td>0.0</td>\n",
       "      <td>181.0</td>\n",
       "      <td>585.0</td>\n",
       "      <td>Meratz Caltilter</td>\n",
       "    </tr>\n",
       "    <tr>\n",
       "      <th>4</th>\n",
       "      <td>0023_01</td>\n",
       "      <td>Earth</td>\n",
       "      <td>False</td>\n",
       "      <td>F/5/S</td>\n",
       "      <td>TRAPPIST-1e</td>\n",
       "      <td>20.0</td>\n",
       "      <td>False</td>\n",
       "      <td>10.0</td>\n",
       "      <td>0.0</td>\n",
       "      <td>635.0</td>\n",
       "      <td>0.0</td>\n",
       "      <td>0.0</td>\n",
       "      <td>Brence Harperez</td>\n",
       "    </tr>\n",
       "  </tbody>\n",
       "</table>\n",
       "</div>"
      ],
      "text/plain": [
       "  PassengerId HomePlanet CryoSleep  Cabin  Destination   Age    VIP  \\\n",
       "0     0013_01      Earth      True  G/3/S  TRAPPIST-1e  27.0  False   \n",
       "1     0018_01      Earth     False  F/4/S  TRAPPIST-1e  19.0  False   \n",
       "2     0019_01     Europa      True  C/0/S  55 Cancri e  31.0  False   \n",
       "3     0021_01     Europa     False  C/1/S  TRAPPIST-1e  38.0  False   \n",
       "4     0023_01      Earth     False  F/5/S  TRAPPIST-1e  20.0  False   \n",
       "\n",
       "   RoomService  FoodCourt  ShoppingMall     Spa  VRDeck              Name  \n",
       "0          0.0        0.0           0.0     0.0     0.0   Nelly Carsoning  \n",
       "1          0.0        9.0           0.0  2823.0     0.0    Lerome Peckers  \n",
       "2          0.0        0.0           0.0     0.0     0.0   Sabih Unhearfus  \n",
       "3          0.0     6652.0           0.0   181.0   585.0  Meratz Caltilter  \n",
       "4         10.0        0.0         635.0     0.0     0.0   Brence Harperez  "
      ]
     },
     "execution_count": 3,
     "metadata": {},
     "output_type": "execute_result"
    }
   ],
   "source": [
    "test = pd.read_csv('../input/spaceship-titanic/test.csv')\n",
    "test.head()"
   ]
  },
  {
   "cell_type": "code",
   "execution_count": 4,
   "id": "1818f1ca",
   "metadata": {
    "execution": {
     "iopub.execute_input": "2022-11-02T12:53:31.807197Z",
     "iopub.status.busy": "2022-11-02T12:53:31.806915Z",
     "iopub.status.idle": "2022-11-02T12:53:31.812089Z",
     "shell.execute_reply": "2022-11-02T12:53:31.811112Z"
    },
    "papermill": {
     "duration": 0.017192,
     "end_time": "2022-11-02T12:53:31.815178",
     "exception": false,
     "start_time": "2022-11-02T12:53:31.797986",
     "status": "completed"
    },
    "tags": []
   },
   "outputs": [
    {
     "name": "stdout",
     "output_type": "stream",
     "text": [
      "Shape of Train dataset:  (8693, 14)\n",
      "Shape of Test dataset:  (4277, 13)\n"
     ]
    }
   ],
   "source": [
    "print('Shape of Train dataset: ',train.shape)\n",
    "print('Shape of Test dataset: ',test.shape)"
   ]
  },
  {
   "cell_type": "markdown",
   "id": "85be4b3e",
   "metadata": {
    "papermill": {
     "duration": 0.007457,
     "end_time": "2022-11-02T12:53:31.831665",
     "exception": false,
     "start_time": "2022-11-02T12:53:31.824208",
     "status": "completed"
    },
    "tags": []
   },
   "source": [
    "* PassengerId - A unique Id for each passenger. Each Id takes the form gggg_pp where gggg indicates a group the passenger is travelling with and pp is their number within the group. People in a group are often family members, but not always.\n",
    "* HomePlanet - The planet the passenger departed from, typically their planet of permanent residence.\n",
    "* CryoSleep - Indicates whether the passenger elected to be put into suspended animation for the duration of the voyage. Passengers in cryosleep are confined to their cabins.\n",
    "* Cabin - The cabin number where the passenger is staying. Takes the form deck/num/side, where side can be either P for Port or S for Starboard.\n",
    "* Destination - The planet the passenger will be debarking to.\n",
    "* Age - The age of the passenger.\n",
    "* VIP - Whether the passenger has paid for special VIP service during the voyage.\n",
    "* RoomService, FoodCourt, ShoppingMall, Spa, VRDeck - Amount the passenger has billed at each of the Spaceship Titanic's many luxury amenities.\n",
    "* Name - The first and last names of the passenger.\n",
    "* Transported - Whether the passenger was transported to another dimension. This is the target, the column you are trying to predict."
   ]
  },
  {
   "cell_type": "markdown",
   "id": "33df6b94",
   "metadata": {
    "papermill": {
     "duration": 0.007604,
     "end_time": "2022-11-02T12:53:31.847392",
     "exception": false,
     "start_time": "2022-11-02T12:53:31.839788",
     "status": "completed"
    },
    "tags": []
   },
   "source": [
    "# Missing Values"
   ]
  },
  {
   "cell_type": "code",
   "execution_count": 5,
   "id": "2a0b849a",
   "metadata": {
    "execution": {
     "iopub.execute_input": "2022-11-02T12:53:31.864455Z",
     "iopub.status.busy": "2022-11-02T12:53:31.864162Z",
     "iopub.status.idle": "2022-11-02T12:53:34.134075Z",
     "shell.execute_reply": "2022-11-02T12:53:34.132853Z"
    },
    "papermill": {
     "duration": 2.280651,
     "end_time": "2022-11-02T12:53:34.136157",
     "exception": false,
     "start_time": "2022-11-02T12:53:31.855506",
     "status": "completed"
    },
    "tags": []
   },
   "outputs": [
    {
     "data": {
      "text/plain": [
       "<AxesSubplot:>"
      ]
     },
     "execution_count": 5,
     "metadata": {},
     "output_type": "execute_result"
    },
    {
     "data": {
      "image/png": "[encoded data removed]",
      "text/plain": [
       "<Figure size 720x720 with 4 Axes>"
      ]
     },
     "metadata": {
      "needs_background": "light"
     },
     "output_type": "display_data"
    }
   ],
   "source": [
    "fig, axes = plt.subplots(2, figsize=(10, 10))\n",
    "sns.heatmap(train.isna().transpose(),\n",
    "            cmap=\"YlGnBu\",\n",
    "            cbar_kws={'label': 'Missing Data of Train dataset'}, ax=axes[0])\n",
    "\n",
    "sns.heatmap(test.isna().transpose(),\n",
    "            cmap=\"YlGnBu\",\n",
    "            cbar_kws={'label': 'Missing Data of Test dataset'}, ax=axes[1])"
   ]
  },
  {
   "cell_type": "code",
   "execution_count": 6,
   "id": "0a774ebd",
   "metadata": {
    "execution": {
     "iopub.execute_input": "2022-11-02T12:53:34.155087Z",
     "iopub.status.busy": "2022-11-02T12:53:34.154788Z",
     "iopub.status.idle": "2022-11-02T12:53:34.166482Z",
     "shell.execute_reply": "2022-11-02T12:53:34.165620Z"
    },
    "papermill": {
     "duration": 0.023414,
     "end_time": "2022-11-02T12:53:34.168455",
     "exception": false,
     "start_time": "2022-11-02T12:53:34.145041",
     "status": "completed"
    },
    "tags": []
   },
   "outputs": [],
   "source": [
    "train.drop(['Name'], axis=1, inplace=True)\n",
    "test.drop(['Name'], axis=1, inplace=True)"
   ]
  },
  {
   "cell_type": "code",
   "execution_count": 7,
   "id": "070d7ffa",
   "metadata": {
    "execution": {
     "iopub.execute_input": "2022-11-02T12:53:34.186522Z",
     "iopub.status.busy": "2022-11-02T12:53:34.186255Z",
     "iopub.status.idle": "2022-11-02T12:53:34.219381Z",
     "shell.execute_reply": "2022-11-02T12:53:34.218548Z"
    },
    "papermill": {
     "duration": 0.04421,
     "end_time": "2022-11-02T12:53:34.221298",
     "exception": false,
     "start_time": "2022-11-02T12:53:34.177088",
     "status": "completed"
    },
    "tags": []
   },
   "outputs": [],
   "source": [
    "cat_cols = [col for col in train.columns if train[col].dtype in (object, bool)]\n",
    "\n",
    "# fig, axes = plt.subplots(2, 3, figsize=(10, 8))\n",
    "# for col, ax in zip(cat_cols, axes.flatten()):\n",
    "#     sns.countplot(train[col], ax=ax)\n",
    "#     ax.set_title(col)\n",
    "    \n",
    "for col in cat_cols:\n",
    "    train[col]= train[col].fillna(train[col].mode()[0])\n",
    "    if col != 'Transported':\n",
    "        test[col] = test[col].fillna(test[col].mode()[0])"
   ]
  },
  {
   "cell_type": "code",
   "execution_count": 8,
   "id": "ffd51492",
   "metadata": {
    "execution": {
     "iopub.execute_input": "2022-11-02T12:53:34.239738Z",
     "iopub.status.busy": "2022-11-02T12:53:34.239413Z",
     "iopub.status.idle": "2022-11-02T12:53:35.619364Z",
     "shell.execute_reply": "2022-11-02T12:53:35.618380Z"
    },
    "papermill": {
     "duration": 1.392832,
     "end_time": "2022-11-02T12:53:35.622547",
     "exception": false,
     "start_time": "2022-11-02T12:53:34.229715",
     "status": "completed"
    },
    "tags": []
   },
   "outputs": [
    {
     "data": {
      "image/png": "[encoded data removed]",
      "text/plain": [
       "<Figure size 720x864 with 6 Axes>"
      ]
     },
     "metadata": {
      "needs_background": "light"
     },
     "output_type": "display_data"
    }
   ],
   "source": [
    "num_cols = [col for col in train.columns if col not in cat_cols]\n",
    "\n",
    "fig, axes = plt.subplots(3, 2, figsize=(10, 12))\n",
    "fig.tight_layout(pad=5.0)\n",
    "for col, ax in zip(num_cols, axes.flatten()):\n",
    "    sns.kdeplot(x= col, hue='Transported', data = train, ax=ax)\n",
    "    ax.set_title(col)\n",
    "    \n",
    "for col in num_cols:\n",
    "    train[col] = train[col].fillna(train[col].median())\n",
    "    if col != 'Transported':\n",
    "        test[col] = test[col].fillna(test[col].median())\n",
    "    "
   ]
  },
  {
   "cell_type": "code",
   "execution_count": 9,
   "id": "95d6eb2a",
   "metadata": {
    "execution": {
     "iopub.execute_input": "2022-11-02T12:53:35.644569Z",
     "iopub.status.busy": "2022-11-02T12:53:35.644268Z",
     "iopub.status.idle": "2022-11-02T12:53:35.677699Z",
     "shell.execute_reply": "2022-11-02T12:53:35.676865Z"
    },
    "papermill": {
     "duration": 0.045624,
     "end_time": "2022-11-02T12:53:35.679702",
     "exception": false,
     "start_time": "2022-11-02T12:53:35.634078",
     "status": "completed"
    },
    "tags": []
   },
   "outputs": [],
   "source": [
    "#Analyzing Cabin feature\n",
    "train[['Deck','Num','Side']] = train.Cabin.str.split('/',expand=True)\n",
    "test[['Deck','Num','Side']] = test.Cabin.str.split('/',expand=True)\n",
    "\n",
    "train['Num'] = train['Num'].astype('int')\n",
    "test['Num'] = test['Num'].astype('int')\n",
    "\n",
    "train.drop('Cabin', axis=1, inplace=True)\n",
    "test.drop('Cabin', axis=1, inplace=True)"
   ]
  },
  {
   "cell_type": "code",
   "execution_count": 10,
   "id": "080fb3e5",
   "metadata": {
    "execution": {
     "iopub.execute_input": "2022-11-02T12:53:35.699624Z",
     "iopub.status.busy": "2022-11-02T12:53:35.699344Z",
     "iopub.status.idle": "2022-11-02T12:53:35.729788Z",
     "shell.execute_reply": "2022-11-02T12:53:35.728946Z"
    },
    "papermill": {
     "duration": 0.042681,
     "end_time": "2022-11-02T12:53:35.731701",
     "exception": false,
     "start_time": "2022-11-02T12:53:35.689020",
     "status": "completed"
    },
    "tags": []
   },
   "outputs": [],
   "source": [
    "train[['group', 'number']] = train['PassengerId'].str.split('_', expand=True).astype('int')\n",
    "test[['group', 'number']] = test['PassengerId'].str.split('_', expand=True).astype('int')\n",
    "\n",
    "train.drop('PassengerId', axis=1, inplace=True)\n",
    "test.drop('PassengerId', axis=1, inplace=True)"
   ]
  },
  {
   "cell_type": "code",
   "execution_count": 11,
   "id": "8908ead6",
   "metadata": {
    "execution": {
     "iopub.execute_input": "2022-11-02T12:53:35.752901Z",
     "iopub.status.busy": "2022-11-02T12:53:35.752561Z",
     "iopub.status.idle": "2022-11-02T12:53:35.759553Z",
     "shell.execute_reply": "2022-11-02T12:53:35.758045Z"
    },
    "papermill": {
     "duration": 0.02035,
     "end_time": "2022-11-02T12:53:35.762074",
     "exception": false,
     "start_time": "2022-11-02T12:53:35.741724",
     "status": "completed"
    },
    "tags": []
   },
   "outputs": [
    {
     "name": "stdout",
     "output_type": "stream",
     "text": [
      "Length of Groups 8693\n",
      "Uniques of Groups 6217\n"
     ]
    }
   ],
   "source": [
    "print('Length of Groups', train['group'].shape[0])\n",
    "print('Uniques of Groups', len(train['group'].unique()))"
   ]
  },
  {
   "cell_type": "code",
   "execution_count": 12,
   "id": "1b300c08",
   "metadata": {
    "execution": {
     "iopub.execute_input": "2022-11-02T12:53:35.782814Z",
     "iopub.status.busy": "2022-11-02T12:53:35.782062Z",
     "iopub.status.idle": "2022-11-02T12:53:35.789023Z",
     "shell.execute_reply": "2022-11-02T12:53:35.788181Z"
    },
    "papermill": {
     "duration": 0.019258,
     "end_time": "2022-11-02T12:53:35.791002",
     "exception": false,
     "start_time": "2022-11-02T12:53:35.771744",
     "status": "completed"
    },
    "tags": []
   },
   "outputs": [],
   "source": [
    "train.drop('group', axis=1, inplace=True)\n",
    "test.drop('group', axis=1, inplace=True)"
   ]
  },
  {
   "cell_type": "markdown",
   "id": "a691dc06",
   "metadata": {
    "papermill": {
     "duration": 0.009172,
     "end_time": "2022-11-02T12:53:35.809822",
     "exception": false,
     "start_time": "2022-11-02T12:53:35.800650",
     "status": "completed"
    },
    "tags": []
   },
   "source": [
    "# Class Distribution"
   ]
  },
  {
   "cell_type": "code",
   "execution_count": 13,
   "id": "c1666fe6",
   "metadata": {
    "execution": {
     "iopub.execute_input": "2022-11-02T12:53:35.830018Z",
     "iopub.status.busy": "2022-11-02T12:53:35.829248Z",
     "iopub.status.idle": "2022-11-02T12:53:36.051739Z",
     "shell.execute_reply": "2022-11-02T12:53:36.050400Z"
    },
    "papermill": {
     "duration": 0.236237,
     "end_time": "2022-11-02T12:53:36.055509",
     "exception": false,
     "start_time": "2022-11-02T12:53:35.819272",
     "status": "completed"
    },
    "tags": []
   },
   "outputs": [
    {
     "data": {
      "text/plain": [
       "([<matplotlib.patches.Wedge at 0x7fd56d969110>,\n",
       "  <matplotlib.patches.Wedge at 0x7fd56d9697d0>],\n",
       " [Text(-0.012522008688130765, 1.0999287246446539, 'True'),\n",
       "  Text(0.01252200868813063, -1.0999287246446539, 'False')])"
      ]
     },
     "execution_count": 13,
     "metadata": {},
     "output_type": "execute_result"
    },
    {
     "data": {
      "image/png": "[encoded data removed]",
      "text/plain": [
       "<Figure size 720x576 with 1 Axes>"
      ]
     },
     "metadata": {},
     "output_type": "display_data"
    }
   ],
   "source": [
    "plt.figure(figsize=(10, 8))\n",
    "#sns.countplot(train['Transported'])\n",
    "#plt.title('Class Distribution of Target Vairable')\n",
    "\n",
    "values = train['Transported'].value_counts()\n",
    "label = train['Transported'].value_counts().index\n",
    "plt.pie(values, labels=label)\n"
   ]
  },
  {
   "cell_type": "code",
   "execution_count": 14,
   "id": "7db84166",
   "metadata": {
    "execution": {
     "iopub.execute_input": "2022-11-02T12:53:36.107438Z",
     "iopub.status.busy": "2022-11-02T12:53:36.106829Z",
     "iopub.status.idle": "2022-11-02T12:53:36.120684Z",
     "shell.execute_reply": "2022-11-02T12:53:36.119509Z"
    },
    "papermill": {
     "duration": 0.043629,
     "end_time": "2022-11-02T12:53:36.123831",
     "exception": false,
     "start_time": "2022-11-02T12:53:36.080202",
     "status": "completed"
    },
    "tags": []
   },
   "outputs": [],
   "source": [
    "train['Transported'] = train['Transported'].astype('object')\n",
    "\n",
    "train['CryoSleep'] = train['CryoSleep'].astype('object')\n",
    "test['CryoSleep'] = test['CryoSleep'].astype('object')\n",
    "\n",
    "train['VIP'] = train['VIP'].astype('object')\n",
    "test['VIP'] = test['VIP'].astype('object')"
   ]
  },
  {
   "cell_type": "markdown",
   "id": "2a698e64",
   "metadata": {
    "papermill": {
     "duration": 0.009487,
     "end_time": "2022-11-02T12:53:36.152085",
     "exception": false,
     "start_time": "2022-11-02T12:53:36.142598",
     "status": "completed"
    },
    "tags": []
   },
   "source": [
    "# Chi-Square Independence Test"
   ]
  },
  {
   "cell_type": "code",
   "execution_count": 15,
   "id": "a7f5bcb1",
   "metadata": {
    "execution": {
     "iopub.execute_input": "2022-11-02T12:53:36.172684Z",
     "iopub.status.busy": "2022-11-02T12:53:36.172391Z",
     "iopub.status.idle": "2022-11-02T12:53:36.448003Z",
     "shell.execute_reply": "2022-11-02T12:53:36.446862Z"
    },
    "papermill": {
     "duration": 0.288521,
     "end_time": "2022-11-02T12:53:36.450402",
     "exception": false,
     "start_time": "2022-11-02T12:53:36.161881",
     "status": "completed"
    },
    "tags": []
   },
   "outputs": [
    {
     "data": {
      "text/plain": [
       "array([ True,  True,  True,  True])"
      ]
     },
     "execution_count": 15,
     "metadata": {},
     "output_type": "execute_result"
    }
   ],
   "source": [
    "from sklearn.feature_selection import SelectKBest, chi2, f_classif\n",
    "from sklearn.preprocessing import OrdinalEncoder\n",
    "cat_cols = [col for col in train.columns if train[col].dtype in (object, bool)]\n",
    "temp = train[cat_cols]\n",
    "\n",
    "ordi = OrdinalEncoder()\n",
    "temp = ordi.fit_transform(temp)\n",
    "x = temp[:, :4]\n",
    "y = temp[:, -1]\n",
    "\n",
    "chi2_model = SelectKBest(chi2, k='all')\n",
    "chi2_model.fit(x, y)\n",
    "chi2_model.get_support()\n"
   ]
  },
  {
   "cell_type": "markdown",
   "id": "fc7e4405",
   "metadata": {
    "papermill": {
     "duration": 0.009621,
     "end_time": "2022-11-02T12:53:36.470388",
     "exception": false,
     "start_time": "2022-11-02T12:53:36.460767",
     "status": "completed"
    },
    "tags": []
   },
   "source": [
    "# ANOVA Test"
   ]
  },
  {
   "cell_type": "code",
   "execution_count": 16,
   "id": "275914cd",
   "metadata": {
    "execution": {
     "iopub.execute_input": "2022-11-02T12:53:36.491205Z",
     "iopub.status.busy": "2022-11-02T12:53:36.490888Z",
     "iopub.status.idle": "2022-11-02T12:53:36.504004Z",
     "shell.execute_reply": "2022-11-02T12:53:36.502931Z"
    },
    "papermill": {
     "duration": 0.025867,
     "end_time": "2022-11-02T12:53:36.506161",
     "exception": false,
     "start_time": "2022-11-02T12:53:36.480294",
     "status": "completed"
    },
    "tags": []
   },
   "outputs": [
    {
     "data": {
      "text/plain": [
       "array([ True,  True,  True,  True,  True,  True,  True,  True])"
      ]
     },
     "execution_count": 16,
     "metadata": {},
     "output_type": "execute_result"
    }
   ],
   "source": [
    "num_cols = [col for col in train.columns if col not in cat_cols]\n",
    "x = train[num_cols]\n",
    "anova_model = SelectKBest(f_classif, k='all')\n",
    "anova_model.fit(x, y)\n",
    "anova_model.get_support()\n"
   ]
  },
  {
   "cell_type": "markdown",
   "id": "ecefa36c",
   "metadata": {
    "papermill": {
     "duration": 0.009531,
     "end_time": "2022-11-02T12:53:36.526396",
     "exception": false,
     "start_time": "2022-11-02T12:53:36.516865",
     "status": "completed"
    },
    "tags": []
   },
   "source": [
    "# Splitting Dataset"
   ]
  },
  {
   "cell_type": "code",
   "execution_count": 17,
   "id": "1d16d6b8",
   "metadata": {
    "execution": {
     "iopub.execute_input": "2022-11-02T12:53:36.547755Z",
     "iopub.status.busy": "2022-11-02T12:53:36.546977Z",
     "iopub.status.idle": "2022-11-02T12:53:36.586173Z",
     "shell.execute_reply": "2022-11-02T12:53:36.585055Z"
    },
    "papermill": {
     "duration": 0.053042,
     "end_time": "2022-11-02T12:53:36.589402",
     "exception": false,
     "start_time": "2022-11-02T12:53:36.536360",
     "status": "completed"
    },
    "tags": []
   },
   "outputs": [
    {
     "name": "stderr",
     "output_type": "stream",
     "text": [
      "/opt/conda/lib/python3.7/site-packages/pandas/core/frame.py:4913: SettingWithCopyWarning: \n",
      "A value is trying to be set on a copy of a slice from a DataFrame\n",
      "\n",
      "See the caveats in the documentation: https://pandas.pydata.org/pandas-docs/stable/user_guide/indexing.html#returning-a-view-versus-a-copy\n",
      "  errors=errors,\n"
     ]
    }
   ],
   "source": [
    "data = pd.concat([train, test], axis=0)\n",
    "data_transformed = pd.get_dummies(data, drop_first=True)\n",
    "\n",
    "\n",
    "train_transformed = data_transformed.iloc[:train.shape[0], :]\n",
    "test_transformed = data_transformed.iloc[train.shape[0]:, :]\n",
    "test_transformed.drop('Transported_True', axis=1, inplace=True)\n",
    "\n",
    "y = train_transformed['Transported_True']\n",
    "x = train_transformed.drop('Transported_True', axis=1)\n",
    "\n",
    "from sklearn.model_selection import train_test_split, GridSearchCV\n",
    "xtrain, xtest, ytrain, ytest = train_test_split(x, y, test_size=0.1, random_state=1234)\n"
   ]
  },
  {
   "cell_type": "code",
   "execution_count": 18,
   "id": "e9aaeb42",
   "metadata": {
    "execution": {
     "iopub.execute_input": "2022-11-02T12:53:36.613012Z",
     "iopub.status.busy": "2022-11-02T12:53:36.611468Z",
     "iopub.status.idle": "2022-11-02T12:53:36.617801Z",
     "shell.execute_reply": "2022-11-02T12:53:36.616361Z"
    },
    "papermill": {
     "duration": 0.019617,
     "end_time": "2022-11-02T12:53:36.620317",
     "exception": false,
     "start_time": "2022-11-02T12:53:36.600700",
     "status": "completed"
    },
    "tags": []
   },
   "outputs": [
    {
     "name": "stdout",
     "output_type": "stream",
     "text": [
      "Shape of Train  (8693, 23)\n",
      "Shape of Test  (4277, 22)\n"
     ]
    }
   ],
   "source": [
    "print('Shape of Train ', train_transformed.shape)\n",
    "print('Shape of Test ', test_transformed.shape)"
   ]
  },
  {
   "cell_type": "markdown",
   "id": "62b9a2ba",
   "metadata": {
    "papermill": {
     "duration": 0.009941,
     "end_time": "2022-11-02T12:53:36.640585",
     "exception": false,
     "start_time": "2022-11-02T12:53:36.630644",
     "status": "completed"
    },
    "tags": []
   },
   "source": [
    "# Hyper-Parameter Tuning"
   ]
  },
  {
   "cell_type": "code",
   "execution_count": 19,
   "id": "16645a88",
   "metadata": {
    "execution": {
     "iopub.execute_input": "2022-11-02T12:53:36.662094Z",
     "iopub.status.busy": "2022-11-02T12:53:36.661315Z",
     "iopub.status.idle": "2022-11-02T12:53:36.667745Z",
     "shell.execute_reply": "2022-11-02T12:53:36.666918Z"
    },
    "papermill": {
     "duration": 0.019329,
     "end_time": "2022-11-02T12:53:36.669690",
     "exception": false,
     "start_time": "2022-11-02T12:53:36.650361",
     "status": "completed"
    },
    "tags": []
   },
   "outputs": [],
   "source": [
    "def compute_model(model_obj, params):\n",
    "    grid_model = GridSearchCV(model_obj, params, cv=3)\n",
    "    grid_model.fit(xtrain, ytrain)\n",
    "    \n",
    "    ypred_train = grid_model.best_estimator_.predict(xtrain)\n",
    "    #ypred_train = model.predict(xtrain)\n",
    "\n",
    "    from sklearn.metrics import accuracy_score\n",
    "    train_accuracy = accuracy_score(ytrain, ypred_train)\n",
    "    \n",
    "\n",
    "    ypred = grid_model.best_estimator_.predict(xtest)\n",
    "    #ypred = model.predict(xtest)\n",
    "    test_accuracy = accuracy_score(ytest, ypred)\n",
    "    \n",
    "\n",
    "\n",
    "    results = grid_model.best_estimator_.predict(test_transformed)\n",
    "    #results = model.predict(test_transformed)\n",
    "\n",
    "    return model_obj, results, train_accuracy, test_accuracy, grid_model.best_estimator_\n"
   ]
  },
  {
   "cell_type": "markdown",
   "id": "f528e239",
   "metadata": {
    "papermill": {
     "duration": 0.009621,
     "end_time": "2022-11-02T12:53:36.689595",
     "exception": false,
     "start_time": "2022-11-02T12:53:36.679974",
     "status": "completed"
    },
    "tags": []
   },
   "source": [
    "# Data Modeling"
   ]
  },
  {
   "cell_type": "code",
   "execution_count": 20,
   "id": "fa6d4319",
   "metadata": {
    "execution": {
     "iopub.execute_input": "2022-11-02T12:53:36.711132Z",
     "iopub.status.busy": "2022-11-02T12:53:36.710359Z",
     "iopub.status.idle": "2022-11-02T12:53:37.314179Z",
     "shell.execute_reply": "2022-11-02T12:53:37.312414Z"
    },
    "papermill": {
     "duration": 0.618232,
     "end_time": "2022-11-02T12:53:37.317872",
     "exception": false,
     "start_time": "2022-11-02T12:53:36.699640",
     "status": "completed"
    },
    "tags": []
   },
   "outputs": [
    {
     "name": "stderr",
     "output_type": "stream",
     "text": [
      "/opt/conda/lib/python3.7/site-packages/sklearn/linear_model/_logistic.py:818: ConvergenceWarning: lbfgs failed to converge (status=1):\n",
      "STOP: TOTAL NO. of ITERATIONS REACHED LIMIT.\n",
      "\n",
      "Increase the number of iterations (max_iter) or scale the data as shown in:\n",
      "    https://scikit-learn.org/stable/modules/preprocessing.html\n",
      "Please also refer to the documentation for alternative solver options:\n",
      "    https://scikit-learn.org/stable/modules/linear_model.html#logistic-regression\n",
      "  extra_warning_msg=_LOGISTIC_SOLVER_CONVERGENCE_MSG,\n",
      "/opt/conda/lib/python3.7/site-packages/sklearn/linear_model/_logistic.py:818: ConvergenceWarning: lbfgs failed to converge (status=1):\n",
      "STOP: TOTAL NO. of ITERATIONS REACHED LIMIT.\n",
      "\n",
      "Increase the number of iterations (max_iter) or scale the data as shown in:\n",
      "    https://scikit-learn.org/stable/modules/preprocessing.html\n",
      "Please also refer to the documentation for alternative solver options:\n",
      "    https://scikit-learn.org/stable/modules/linear_model.html#logistic-regression\n",
      "  extra_warning_msg=_LOGISTIC_SOLVER_CONVERGENCE_MSG,\n"
     ]
    },
    {
     "name": "stdout",
     "output_type": "stream",
     "text": [
      "LogisticRegression() 0.7920235203885977 0.7988505747126436 LogisticRegression()\n"
     ]
    },
    {
     "name": "stderr",
     "output_type": "stream",
     "text": [
      "/opt/conda/lib/python3.7/site-packages/sklearn/linear_model/_logistic.py:818: ConvergenceWarning: lbfgs failed to converge (status=1):\n",
      "STOP: TOTAL NO. of ITERATIONS REACHED LIMIT.\n",
      "\n",
      "Increase the number of iterations (max_iter) or scale the data as shown in:\n",
      "    https://scikit-learn.org/stable/modules/preprocessing.html\n",
      "Please also refer to the documentation for alternative solver options:\n",
      "    https://scikit-learn.org/stable/modules/linear_model.html#logistic-regression\n",
      "  extra_warning_msg=_LOGISTIC_SOLVER_CONVERGENCE_MSG,\n",
      "/opt/conda/lib/python3.7/site-packages/sklearn/linear_model/_logistic.py:818: ConvergenceWarning: lbfgs failed to converge (status=1):\n",
      "STOP: TOTAL NO. of ITERATIONS REACHED LIMIT.\n",
      "\n",
      "Increase the number of iterations (max_iter) or scale the data as shown in:\n",
      "    https://scikit-learn.org/stable/modules/preprocessing.html\n",
      "Please also refer to the documentation for alternative solver options:\n",
      "    https://scikit-learn.org/stable/modules/linear_model.html#logistic-regression\n",
      "  extra_warning_msg=_LOGISTIC_SOLVER_CONVERGENCE_MSG,\n"
     ]
    }
   ],
   "source": [
    "from sklearn.linear_model import LogisticRegression\n",
    "lr_model = LogisticRegression()\n",
    "lr_params = {}\n",
    "lr_model, results, train_accuracy, test_accuracy, best_estimator = compute_model(lr_model, lr_params)\n",
    "\n",
    "model_results = list()\n",
    "model_prediction = dict()\n",
    "\n",
    "\n",
    "model_results.append([lr_model, train_accuracy, test_accuracy, best_estimator])\n",
    "model_prediction['lr'] = results\n",
    "print(lr_model, train_accuracy, test_accuracy, best_estimator)\n"
   ]
  },
  {
   "cell_type": "code",
   "execution_count": 21,
   "id": "f3eee71a",
   "metadata": {
    "execution": {
     "iopub.execute_input": "2022-11-02T12:53:37.372179Z",
     "iopub.status.busy": "2022-11-02T12:53:37.371577Z",
     "iopub.status.idle": "2022-11-02T13:03:46.528508Z",
     "shell.execute_reply": "2022-11-02T13:03:46.527513Z"
    },
    "papermill": {
     "duration": 609.196723,
     "end_time": "2022-11-02T13:03:46.541127",
     "exception": false,
     "start_time": "2022-11-02T12:53:37.344404",
     "status": "completed"
    },
    "tags": []
   },
   "outputs": [
    {
     "name": "stdout",
     "output_type": "stream",
     "text": [
      "GradientBoostingClassifier() 0.9000383484596702 0.8275862068965517 GradientBoostingClassifier(max_depth=5, n_estimators=200)\n"
     ]
    }
   ],
   "source": [
    "from sklearn.ensemble import GradientBoostingClassifier\n",
    "gb_param_grid = {'max_depth': [5, 6, 7], 'learning_rate': [0.1, 0.2, 0.5, 0.8, 0.05], 'n_estimators': [100, 150, 200, 250, 280]}\n",
    "gb_model = GradientBoostingClassifier()\n",
    "\n",
    "gb_model, results, train_accuracy, test_accuracy, best_estimator = compute_model(gb_model, gb_param_grid)\n",
    "\n",
    "model_results.append([gb_model, train_accuracy, test_accuracy, best_estimator])\n",
    "model_prediction['gb'] = results\n",
    "print(gb_model, train_accuracy, test_accuracy, best_estimator)\n"
   ]
  },
  {
   "cell_type": "code",
   "execution_count": 22,
   "id": "59d0a844",
   "metadata": {
    "execution": {
     "iopub.execute_input": "2022-11-02T13:03:46.562435Z",
     "iopub.status.busy": "2022-11-02T13:03:46.562132Z",
     "iopub.status.idle": "2022-11-02T13:07:35.241646Z",
     "shell.execute_reply": "2022-11-02T13:07:35.240570Z"
    },
    "papermill": {
     "duration": 228.701468,
     "end_time": "2022-11-02T13:07:35.252684",
     "exception": false,
     "start_time": "2022-11-02T13:03:46.551216",
     "status": "completed"
    },
    "tags": []
   },
   "outputs": [
    {
     "name": "stdout",
     "output_type": "stream",
     "text": [
      "<catboost.core.CatBoostClassifier object at 0x7fd56d969190> 0.8540201968554263 0.8310344827586207 <catboost.core.CatBoostClassifier object at 0x7fd560e4e250>\n"
     ]
    }
   ],
   "source": [
    "from catboost import CatBoostClassifier\n",
    "cat_model=CatBoostClassifier(iterations=1500, eval_metric='Accuracy', verbose=0)\n",
    "cat_param_grid = {'max_depth': [4, 5, 6, 7], 'learning_rate': [0.1, 0.2, 0.5, 0.8, 0.05], 'iterations': [100, 150, 200, 250, 280]}\n",
    "cat_model, results, train_accuracy, test_accuracy, best_estimator = compute_model(cat_model, cat_param_grid)\n",
    "\n",
    "model_results.append([cat_model, train_accuracy, test_accuracy, best_estimator])\n",
    "model_prediction['cat'] = results\n",
    "print(cat_model, train_accuracy, test_accuracy, best_estimator)\n",
    "\n"
   ]
  },
  {
   "cell_type": "code",
   "execution_count": 23,
   "id": "cf7c8e3f",
   "metadata": {
    "execution": {
     "iopub.execute_input": "2022-11-02T13:07:35.275955Z",
     "iopub.status.busy": "2022-11-02T13:07:35.274327Z",
     "iopub.status.idle": "2022-11-02T13:08:31.239564Z",
     "shell.execute_reply": "2022-11-02T13:08:31.238565Z"
    },
    "papermill": {
     "duration": 55.989758,
     "end_time": "2022-11-02T13:08:31.252880",
     "exception": false,
     "start_time": "2022-11-02T13:07:35.263122",
     "status": "completed"
    },
    "tags": []
   },
   "outputs": [
    {
     "name": "stdout",
     "output_type": "stream",
     "text": [
      "RandomForestClassifier() 0.8108142656269973 0.7919540229885057 RandomForestClassifier(max_depth=7, n_estimators=280)\n"
     ]
    }
   ],
   "source": [
    "from sklearn.ensemble import RandomForestClassifier\n",
    "rf_param_grid = {'n_estimators': [100, 150, 200, 250, 280], 'max_depth': [3, 4, 5, 6, 7]}\n",
    "rf_model = RandomForestClassifier()\n",
    "rf_model, results, train_accuracy, test_accuracy, best_estimator = compute_model(rf_model, rf_param_grid)\n",
    "\n",
    "model_results.append([rf_model, train_accuracy, test_accuracy, best_estimator])\n",
    "model_prediction['rf'] = results\n",
    "print(rf_model, train_accuracy, test_accuracy, best_estimator)\n"
   ]
  },
  {
   "cell_type": "code",
   "execution_count": 24,
   "id": "dac89c25",
   "metadata": {
    "execution": {
     "iopub.execute_input": "2022-11-02T13:08:31.275230Z",
     "iopub.status.busy": "2022-11-02T13:08:31.274384Z",
     "iopub.status.idle": "2022-11-02T13:09:55.197990Z",
     "shell.execute_reply": "2022-11-02T13:09:55.196963Z"
    },
    "papermill": {
     "duration": 83.948569,
     "end_time": "2022-11-02T13:09:55.211788",
     "exception": false,
     "start_time": "2022-11-02T13:08:31.263219",
     "status": "completed"
    },
    "tags": []
   },
   "outputs": [
    {
     "name": "stdout",
     "output_type": "stream",
     "text": [
      "AdaBoostClassifier() 0.8031445736929567 0.8068965517241379 AdaBoostClassifier(learning_rate=0.2, n_estimators=200)\n"
     ]
    }
   ],
   "source": [
    "#Adaboosting classifier\n",
    "from sklearn.ensemble import AdaBoostClassifier\n",
    "ab_param_grid = {'learning_rate':[0.1, 0.2, 0.5, 0.8, 0.05], 'n_estimators': [100, 150, 200, 250, 280]}\n",
    "ab_model = AdaBoostClassifier()\n",
    "ab_model, results, train_accuracy, test_accuracy, best_estimator = compute_model(ab_model, ab_param_grid)\n",
    "\n",
    "model_results.append([ab_model, train_accuracy, test_accuracy, best_estimator])\n",
    "model_prediction['ab'] = results\n",
    "print(ab_model, train_accuracy, test_accuracy, best_estimator)\n"
   ]
  },
  {
   "cell_type": "code",
   "execution_count": 25,
   "id": "f2c12833",
   "metadata": {
    "execution": {
     "iopub.execute_input": "2022-11-02T13:09:55.245512Z",
     "iopub.status.busy": "2022-11-02T13:09:55.245030Z",
     "iopub.status.idle": "2022-11-02T13:16:36.376968Z",
     "shell.execute_reply": "2022-11-02T13:16:36.375947Z"
    },
    "papermill": {
     "duration": 401.157529,
     "end_time": "2022-11-02T13:16:36.385519",
     "exception": false,
     "start_time": "2022-11-02T13:09:55.227990",
     "status": "completed"
    },
    "tags": []
   },
   "outputs": [
    {
     "name": "stdout",
     "output_type": "stream",
     "text": [
      "XGBClassifier(base_score=None, booster=None, callbacks=None,\n",
      "              colsample_bylevel=None, colsample_bynode=None,\n",
      "              colsample_bytree=None, early_stopping_rounds=None,\n",
      "              enable_categorical=False, eval_metric=None, gamma=None,\n",
      "              gpu_id=None, grow_policy=None, importance_type=None,\n",
      "              interaction_constraints=None, learning_rate=None, max_bin=None,\n",
      "              max_cat_to_onehot=None, max_delta_step=None, max_depth=None,\n",
      "              max_leaves=None, min_child_weight=None, missing=nan,\n",
      "              monotone_constraints=None, n_estimators=100, n_jobs=None,\n",
      "              num_parallel_tree=None, predictor=None, random_state=None,\n",
      "              reg_alpha=None, reg_lambda=None, ...) 0.8708935191103158 0.828735632183908 XGBClassifier(base_score=0.5, booster='gbtree', callbacks=None,\n",
      "              colsample_bylevel=1, colsample_bynode=1, colsample_bytree=1,\n",
      "              early_stopping_rounds=None, enable_categorical=False,\n",
      "              eval_metric=None, gamma=0, gpu_id=-1, grow_policy='depthwise',\n",
      "              importance_type=None, interaction_constraints='',\n",
      "              learning_rate=0.2, max_bin=256, max_cat_to_onehot=4,\n",
      "              max_delta_step=0, max_depth=4, max_leaves=0, min_child_weight=1,\n",
      "              missing=nan, monotone_constraints='()', n_estimators=150,\n",
      "              n_jobs=0, num_parallel_tree=1, predictor='auto', random_state=0,\n",
      "              reg_alpha=0, reg_lambda=1, ...)\n"
     ]
    }
   ],
   "source": [
    "#Extreme Gradient boost classifier\n",
    "from xgboost import XGBClassifier\n",
    "xg_param_grid = {'learning_rate': [0.1, 0.2, 0.5, 0.8, 0.05], 'n_estimators': [100, 150, 200, 250, 280], 'max_depth': [3, 4, 5, 6, 7]}\n",
    "xg_model = XGBClassifier()\n",
    "xg_model, results, train_accuracy, test_accuracy, best_estimator = compute_model(xg_model, xg_param_grid)\n",
    "\n",
    "model_results.append([xg_model, train_accuracy, test_accuracy, best_estimator])\n",
    "model_prediction['xg'] = results\n",
    "print(xg_model, train_accuracy, test_accuracy, best_estimator)\n"
   ]
  },
  {
   "cell_type": "code",
   "execution_count": 26,
   "id": "7ae70507",
   "metadata": {
    "execution": {
     "iopub.execute_input": "2022-11-02T13:16:36.407508Z",
     "iopub.status.busy": "2022-11-02T13:16:36.407208Z",
     "iopub.status.idle": "2022-11-02T13:16:36.690983Z",
     "shell.execute_reply": "2022-11-02T13:16:36.690043Z"
    },
    "papermill": {
     "duration": 0.297246,
     "end_time": "2022-11-02T13:16:36.693187",
     "exception": false,
     "start_time": "2022-11-02T13:16:36.395941",
     "status": "completed"
    },
    "tags": []
   },
   "outputs": [
    {
     "name": "stdout",
     "output_type": "stream",
     "text": [
      "DecisionTreeClassifier() 0.8009714943116452 0.7758620689655172 DecisionTreeClassifier(max_depth=7)\n"
     ]
    }
   ],
   "source": [
    "#Decision Tree\n",
    "from sklearn.tree import DecisionTreeClassifier\n",
    "dt_param_grid = {'max_depth': [3, 4, 5, 6, 7]}\n",
    "dt_model = DecisionTreeClassifier()\n",
    "dt_model, results, train_accuracy, test_accuracy, best_estimator = compute_model(dt_model, dt_param_grid)\n",
    "\n",
    "model_results.append([dt_model, train_accuracy, test_accuracy, best_estimator])\n",
    "model_prediction['dt'] = results\n",
    "print(dt_model, train_accuracy, test_accuracy, best_estimator)\n"
   ]
  },
  {
   "cell_type": "code",
   "execution_count": 27,
   "id": "6314cb97",
   "metadata": {
    "execution": {
     "iopub.execute_input": "2022-11-02T13:16:36.715801Z",
     "iopub.status.busy": "2022-11-02T13:16:36.715023Z",
     "iopub.status.idle": "2022-11-02T13:16:36.719760Z",
     "shell.execute_reply": "2022-11-02T13:16:36.718836Z"
    },
    "papermill": {
     "duration": 0.017936,
     "end_time": "2022-11-02T13:16:36.721814",
     "exception": false,
     "start_time": "2022-11-02T13:16:36.703878",
     "status": "completed"
    },
    "tags": []
   },
   "outputs": [],
   "source": [
    "# #SVM\n",
    "# from sklearn.svm import SVC\n",
    "# sv_param_grid = {'C': [0.1, 0.3, 0.5, 0.7, 1], 'kernel': ['linear', 'rbf', 'poly']}\n",
    "# sv_model = SVC()\n",
    "# sv_model, results, train_accuracy, test_accuracy, best_estimator = compute_model(sv_model, sv_param_grid)\n",
    "\n",
    "# model_results.append([sv_model, train_accuracy, test_accuracy, best_estimator])\n",
    "# model_prediction['sv'] = results\n",
    "# print(sv_model, train_accuracy, test_accuracy, best_estimator)\n"
   ]
  },
  {
   "cell_type": "code",
   "execution_count": 28,
   "id": "1f079657",
   "metadata": {
    "execution": {
     "iopub.execute_input": "2022-11-02T13:16:36.744176Z",
     "iopub.status.busy": "2022-11-02T13:16:36.743422Z",
     "iopub.status.idle": "2022-11-02T13:16:36.937843Z",
     "shell.execute_reply": "2022-11-02T13:16:36.936828Z"
    },
    "papermill": {
     "duration": 0.207819,
     "end_time": "2022-11-02T13:16:36.940113",
     "exception": false,
     "start_time": "2022-11-02T13:16:36.732294",
     "status": "completed"
    },
    "tags": []
   },
   "outputs": [
    {
     "data": {
      "text/html": [
       "<div>\n",
       "<style scoped>\n",
       "    .dataframe tbody tr th:only-of-type {\n",
       "        vertical-align: middle;\n",
       "    }\n",
       "\n",
       "    .dataframe tbody tr th {\n",
       "        vertical-align: top;\n",
       "    }\n",
       "\n",
       "    .dataframe thead th {\n",
       "        text-align: right;\n",
       "    }\n",
       "</style>\n",
       "<table border=\"1\" class=\"dataframe\">\n",
       "  <thead>\n",
       "    <tr style=\"text-align: right;\">\n",
       "      <th></th>\n",
       "      <th>Model Name</th>\n",
       "      <th>Training Accuracy</th>\n",
       "      <th>Test Accuracy</th>\n",
       "      <th>Best Parameters</th>\n",
       "    </tr>\n",
       "  </thead>\n",
       "  <tbody>\n",
       "    <tr>\n",
       "      <th>0</th>\n",
       "      <td>LogisticRegression()</td>\n",
       "      <td>0.792024</td>\n",
       "      <td>0.798851</td>\n",
       "      <td>LogisticRegression()</td>\n",
       "    </tr>\n",
       "    <tr>\n",
       "      <th>1</th>\n",
       "      <td>GradientBoostingClassifier()</td>\n",
       "      <td>0.900038</td>\n",
       "      <td>0.827586</td>\n",
       "      <td>([DecisionTreeRegressor(criterion='friedman_ms...</td>\n",
       "    </tr>\n",
       "    <tr>\n",
       "      <th>2</th>\n",
       "      <td>&lt;catboost.core.CatBoostClassifier object at 0x...</td>\n",
       "      <td>0.854020</td>\n",
       "      <td>0.831034</td>\n",
       "      <td>&lt;catboost.core.CatBoostClassifier object at 0x...</td>\n",
       "    </tr>\n",
       "    <tr>\n",
       "      <th>3</th>\n",
       "      <td>RandomForestClassifier()</td>\n",
       "      <td>0.810814</td>\n",
       "      <td>0.791954</td>\n",
       "      <td>(DecisionTreeClassifier(max_depth=7, max_featu...</td>\n",
       "    </tr>\n",
       "    <tr>\n",
       "      <th>4</th>\n",
       "      <td>AdaBoostClassifier()</td>\n",
       "      <td>0.803145</td>\n",
       "      <td>0.806897</td>\n",
       "      <td>(DecisionTreeClassifier(max_depth=1, random_st...</td>\n",
       "    </tr>\n",
       "    <tr>\n",
       "      <th>5</th>\n",
       "      <td>XGBClassifier(base_score=None, booster=None, c...</td>\n",
       "      <td>0.870894</td>\n",
       "      <td>0.828736</td>\n",
       "      <td>XGBClassifier(base_score=0.5, booster='gbtree'...</td>\n",
       "    </tr>\n",
       "    <tr>\n",
       "      <th>6</th>\n",
       "      <td>DecisionTreeClassifier()</td>\n",
       "      <td>0.800971</td>\n",
       "      <td>0.775862</td>\n",
       "      <td>DecisionTreeClassifier(max_depth=7)</td>\n",
       "    </tr>\n",
       "  </tbody>\n",
       "</table>\n",
       "</div>"
      ],
      "text/plain": [
       "                                          Model Name  Training Accuracy  \\\n",
       "0                               LogisticRegression()           0.792024   \n",
       "1                       GradientBoostingClassifier()           0.900038   \n",
       "2  <catboost.core.CatBoostClassifier object at 0x...           0.854020   \n",
       "3                           RandomForestClassifier()           0.810814   \n",
       "4                               AdaBoostClassifier()           0.803145   \n",
       "5  XGBClassifier(base_score=None, booster=None, c...           0.870894   \n",
       "6                           DecisionTreeClassifier()           0.800971   \n",
       "\n",
       "   Test Accuracy                                    Best Parameters  \n",
       "0       0.798851                               LogisticRegression()  \n",
       "1       0.827586  ([DecisionTreeRegressor(criterion='friedman_ms...  \n",
       "2       0.831034  <catboost.core.CatBoostClassifier object at 0x...  \n",
       "3       0.791954  (DecisionTreeClassifier(max_depth=7, max_featu...  \n",
       "4       0.806897  (DecisionTreeClassifier(max_depth=1, random_st...  \n",
       "5       0.828736  XGBClassifier(base_score=0.5, booster='gbtree'...  \n",
       "6       0.775862                DecisionTreeClassifier(max_depth=7)  "
      ]
     },
     "execution_count": 28,
     "metadata": {},
     "output_type": "execute_result"
    }
   ],
   "source": [
    "results = pd.DataFrame(model_results, columns = ['Model Name', 'Training Accuracy', 'Test Accuracy', 'Best Parameters'])\n",
    "results"
   ]
  },
  {
   "cell_type": "code",
   "execution_count": 29,
   "id": "4a5730e1",
   "metadata": {
    "execution": {
     "iopub.execute_input": "2022-11-02T13:16:36.962600Z",
     "iopub.status.busy": "2022-11-02T13:16:36.962320Z",
     "iopub.status.idle": "2022-11-02T13:16:36.967226Z",
     "shell.execute_reply": "2022-11-02T13:16:36.966430Z"
    },
    "papermill": {
     "duration": 0.018533,
     "end_time": "2022-11-02T13:16:36.969220",
     "exception": false,
     "start_time": "2022-11-02T13:16:36.950687",
     "status": "completed"
    },
    "tags": []
   },
   "outputs": [],
   "source": [
    "# plt.figure(figsize=(10, 6))\n",
    "# sns.barplot(x = results['Model Name'].astype('category'), y = results['Training Accuracy'])\n",
    "# plt.ylim(0.7, 1.0)\n",
    "# plt.xticks(rotation=90)"
   ]
  },
  {
   "cell_type": "code",
   "execution_count": 30,
   "id": "d656faae",
   "metadata": {
    "execution": {
     "iopub.execute_input": "2022-11-02T13:16:36.991815Z",
     "iopub.status.busy": "2022-11-02T13:16:36.991059Z",
     "iopub.status.idle": "2022-11-02T13:16:52.656156Z",
     "shell.execute_reply": "2022-11-02T13:16:52.654957Z"
    },
    "papermill": {
     "duration": 15.678539,
     "end_time": "2022-11-02T13:16:52.658229",
     "exception": false,
     "start_time": "2022-11-02T13:16:36.979690",
     "status": "completed"
    },
    "tags": []
   },
   "outputs": [
    {
     "name": "stdout",
     "output_type": "stream",
     "text": [
      "0.8572159018279433 0.8275862068965517\n"
     ]
    }
   ],
   "source": [
    "from sklearn.ensemble import StackingClassifier\n",
    "from sklearn.metrics import accuracy_score\n",
    "estimators = [('xg', xg_model), ('gb', gb_model)]\n",
    "st_model = StackingClassifier(estimators = estimators, final_estimator=cat_model, cv=5)\n",
    "st_model.fit(xtrain , ytrain)\n",
    "ypred_train = st_model.predict(xtrain)\n",
    "\n",
    "train_accuracy = accuracy_score(ytrain, ypred_train)\n",
    "ypred = st_model.predict(xtest)\n",
    "test_accuracy = accuracy_score(ytest, ypred)\n",
    "    \n",
    "st_results = st_model.predict(test_transformed)\n",
    "print(train_accuracy, test_accuracy)"
   ]
  },
  {
   "cell_type": "code",
   "execution_count": 31,
   "id": "599f5284",
   "metadata": {
    "execution": {
     "iopub.execute_input": "2022-11-02T13:16:52.681213Z",
     "iopub.status.busy": "2022-11-02T13:16:52.680781Z",
     "iopub.status.idle": "2022-11-02T13:16:52.702095Z",
     "shell.execute_reply": "2022-11-02T13:16:52.701250Z"
    },
    "papermill": {
     "duration": 0.034941,
     "end_time": "2022-11-02T13:16:52.704133",
     "exception": false,
     "start_time": "2022-11-02T13:16:52.669192",
     "status": "completed"
    },
    "tags": []
   },
   "outputs": [],
   "source": [
    "sample = pd.read_csv('../input/spaceship-titanic/sample_submission.csv')\n",
    "sample['Transported'] = [True if x==1 else False for x in model_prediction['cat']]\n",
    "sample.to_csv('Submission.csv', index=False)"
   ]
  }
 ],
 "metadata": {
  "kernelspec": {
   "display_name": "Python 3",
   "language": "python",
   "name": "python3"
  },
  "language_info": {
   "codemirror_mode": {
    "name": "ipython",
    "version": 3
   },
   "file_extension": ".py",
   "mimetype": "text/x-python",
   "name": "python",
   "nbconvert_exporter": "python",
   "pygments_lexer": "ipython3",
   "version": "3.7.12"
  },
  "papermill": {
   "default_parameters": {},
   "duration": 1410.75508,
   "end_time": "2022-11-02T13:16:53.839086",
   "environment_variables": {},
   "exception": null,
   "input_path": "__notebook__.ipynb",
   "output_path": "__notebook__.ipynb",
   "parameters": {},
   "start_time": "2022-11-02T12:53:23.084006",
   "version": "2.3.4"
  }
 },
 "nbformat": 4,
 "nbformat_minor": 5
}
