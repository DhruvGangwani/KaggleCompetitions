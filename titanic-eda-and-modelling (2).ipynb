{
 "cells": [
  {
   "cell_type": "code",
   "execution_count": 1,
   "id": "551710b0",
   "metadata": {
    "_cell_guid": "b1076dfc-b9ad-4769-8c92-a6c4dae69d19",
    "_uuid": "8f2839f25d086af736a60e9eeb907d3b93b6e0e5",
    "execution": {
     "iopub.execute_input": "2022-09-06T16:11:44.432651Z",
     "iopub.status.busy": "2022-09-06T16:11:44.432183Z",
     "iopub.status.idle": "2022-09-06T16:11:45.517674Z",
     "shell.execute_reply": "2022-09-06T16:11:45.516756Z"
    },
    "papermill": {
     "duration": 1.102813,
     "end_time": "2022-09-06T16:11:45.520450",
     "exception": false,
     "start_time": "2022-09-06T16:11:44.417637",
     "status": "completed"
    },
    "tags": []
   },
   "outputs": [],
   "source": [
    "#importing libraries\n",
    "import numpy as np\n",
    "import pandas as pd\n",
    "import matplotlib.pyplot as plt\n",
    "import seaborn as sns"
   ]
  },
  {
   "cell_type": "code",
   "execution_count": 2,
   "id": "0c4e4a1a",
   "metadata": {
    "execution": {
     "iopub.execute_input": "2022-09-06T16:11:45.545150Z",
     "iopub.status.busy": "2022-09-06T16:11:45.544691Z",
     "iopub.status.idle": "2022-09-06T16:11:45.582183Z",
     "shell.execute_reply": "2022-09-06T16:11:45.581051Z"
    },
    "papermill": {
     "duration": 0.052886,
     "end_time": "2022-09-06T16:11:45.584501",
     "exception": false,
     "start_time": "2022-09-06T16:11:45.531615",
     "status": "completed"
    },
    "tags": []
   },
   "outputs": [
    {
     "data": {
      "text/html": [
       "<div>\n",
       "<style scoped>\n",
       "    .dataframe tbody tr th:only-of-type {\n",
       "        vertical-align: middle;\n",
       "    }\n",
       "\n",
       "    .dataframe tbody tr th {\n",
       "        vertical-align: top;\n",
       "    }\n",
       "\n",
       "    .dataframe thead th {\n",
       "        text-align: right;\n",
       "    }\n",
       "</style>\n",
       "<table border=\"1\" class=\"dataframe\">\n",
       "  <thead>\n",
       "    <tr style=\"text-align: right;\">\n",
       "      <th></th>\n",
       "      <th>PassengerId</th>\n",
       "      <th>Survived</th>\n",
       "      <th>Pclass</th>\n",
       "      <th>Name</th>\n",
       "      <th>Sex</th>\n",
       "      <th>Age</th>\n",
       "      <th>SibSp</th>\n",
       "      <th>Parch</th>\n",
       "      <th>Ticket</th>\n",
       "      <th>Fare</th>\n",
       "      <th>Cabin</th>\n",
       "      <th>Embarked</th>\n",
       "    </tr>\n",
       "  </thead>\n",
       "  <tbody>\n",
       "    <tr>\n",
       "      <th>0</th>\n",
       "      <td>1</td>\n",
       "      <td>0</td>\n",
       "      <td>3</td>\n",
       "      <td>Braund, Mr. Owen Harris</td>\n",
       "      <td>male</td>\n",
       "      <td>22.0</td>\n",
       "      <td>1</td>\n",
       "      <td>0</td>\n",
       "      <td>A/5 21171</td>\n",
       "      <td>7.2500</td>\n",
       "      <td>NaN</td>\n",
       "      <td>S</td>\n",
       "    </tr>\n",
       "    <tr>\n",
       "      <th>1</th>\n",
       "      <td>2</td>\n",
       "      <td>1</td>\n",
       "      <td>1</td>\n",
       "      <td>Cumings, Mrs. John Bradley (Florence Briggs Th...</td>\n",
       "      <td>female</td>\n",
       "      <td>38.0</td>\n",
       "      <td>1</td>\n",
       "      <td>0</td>\n",
       "      <td>PC 17599</td>\n",
       "      <td>71.2833</td>\n",
       "      <td>C85</td>\n",
       "      <td>C</td>\n",
       "    </tr>\n",
       "    <tr>\n",
       "      <th>2</th>\n",
       "      <td>3</td>\n",
       "      <td>1</td>\n",
       "      <td>3</td>\n",
       "      <td>Heikkinen, Miss. Laina</td>\n",
       "      <td>female</td>\n",
       "      <td>26.0</td>\n",
       "      <td>0</td>\n",
       "      <td>0</td>\n",
       "      <td>STON/O2. 3101282</td>\n",
       "      <td>7.9250</td>\n",
       "      <td>NaN</td>\n",
       "      <td>S</td>\n",
       "    </tr>\n",
       "    <tr>\n",
       "      <th>3</th>\n",
       "      <td>4</td>\n",
       "      <td>1</td>\n",
       "      <td>1</td>\n",
       "      <td>Futrelle, Mrs. Jacques Heath (Lily May Peel)</td>\n",
       "      <td>female</td>\n",
       "      <td>35.0</td>\n",
       "      <td>1</td>\n",
       "      <td>0</td>\n",
       "      <td>113803</td>\n",
       "      <td>53.1000</td>\n",
       "      <td>C123</td>\n",
       "      <td>S</td>\n",
       "    </tr>\n",
       "    <tr>\n",
       "      <th>4</th>\n",
       "      <td>5</td>\n",
       "      <td>0</td>\n",
       "      <td>3</td>\n",
       "      <td>Allen, Mr. William Henry</td>\n",
       "      <td>male</td>\n",
       "      <td>35.0</td>\n",
       "      <td>0</td>\n",
       "      <td>0</td>\n",
       "      <td>373450</td>\n",
       "      <td>8.0500</td>\n",
       "      <td>NaN</td>\n",
       "      <td>S</td>\n",
       "    </tr>\n",
       "  </tbody>\n",
       "</table>\n",
       "</div>"
      ],
      "text/plain": [
       "   PassengerId  Survived  Pclass  \\\n",
       "0            1         0       3   \n",
       "1            2         1       1   \n",
       "2            3         1       3   \n",
       "3            4         1       1   \n",
       "4            5         0       3   \n",
       "\n",
       "                                                Name     Sex   Age  SibSp  \\\n",
       "0                            Braund, Mr. Owen Harris    male  22.0      1   \n",
       "1  Cumings, Mrs. John Bradley (Florence Briggs Th...  female  38.0      1   \n",
       "2                             Heikkinen, Miss. Laina  female  26.0      0   \n",
       "3       Futrelle, Mrs. Jacques Heath (Lily May Peel)  female  35.0      1   \n",
       "4                           Allen, Mr. William Henry    male  35.0      0   \n",
       "\n",
       "   Parch            Ticket     Fare Cabin Embarked  \n",
       "0      0         A/5 21171   7.2500   NaN        S  \n",
       "1      0          PC 17599  71.2833   C85        C  \n",
       "2      0  STON/O2. 3101282   7.9250   NaN        S  \n",
       "3      0            113803  53.1000  C123        S  \n",
       "4      0            373450   8.0500   NaN        S  "
      ]
     },
     "execution_count": 2,
     "metadata": {},
     "output_type": "execute_result"
    }
   ],
   "source": [
    "train = pd.read_csv('/kaggle/input/titanic/train.csv')\n",
    "train.head()"
   ]
  },
  {
   "cell_type": "code",
   "execution_count": 3,
   "id": "29120f0a",
   "metadata": {
    "execution": {
     "iopub.execute_input": "2022-09-06T16:11:45.608922Z",
     "iopub.status.busy": "2022-09-06T16:11:45.608169Z",
     "iopub.status.idle": "2022-09-06T16:11:45.633244Z",
     "shell.execute_reply": "2022-09-06T16:11:45.632195Z"
    },
    "papermill": {
     "duration": 0.039847,
     "end_time": "2022-09-06T16:11:45.635561",
     "exception": false,
     "start_time": "2022-09-06T16:11:45.595714",
     "status": "completed"
    },
    "tags": []
   },
   "outputs": [
    {
     "data": {
      "text/html": [
       "<div>\n",
       "<style scoped>\n",
       "    .dataframe tbody tr th:only-of-type {\n",
       "        vertical-align: middle;\n",
       "    }\n",
       "\n",
       "    .dataframe tbody tr th {\n",
       "        vertical-align: top;\n",
       "    }\n",
       "\n",
       "    .dataframe thead th {\n",
       "        text-align: right;\n",
       "    }\n",
       "</style>\n",
       "<table border=\"1\" class=\"dataframe\">\n",
       "  <thead>\n",
       "    <tr style=\"text-align: right;\">\n",
       "      <th></th>\n",
       "      <th>PassengerId</th>\n",
       "      <th>Pclass</th>\n",
       "      <th>Name</th>\n",
       "      <th>Sex</th>\n",
       "      <th>Age</th>\n",
       "      <th>SibSp</th>\n",
       "      <th>Parch</th>\n",
       "      <th>Ticket</th>\n",
       "      <th>Fare</th>\n",
       "      <th>Cabin</th>\n",
       "      <th>Embarked</th>\n",
       "    </tr>\n",
       "  </thead>\n",
       "  <tbody>\n",
       "    <tr>\n",
       "      <th>0</th>\n",
       "      <td>892</td>\n",
       "      <td>3</td>\n",
       "      <td>Kelly, Mr. James</td>\n",
       "      <td>male</td>\n",
       "      <td>34.5</td>\n",
       "      <td>0</td>\n",
       "      <td>0</td>\n",
       "      <td>330911</td>\n",
       "      <td>7.8292</td>\n",
       "      <td>NaN</td>\n",
       "      <td>Q</td>\n",
       "    </tr>\n",
       "    <tr>\n",
       "      <th>1</th>\n",
       "      <td>893</td>\n",
       "      <td>3</td>\n",
       "      <td>Wilkes, Mrs. James (Ellen Needs)</td>\n",
       "      <td>female</td>\n",
       "      <td>47.0</td>\n",
       "      <td>1</td>\n",
       "      <td>0</td>\n",
       "      <td>363272</td>\n",
       "      <td>7.0000</td>\n",
       "      <td>NaN</td>\n",
       "      <td>S</td>\n",
       "    </tr>\n",
       "    <tr>\n",
       "      <th>2</th>\n",
       "      <td>894</td>\n",
       "      <td>2</td>\n",
       "      <td>Myles, Mr. Thomas Francis</td>\n",
       "      <td>male</td>\n",
       "      <td>62.0</td>\n",
       "      <td>0</td>\n",
       "      <td>0</td>\n",
       "      <td>240276</td>\n",
       "      <td>9.6875</td>\n",
       "      <td>NaN</td>\n",
       "      <td>Q</td>\n",
       "    </tr>\n",
       "    <tr>\n",
       "      <th>3</th>\n",
       "      <td>895</td>\n",
       "      <td>3</td>\n",
       "      <td>Wirz, Mr. Albert</td>\n",
       "      <td>male</td>\n",
       "      <td>27.0</td>\n",
       "      <td>0</td>\n",
       "      <td>0</td>\n",
       "      <td>315154</td>\n",
       "      <td>8.6625</td>\n",
       "      <td>NaN</td>\n",
       "      <td>S</td>\n",
       "    </tr>\n",
       "    <tr>\n",
       "      <th>4</th>\n",
       "      <td>896</td>\n",
       "      <td>3</td>\n",
       "      <td>Hirvonen, Mrs. Alexander (Helga E Lindqvist)</td>\n",
       "      <td>female</td>\n",
       "      <td>22.0</td>\n",
       "      <td>1</td>\n",
       "      <td>1</td>\n",
       "      <td>3101298</td>\n",
       "      <td>12.2875</td>\n",
       "      <td>NaN</td>\n",
       "      <td>S</td>\n",
       "    </tr>\n",
       "  </tbody>\n",
       "</table>\n",
       "</div>"
      ],
      "text/plain": [
       "   PassengerId  Pclass                                          Name     Sex  \\\n",
       "0          892       3                              Kelly, Mr. James    male   \n",
       "1          893       3              Wilkes, Mrs. James (Ellen Needs)  female   \n",
       "2          894       2                     Myles, Mr. Thomas Francis    male   \n",
       "3          895       3                              Wirz, Mr. Albert    male   \n",
       "4          896       3  Hirvonen, Mrs. Alexander (Helga E Lindqvist)  female   \n",
       "\n",
       "    Age  SibSp  Parch   Ticket     Fare Cabin Embarked  \n",
       "0  34.5      0      0   330911   7.8292   NaN        Q  \n",
       "1  47.0      1      0   363272   7.0000   NaN        S  \n",
       "2  62.0      0      0   240276   9.6875   NaN        Q  \n",
       "3  27.0      0      0   315154   8.6625   NaN        S  \n",
       "4  22.0      1      1  3101298  12.2875   NaN        S  "
      ]
     },
     "execution_count": 3,
     "metadata": {},
     "output_type": "execute_result"
    }
   ],
   "source": [
    "test = pd.read_csv('/kaggle/input/titanic/test.csv')\n",
    "test.head()"
   ]
  },
  {
   "cell_type": "code",
   "execution_count": 4,
   "id": "6833a79b",
   "metadata": {
    "execution": {
     "iopub.execute_input": "2022-09-06T16:11:45.662149Z",
     "iopub.status.busy": "2022-09-06T16:11:45.661703Z",
     "iopub.status.idle": "2022-09-06T16:11:45.666847Z",
     "shell.execute_reply": "2022-09-06T16:11:45.665701Z"
    },
    "papermill": {
     "duration": 0.020095,
     "end_time": "2022-09-06T16:11:45.669135",
     "exception": false,
     "start_time": "2022-09-06T16:11:45.649040",
     "status": "completed"
    },
    "tags": []
   },
   "outputs": [],
   "source": [
    "import random\n",
    "random.seed(1234)"
   ]
  },
  {
   "cell_type": "code",
   "execution_count": 5,
   "id": "623c3bc1",
   "metadata": {
    "execution": {
     "iopub.execute_input": "2022-09-06T16:11:45.693796Z",
     "iopub.status.busy": "2022-09-06T16:11:45.693116Z",
     "iopub.status.idle": "2022-09-06T16:11:46.382877Z",
     "shell.execute_reply": "2022-09-06T16:11:46.381753Z"
    },
    "papermill": {
     "duration": 0.704752,
     "end_time": "2022-09-06T16:11:46.385211",
     "exception": false,
     "start_time": "2022-09-06T16:11:45.680459",
     "status": "completed"
    },
    "tags": []
   },
   "outputs": [
    {
     "data": {
      "text/plain": [
       "Text(0.5, 1.0, 'Missing Values in Train dataset')"
      ]
     },
     "execution_count": 5,
     "metadata": {},
     "output_type": "execute_result"
    },
    {
     "data": {
      "image/png": "[encoded data removed]",
      "text/plain": [
       "<Figure size 720x432 with 2 Axes>"
      ]
     },
     "metadata": {
      "needs_background": "light"
     },
     "output_type": "display_data"
    }
   ],
   "source": [
    "#missing values in train dataset\n",
    "plt.figure(figsize=(10, 6))\n",
    "sns.heatmap(train.isnull())\n",
    "plt.title('Missing Values in Train dataset', size=16)"
   ]
  },
  {
   "cell_type": "code",
   "execution_count": 6,
   "id": "369b6e93",
   "metadata": {
    "execution": {
     "iopub.execute_input": "2022-09-06T16:11:46.410989Z",
     "iopub.status.busy": "2022-09-06T16:11:46.410548Z",
     "iopub.status.idle": "2022-09-06T16:11:46.912884Z",
     "shell.execute_reply": "2022-09-06T16:11:46.911734Z"
    },
    "papermill": {
     "duration": 0.518,
     "end_time": "2022-09-06T16:11:46.915295",
     "exception": false,
     "start_time": "2022-09-06T16:11:46.397295",
     "status": "completed"
    },
    "tags": []
   },
   "outputs": [
    {
     "data": {
      "text/plain": [
       "Text(0.5, 1.0, 'Missing Values in Test dataset')"
      ]
     },
     "execution_count": 6,
     "metadata": {},
     "output_type": "execute_result"
    },
    {
     "data": {
      "image/png": "[encoded data removed]",
      "text/plain": [
       "<Figure size 720x432 with 2 Axes>"
      ]
     },
     "metadata": {
      "needs_background": "light"
     },
     "output_type": "display_data"
    }
   ],
   "source": [
    "#missing values in test dataset\n",
    "plt.figure(figsize=(10, 6))\n",
    "sns.heatmap(test.isnull())\n",
    "plt.title('Missing Values in Test dataset', size=16)"
   ]
  },
  {
   "cell_type": "code",
   "execution_count": 7,
   "id": "8ff6215d",
   "metadata": {
    "execution": {
     "iopub.execute_input": "2022-09-06T16:11:46.942632Z",
     "iopub.status.busy": "2022-09-06T16:11:46.942202Z",
     "iopub.status.idle": "2022-09-06T16:11:46.966571Z",
     "shell.execute_reply": "2022-09-06T16:11:46.965400Z"
    },
    "papermill": {
     "duration": 0.041214,
     "end_time": "2022-09-06T16:11:46.969186",
     "exception": false,
     "start_time": "2022-09-06T16:11:46.927972",
     "status": "completed"
    },
    "tags": []
   },
   "outputs": [
    {
     "name": "stdout",
     "output_type": "stream",
     "text": [
      "<class 'pandas.core.frame.DataFrame'>\n",
      "RangeIndex: 891 entries, 0 to 890\n",
      "Data columns (total 12 columns):\n",
      " #   Column       Non-Null Count  Dtype  \n",
      "---  ------       --------------  -----  \n",
      " 0   PassengerId  891 non-null    int64  \n",
      " 1   Survived     891 non-null    int64  \n",
      " 2   Pclass       891 non-null    int64  \n",
      " 3   Name         891 non-null    object \n",
      " 4   Sex          891 non-null    object \n",
      " 5   Age          714 non-null    float64\n",
      " 6   SibSp        891 non-null    int64  \n",
      " 7   Parch        891 non-null    int64  \n",
      " 8   Ticket       891 non-null    object \n",
      " 9   Fare         891 non-null    float64\n",
      " 10  Cabin        204 non-null    object \n",
      " 11  Embarked     889 non-null    object \n",
      "dtypes: float64(2), int64(5), object(5)\n",
      "memory usage: 83.7+ KB\n"
     ]
    }
   ],
   "source": [
    "train.info()"
   ]
  },
  {
   "cell_type": "code",
   "execution_count": 8,
   "id": "b76f3140",
   "metadata": {
    "execution": {
     "iopub.execute_input": "2022-09-06T16:11:46.996564Z",
     "iopub.status.busy": "2022-09-06T16:11:46.996151Z",
     "iopub.status.idle": "2022-09-06T16:11:47.004826Z",
     "shell.execute_reply": "2022-09-06T16:11:47.003988Z"
    },
    "papermill": {
     "duration": 0.025191,
     "end_time": "2022-09-06T16:11:47.007054",
     "exception": false,
     "start_time": "2022-09-06T16:11:46.981863",
     "status": "completed"
    },
    "tags": []
   },
   "outputs": [],
   "source": [
    "#dropping passengerid and name column\n",
    "train.drop(['PassengerId', 'Name'], axis=1, inplace=True)\n",
    "test.drop(['PassengerId', 'Name'], axis=1, inplace=True)"
   ]
  },
  {
   "cell_type": "code",
   "execution_count": 9,
   "id": "3d194ff4",
   "metadata": {
    "execution": {
     "iopub.execute_input": "2022-09-06T16:11:47.034315Z",
     "iopub.status.busy": "2022-09-06T16:11:47.033565Z",
     "iopub.status.idle": "2022-09-06T16:11:47.565105Z",
     "shell.execute_reply": "2022-09-06T16:11:47.563856Z"
    },
    "papermill": {
     "duration": 0.548064,
     "end_time": "2022-09-06T16:11:47.567707",
     "exception": false,
     "start_time": "2022-09-06T16:11:47.019643",
     "status": "completed"
    },
    "tags": []
   },
   "outputs": [
    {
     "name": "stderr",
     "output_type": "stream",
     "text": [
      "/opt/conda/lib/python3.7/site-packages/seaborn/_decorators.py:43: FutureWarning: Pass the following variable as a keyword arg: x. From version 0.12, the only valid positional argument will be `data`, and passing other arguments without an explicit keyword will result in an error or misinterpretation.\n",
      "  FutureWarning\n"
     ]
    },
    {
     "data": {
      "text/plain": [
       "Text(0.5, 1.0, 'Count Plot of Embarked')"
      ]
     },
     "execution_count": 9,
     "metadata": {},
     "output_type": "execute_result"
    },
    {
     "data": {
      "image/png": "[encoded data removed]",
      "text/plain": [
       "<Figure size 720x432 with 1 Axes>"
      ]
     },
     "metadata": {
      "needs_background": "light"
     },
     "output_type": "display_data"
    },
    {
     "data": {
      "image/png": "[encoded data removed]",
      "text/plain": [
       "<Figure size 720x432 with 1 Axes>"
      ]
     },
     "metadata": {
      "needs_background": "light"
     },
     "output_type": "display_data"
    }
   ],
   "source": [
    "#plotting missing numbers cols of train dataset\n",
    "plt.figure(figsize=(10, 6))\n",
    "sns.histplot(train['Age'])\n",
    "plt.title('Histogram of Age', size=16)\n",
    "plt.figure(figsize=(10, 6))\n",
    "sns.countplot('Embarked', data=train)\n",
    "plt.title('Count Plot of Embarked', size=16)\n"
   ]
  },
  {
   "cell_type": "code",
   "execution_count": 10,
   "id": "a41e91e1",
   "metadata": {
    "execution": {
     "iopub.execute_input": "2022-09-06T16:11:47.596621Z",
     "iopub.status.busy": "2022-09-06T16:11:47.596193Z",
     "iopub.status.idle": "2022-09-06T16:11:47.605607Z",
     "shell.execute_reply": "2022-09-06T16:11:47.604412Z"
    },
    "papermill": {
     "duration": 0.026151,
     "end_time": "2022-09-06T16:11:47.607722",
     "exception": false,
     "start_time": "2022-09-06T16:11:47.581571",
     "status": "completed"
    },
    "tags": []
   },
   "outputs": [],
   "source": [
    "#imputing missing values\n",
    "train['Embarked'].fillna(train['Embarked'].mode()[0], inplace=True)\n",
    "train['Age'].fillna(train['Age'].median(), inplace=True)"
   ]
  },
  {
   "cell_type": "code",
   "execution_count": 11,
   "id": "c0be17ed",
   "metadata": {
    "execution": {
     "iopub.execute_input": "2022-09-06T16:11:47.636152Z",
     "iopub.status.busy": "2022-09-06T16:11:47.635713Z",
     "iopub.status.idle": "2022-09-06T16:11:47.649747Z",
     "shell.execute_reply": "2022-09-06T16:11:47.648561Z"
    },
    "papermill": {
     "duration": 0.031868,
     "end_time": "2022-09-06T16:11:47.652801",
     "exception": false,
     "start_time": "2022-09-06T16:11:47.620933",
     "status": "completed"
    },
    "tags": []
   },
   "outputs": [
    {
     "name": "stdout",
     "output_type": "stream",
     "text": [
      "<class 'pandas.core.frame.DataFrame'>\n",
      "RangeIndex: 418 entries, 0 to 417\n",
      "Data columns (total 9 columns):\n",
      " #   Column    Non-Null Count  Dtype  \n",
      "---  ------    --------------  -----  \n",
      " 0   Pclass    418 non-null    int64  \n",
      " 1   Sex       418 non-null    object \n",
      " 2   Age       332 non-null    float64\n",
      " 3   SibSp     418 non-null    int64  \n",
      " 4   Parch     418 non-null    int64  \n",
      " 5   Ticket    418 non-null    object \n",
      " 6   Fare      417 non-null    float64\n",
      " 7   Cabin     91 non-null     object \n",
      " 8   Embarked  418 non-null    object \n",
      "dtypes: float64(2), int64(3), object(4)\n",
      "memory usage: 29.5+ KB\n"
     ]
    }
   ],
   "source": [
    "#describe test dataset\n",
    "test.info()"
   ]
  },
  {
   "cell_type": "code",
   "execution_count": 12,
   "id": "02f96f68",
   "metadata": {
    "execution": {
     "iopub.execute_input": "2022-09-06T16:11:47.682797Z",
     "iopub.status.busy": "2022-09-06T16:11:47.682355Z",
     "iopub.status.idle": "2022-09-06T16:11:48.404735Z",
     "shell.execute_reply": "2022-09-06T16:11:48.403661Z"
    },
    "papermill": {
     "duration": 0.739351,
     "end_time": "2022-09-06T16:11:48.407193",
     "exception": false,
     "start_time": "2022-09-06T16:11:47.667842",
     "status": "completed"
    },
    "tags": []
   },
   "outputs": [
    {
     "data": {
      "text/plain": [
       "Text(0.5, 1.0, 'Histogram Plot of Fare')"
      ]
     },
     "execution_count": 12,
     "metadata": {},
     "output_type": "execute_result"
    },
    {
     "data": {
      "image/png": "[encoded data removed]",
      "text/plain": [
       "<Figure size 720x432 with 1 Axes>"
      ]
     },
     "metadata": {
      "needs_background": "light"
     },
     "output_type": "display_data"
    },
    {
     "data": {
      "image/png": "[encoded data removed]",
      "text/plain": [
       "<Figure size 720x432 with 1 Axes>"
      ]
     },
     "metadata": {
      "needs_background": "light"
     },
     "output_type": "display_data"
    }
   ],
   "source": [
    "#plotting missing values cols of test dataset\n",
    "plt.figure(figsize=(10, 6))\n",
    "sns.histplot(train['Age'])\n",
    "plt.title('Histogram of Age', size=16)\n",
    "plt.figure(figsize=(10, 6))\n",
    "sns.histplot(train['Fare'])\n",
    "plt.title('Histogram Plot of Fare', size=16)\n",
    "\n"
   ]
  },
  {
   "cell_type": "code",
   "execution_count": 13,
   "id": "3359cb8a",
   "metadata": {
    "execution": {
     "iopub.execute_input": "2022-09-06T16:11:48.437185Z",
     "iopub.status.busy": "2022-09-06T16:11:48.436795Z",
     "iopub.status.idle": "2022-09-06T16:11:48.443911Z",
     "shell.execute_reply": "2022-09-06T16:11:48.442950Z"
    },
    "papermill": {
     "duration": 0.025442,
     "end_time": "2022-09-06T16:11:48.446382",
     "exception": false,
     "start_time": "2022-09-06T16:11:48.420940",
     "status": "completed"
    },
    "tags": []
   },
   "outputs": [],
   "source": [
    "#imputing missing values \n",
    "test['Fare'].fillna(test['Fare'].median(), inplace=True)\n",
    "test['Age'].fillna(test['Age'].median(), inplace=True)"
   ]
  },
  {
   "cell_type": "code",
   "execution_count": 14,
   "id": "349006c1",
   "metadata": {
    "execution": {
     "iopub.execute_input": "2022-09-06T16:11:48.476163Z",
     "iopub.status.busy": "2022-09-06T16:11:48.475790Z",
     "iopub.status.idle": "2022-09-06T16:11:48.730738Z",
     "shell.execute_reply": "2022-09-06T16:11:48.729340Z"
    },
    "papermill": {
     "duration": 0.272895,
     "end_time": "2022-09-06T16:11:48.733297",
     "exception": false,
     "start_time": "2022-09-06T16:11:48.460402",
     "status": "completed"
    },
    "tags": []
   },
   "outputs": [
    {
     "name": "stderr",
     "output_type": "stream",
     "text": [
      "/opt/conda/lib/python3.7/site-packages/seaborn/_decorators.py:43: FutureWarning: Pass the following variable as a keyword arg: x. From version 0.12, the only valid positional argument will be `data`, and passing other arguments without an explicit keyword will result in an error or misinterpretation.\n",
      "  FutureWarning\n"
     ]
    },
    {
     "data": {
      "text/plain": [
       "Text(0.5, 1.0, 'Class of Passenger over Survival')"
      ]
     },
     "execution_count": 14,
     "metadata": {},
     "output_type": "execute_result"
    },
    {
     "data": {
      "image/png": "[encoded data removed]",
      "text/plain": [
       "<Figure size 720x432 with 1 Axes>"
      ]
     },
     "metadata": {
      "needs_background": "light"
     },
     "output_type": "display_data"
    }
   ],
   "source": [
    "plt.figure(figsize=(10, 6))\n",
    "sns.countplot(train['Pclass'], hue= train['Survived'])\n",
    "plt.title('Class of Passenger over Survival', size=16)\n"
   ]
  },
  {
   "cell_type": "code",
   "execution_count": 15,
   "id": "f8fd047c",
   "metadata": {
    "execution": {
     "iopub.execute_input": "2022-09-06T16:11:48.763887Z",
     "iopub.status.busy": "2022-09-06T16:11:48.763435Z",
     "iopub.status.idle": "2022-09-06T16:11:49.023230Z",
     "shell.execute_reply": "2022-09-06T16:11:49.022064Z"
    },
    "papermill": {
     "duration": 0.278142,
     "end_time": "2022-09-06T16:11:49.025738",
     "exception": false,
     "start_time": "2022-09-06T16:11:48.747596",
     "status": "completed"
    },
    "tags": []
   },
   "outputs": [
    {
     "name": "stderr",
     "output_type": "stream",
     "text": [
      "/opt/conda/lib/python3.7/site-packages/seaborn/_decorators.py:43: FutureWarning: Pass the following variable as a keyword arg: x. From version 0.12, the only valid positional argument will be `data`, and passing other arguments without an explicit keyword will result in an error or misinterpretation.\n",
      "  FutureWarning\n"
     ]
    },
    {
     "data": {
      "text/plain": [
       "Text(0.5, 1.0, 'Embarked with respect to Survival')"
      ]
     },
     "execution_count": 15,
     "metadata": {},
     "output_type": "execute_result"
    },
    {
     "data": {
      "image/png": "[encoded data removed]",
      "text/plain": [
       "<Figure size 720x432 with 1 Axes>"
      ]
     },
     "metadata": {
      "needs_background": "light"
     },
     "output_type": "display_data"
    }
   ],
   "source": [
    "plt.figure(figsize=(10, 6))\n",
    "sns.countplot(train['Embarked'], hue= train['Survived'])\n",
    "plt.title('Embarked with respect to Survival', size=16)\n"
   ]
  },
  {
   "cell_type": "code",
   "execution_count": 16,
   "id": "36d2384a",
   "metadata": {
    "execution": {
     "iopub.execute_input": "2022-09-06T16:11:49.057378Z",
     "iopub.status.busy": "2022-09-06T16:11:49.056268Z",
     "iopub.status.idle": "2022-09-06T16:11:49.493715Z",
     "shell.execute_reply": "2022-09-06T16:11:49.492130Z"
    },
    "papermill": {
     "duration": 0.455753,
     "end_time": "2022-09-06T16:11:49.496129",
     "exception": false,
     "start_time": "2022-09-06T16:11:49.040376",
     "status": "completed"
    },
    "tags": []
   },
   "outputs": [
    {
     "data": {
      "text/plain": [
       "Text(0.5, 1.0, 'Histogram of Age with respect to Survival')"
      ]
     },
     "execution_count": 16,
     "metadata": {},
     "output_type": "execute_result"
    },
    {
     "data": {
      "image/png": "[encoded data removed]",
      "text/plain": [
       "<Figure size 720x432 with 1 Axes>"
      ]
     },
     "metadata": {
      "needs_background": "light"
     },
     "output_type": "display_data"
    }
   ],
   "source": [
    "\n",
    "plt.figure(figsize=(10, 6))\n",
    "sns.histplot(x='Age', hue='Survived', data=train)\n",
    "plt.title('Histogram of Age with respect to Survival', size=16)\n"
   ]
  },
  {
   "cell_type": "code",
   "execution_count": 17,
   "id": "7082bf87",
   "metadata": {
    "execution": {
     "iopub.execute_input": "2022-09-06T16:11:49.528964Z",
     "iopub.status.busy": "2022-09-06T16:11:49.528524Z",
     "iopub.status.idle": "2022-09-06T16:11:49.817155Z",
     "shell.execute_reply": "2022-09-06T16:11:49.816068Z"
    },
    "papermill": {
     "duration": 0.307701,
     "end_time": "2022-09-06T16:11:49.819656",
     "exception": false,
     "start_time": "2022-09-06T16:11:49.511955",
     "status": "completed"
    },
    "tags": []
   },
   "outputs": [
    {
     "name": "stderr",
     "output_type": "stream",
     "text": [
      "/opt/conda/lib/python3.7/site-packages/seaborn/_decorators.py:43: FutureWarning: Pass the following variable as a keyword arg: x. From version 0.12, the only valid positional argument will be `data`, and passing other arguments without an explicit keyword will result in an error or misinterpretation.\n",
      "  FutureWarning\n"
     ]
    },
    {
     "data": {
      "text/plain": [
       "Text(0.5, 1.0, 'Count plot of Parch with respect to Survival')"
      ]
     },
     "execution_count": 17,
     "metadata": {},
     "output_type": "execute_result"
    },
    {
     "data": {
      "image/png": "[encoded data removed]",
      "text/plain": [
       "<Figure size 720x432 with 1 Axes>"
      ]
     },
     "metadata": {
      "needs_background": "light"
     },
     "output_type": "display_data"
    }
   ],
   "source": [
    "#Count plot of Parch with respect to Survival\n",
    "plt.figure(figsize=(10, 6))\n",
    "sns.countplot(train['Parch'], hue= train['Survived'])\n",
    "plt.title('Count plot of Parch with respect to Survival', size=16)"
   ]
  },
  {
   "cell_type": "code",
   "execution_count": 18,
   "id": "313dbdbc",
   "metadata": {
    "execution": {
     "iopub.execute_input": "2022-09-06T16:11:49.853838Z",
     "iopub.status.busy": "2022-09-06T16:11:49.853407Z",
     "iopub.status.idle": "2022-09-06T16:11:50.295901Z",
     "shell.execute_reply": "2022-09-06T16:11:50.294706Z"
    },
    "papermill": {
     "duration": 0.463054,
     "end_time": "2022-09-06T16:11:50.298309",
     "exception": false,
     "start_time": "2022-09-06T16:11:49.835255",
     "status": "completed"
    },
    "tags": []
   },
   "outputs": [
    {
     "name": "stderr",
     "output_type": "stream",
     "text": [
      "/opt/conda/lib/python3.7/site-packages/seaborn/_decorators.py:43: FutureWarning: Pass the following variable as a keyword arg: x. From version 0.12, the only valid positional argument will be `data`, and passing other arguments without an explicit keyword will result in an error or misinterpretation.\n",
      "  FutureWarning\n"
     ]
    },
    {
     "data": {
      "text/plain": [
       "Text(0.5, 1.0, 'Count plot of SibSp with respect to Survival')"
      ]
     },
     "execution_count": 18,
     "metadata": {},
     "output_type": "execute_result"
    },
    {
     "data": {
      "image/png": "[encoded data removed]",
      "text/plain": [
       "<Figure size 720x432 with 1 Axes>"
      ]
     },
     "metadata": {
      "needs_background": "light"
     },
     "output_type": "display_data"
    }
   ],
   "source": [
    "plt.figure(figsize=(10, 6))\n",
    "sns.countplot(train['SibSp'], hue= train['Survived'])\n",
    "plt.title('Count plot of SibSp with respect to Survival', size=16)\n"
   ]
  },
  {
   "cell_type": "code",
   "execution_count": 19,
   "id": "b7b002dc",
   "metadata": {
    "execution": {
     "iopub.execute_input": "2022-09-06T16:11:50.333811Z",
     "iopub.status.busy": "2022-09-06T16:11:50.333057Z",
     "iopub.status.idle": "2022-09-06T16:11:50.565463Z",
     "shell.execute_reply": "2022-09-06T16:11:50.564292Z"
    },
    "papermill": {
     "duration": 0.253666,
     "end_time": "2022-09-06T16:11:50.568223",
     "exception": false,
     "start_time": "2022-09-06T16:11:50.314557",
     "status": "completed"
    },
    "tags": []
   },
   "outputs": [
    {
     "name": "stderr",
     "output_type": "stream",
     "text": [
      "/opt/conda/lib/python3.7/site-packages/seaborn/_decorators.py:43: FutureWarning: Pass the following variable as a keyword arg: x. From version 0.12, the only valid positional argument will be `data`, and passing other arguments without an explicit keyword will result in an error or misinterpretation.\n",
      "  FutureWarning\n"
     ]
    },
    {
     "data": {
      "text/plain": [
       "Text(0.5, 1.0, 'Count plot of Sex with respect to Survival')"
      ]
     },
     "execution_count": 19,
     "metadata": {},
     "output_type": "execute_result"
    },
    {
     "data": {
      "image/png": "[encoded data removed]",
      "text/plain": [
       "<Figure size 720x432 with 1 Axes>"
      ]
     },
     "metadata": {
      "needs_background": "light"
     },
     "output_type": "display_data"
    }
   ],
   "source": [
    "plt.figure(figsize=(10, 6))\n",
    "sns.countplot(train['Sex'], hue= train['Survived'])\n",
    "plt.title('Count plot of Sex with respect to Survival', size=16)\n",
    "\n"
   ]
  },
  {
   "cell_type": "code",
   "execution_count": 20,
   "id": "f1ab6fcc",
   "metadata": {
    "execution": {
     "iopub.execute_input": "2022-09-06T16:11:50.604816Z",
     "iopub.status.busy": "2022-09-06T16:11:50.604362Z",
     "iopub.status.idle": "2022-09-06T16:11:50.752923Z",
     "shell.execute_reply": "2022-09-06T16:11:50.751509Z"
    },
    "papermill": {
     "duration": 0.171335,
     "end_time": "2022-09-06T16:11:50.756813",
     "exception": false,
     "start_time": "2022-09-06T16:11:50.585478",
     "status": "completed"
    },
    "tags": []
   },
   "outputs": [
    {
     "name": "stdout",
     "output_type": "stream",
     "text": [
      "0    549\n",
      "1    342\n",
      "Name: Survived, dtype: int64\n"
     ]
    },
    {
     "data": {
      "text/plain": [
       "Text(0.5, 1.0, 'Class distribution')"
      ]
     },
     "execution_count": 20,
     "metadata": {},
     "output_type": "execute_result"
    },
    {
     "data": {
      "image/png": "[encoded data removed]",
      "text/plain": [
       "<Figure size 864x576 with 1 Axes>"
      ]
     },
     "metadata": {},
     "output_type": "display_data"
    }
   ],
   "source": [
    "value_counts = train['Survived'].value_counts()\n",
    "print(value_counts)\n",
    "\n",
    "\n",
    "plt.figure(figsize=(12,8))\n",
    "plt.pie(value_counts, labels = ['Not Survived', 'Survived'],autopct='%1.1f%%')\n",
    "plt.title('Class distribution', size=18)"
   ]
  },
  {
   "cell_type": "code",
   "execution_count": 21,
   "id": "2fb08df2",
   "metadata": {
    "execution": {
     "iopub.execute_input": "2022-09-06T16:11:50.823915Z",
     "iopub.status.busy": "2022-09-06T16:11:50.823468Z",
     "iopub.status.idle": "2022-09-06T16:11:51.283643Z",
     "shell.execute_reply": "2022-09-06T16:11:51.282603Z"
    },
    "papermill": {
     "duration": 0.485361,
     "end_time": "2022-09-06T16:11:51.286302",
     "exception": false,
     "start_time": "2022-09-06T16:11:50.800941",
     "status": "completed"
    },
    "tags": []
   },
   "outputs": [
    {
     "data": {
      "text/plain": [
       "<AxesSubplot:>"
      ]
     },
     "execution_count": 21,
     "metadata": {},
     "output_type": "execute_result"
    },
    {
     "data": {
      "image/png": "[encoded data removed]",
      "text/plain": [
       "<Figure size 720x432 with 2 Axes>"
      ]
     },
     "metadata": {
      "needs_background": "light"
     },
     "output_type": "display_data"
    }
   ],
   "source": [
    "correlation = train.corr(method='spearman')\n",
    "plt.figure(figsize=(10, 6))\n",
    "sns.heatmap(correlation, annot=True)\n"
   ]
  },
  {
   "cell_type": "code",
   "execution_count": 22,
   "id": "d7ba82d1",
   "metadata": {
    "execution": {
     "iopub.execute_input": "2022-09-06T16:11:51.323963Z",
     "iopub.status.busy": "2022-09-06T16:11:51.323476Z",
     "iopub.status.idle": "2022-09-06T16:11:51.436123Z",
     "shell.execute_reply": "2022-09-06T16:11:51.434515Z"
    },
    "papermill": {
     "duration": 0.134887,
     "end_time": "2022-09-06T16:11:51.439045",
     "exception": false,
     "start_time": "2022-09-06T16:11:51.304158",
     "status": "completed"
    },
    "tags": []
   },
   "outputs": [
    {
     "name": "stdout",
     "output_type": "stream",
     "text": [
      "    feature       VIF\n",
      "0  Survived  1.623374\n",
      "1    Pclass  3.714238\n",
      "2       Age  3.939674\n",
      "3     SibSp  1.566551\n",
      "4     Parch  1.555587\n",
      "5      Fare  1.831183\n"
     ]
    },
    {
     "name": "stderr",
     "output_type": "stream",
     "text": [
      "/opt/conda/lib/python3.7/site-packages/ipykernel_launcher.py:2: DeprecationWarning: `np.object` is a deprecated alias for the builtin `object`. To silence this warning, use `object` by itself. Doing this will not modify any behavior and is safe. \n",
      "Deprecated in NumPy 1.20; for more details and guidance: https://numpy.org/devdocs/release/1.20.0-notes.html#deprecations\n",
      "  \n"
     ]
    }
   ],
   "source": [
    "from statsmodels.stats.outliers_influence import variance_inflation_factor\n",
    "train_num = [x for x in train.columns if train[x].dtypes!=np.object]\n",
    "train_num = train[train_num]\n",
    "\n",
    "vif_data = pd.DataFrame()\n",
    "vif_data[\"feature\"] = train_num.columns\n",
    "  \n",
    "# calculating VIF for each feature\n",
    "vif_data[\"VIF\"] = [variance_inflation_factor(train_num.values, i)\n",
    "                          for i in range(len(train_num.columns))]\n",
    "  \n",
    "print(vif_data)"
   ]
  },
  {
   "cell_type": "code",
   "execution_count": 23,
   "id": "f0b0f3a5",
   "metadata": {
    "execution": {
     "iopub.execute_input": "2022-09-06T16:11:51.478117Z",
     "iopub.status.busy": "2022-09-06T16:11:51.477369Z",
     "iopub.status.idle": "2022-09-06T16:11:51.485500Z",
     "shell.execute_reply": "2022-09-06T16:11:51.484565Z"
    },
    "papermill": {
     "duration": 0.030365,
     "end_time": "2022-09-06T16:11:51.487972",
     "exception": false,
     "start_time": "2022-09-06T16:11:51.457607",
     "status": "completed"
    },
    "tags": []
   },
   "outputs": [],
   "source": [
    "#train['Cabin'].fillna(train['Cabin'].mode()[0], inplace=True)\n",
    "#test['Cabin'].fillna(test['Cabin'].mode()[0], inplace=True)\n",
    "\n",
    "#As Cabin column has maximum null values, we are dropping the entire column\n",
    "train.drop('Cabin', inplace=True, axis=1)\n",
    "test.drop('Cabin', inplace=True, axis=1)"
   ]
  },
  {
   "cell_type": "code",
   "execution_count": 24,
   "id": "8c25ffc4",
   "metadata": {
    "execution": {
     "iopub.execute_input": "2022-09-06T16:11:51.526480Z",
     "iopub.status.busy": "2022-09-06T16:11:51.525327Z",
     "iopub.status.idle": "2022-09-06T16:11:51.537329Z",
     "shell.execute_reply": "2022-09-06T16:11:51.535459Z"
    },
    "papermill": {
     "duration": 0.034534,
     "end_time": "2022-09-06T16:11:51.540588",
     "exception": false,
     "start_time": "2022-09-06T16:11:51.506054",
     "status": "completed"
    },
    "tags": []
   },
   "outputs": [
    {
     "name": "stdout",
     "output_type": "stream",
     "text": [
      "Nulls in Train dataset :  Survived    0\n",
      "Pclass      0\n",
      "Sex         0\n",
      "Age         0\n",
      "SibSp       0\n",
      "Parch       0\n",
      "Ticket      0\n",
      "Fare        0\n",
      "Embarked    0\n",
      "dtype: int64\n",
      "********************************************************************************\n",
      "********************************************************************************\n",
      "Nulls in Test dataset :  Pclass      0\n",
      "Sex         0\n",
      "Age         0\n",
      "SibSp       0\n",
      "Parch       0\n",
      "Ticket      0\n",
      "Fare        0\n",
      "Embarked    0\n",
      "dtype: int64\n"
     ]
    }
   ],
   "source": [
    "print('Nulls in Train dataset : ',train.isnull().sum())\n",
    "print('*'*80)\n",
    "print('*'*80)\n",
    "print('Nulls in Test dataset : ',test.isnull().sum())"
   ]
  },
  {
   "cell_type": "code",
   "execution_count": 25,
   "id": "17123dd4",
   "metadata": {
    "execution": {
     "iopub.execute_input": "2022-09-06T16:11:51.579322Z",
     "iopub.status.busy": "2022-09-06T16:11:51.578917Z",
     "iopub.status.idle": "2022-09-06T16:11:51.854635Z",
     "shell.execute_reply": "2022-09-06T16:11:51.853445Z"
    },
    "papermill": {
     "duration": 0.297559,
     "end_time": "2022-09-06T16:11:51.857258",
     "exception": false,
     "start_time": "2022-09-06T16:11:51.559699",
     "status": "completed"
    },
    "tags": []
   },
   "outputs": [
    {
     "data": {
      "text/plain": [
       "<AxesSubplot:xlabel='col_name', ylabel='uniques'>"
      ]
     },
     "execution_count": 25,
     "metadata": {},
     "output_type": "execute_result"
    },
    {
     "data": {
      "image/png": "[encoded data removed]",
      "text/plain": [
       "<Figure size 720x432 with 1 Axes>"
      ]
     },
     "metadata": {
      "needs_background": "light"
     },
     "output_type": "display_data"
    }
   ],
   "source": [
    "plt.figure(figsize=(10, 6))\n",
    "df = pd.DataFrame(((col,len(train[col].unique())) for col in train.columns), columns = ['col_name', 'uniques'])\n",
    "sns.barplot(x = 'col_name', y = 'uniques', data=df)"
   ]
  },
  {
   "cell_type": "code",
   "execution_count": 26,
   "id": "fb2fabe0",
   "metadata": {
    "execution": {
     "iopub.execute_input": "2022-09-06T16:11:51.897140Z",
     "iopub.status.busy": "2022-09-06T16:11:51.896754Z",
     "iopub.status.idle": "2022-09-06T16:11:51.904683Z",
     "shell.execute_reply": "2022-09-06T16:11:51.903846Z"
    },
    "papermill": {
     "duration": 0.030616,
     "end_time": "2022-09-06T16:11:51.906950",
     "exception": false,
     "start_time": "2022-09-06T16:11:51.876334",
     "status": "completed"
    },
    "tags": []
   },
   "outputs": [],
   "source": [
    "#ticket cols has many unique classes which can't contribute to classification\n",
    "train.drop('Ticket', axis=1, inplace=True)\n",
    "test.drop('Ticket', axis=1, inplace=True)"
   ]
  },
  {
   "cell_type": "code",
   "execution_count": 27,
   "id": "5bb6d698",
   "metadata": {
    "execution": {
     "iopub.execute_input": "2022-09-06T16:11:51.945682Z",
     "iopub.status.busy": "2022-09-06T16:11:51.944589Z",
     "iopub.status.idle": "2022-09-06T16:11:52.098904Z",
     "shell.execute_reply": "2022-09-06T16:11:52.097446Z"
    },
    "papermill": {
     "duration": 0.17661,
     "end_time": "2022-09-06T16:11:52.101722",
     "exception": false,
     "start_time": "2022-09-06T16:11:51.925112",
     "status": "completed"
    },
    "tags": []
   },
   "outputs": [
    {
     "name": "stdout",
     "output_type": "stream",
     "text": [
      "(891, 8) (891, 8)\n",
      "[[  0.   2.   1. ...   0.  18.   2.]\n",
      " [  1.   0.   0. ...   0. 207.   0.]\n",
      " [  1.   2.   0. ...   0.  41.   2.]\n",
      " ...\n",
      " [  0.   2.   0. ...   2. 131.   2.]\n",
      " [  1.   0.   1. ...   0. 153.   0.]\n",
      " [  0.   2.   1. ...   0.  30.   1.]]\n"
     ]
    }
   ],
   "source": [
    "from sklearn.preprocessing import OrdinalEncoder\n",
    "ord_enc = OrdinalEncoder()\n",
    "train_transformed = ord_enc.fit_transform(train)\n",
    "print(train_transformed.shape, train.shape)\n",
    "print(train_transformed)\n",
    "train_transformed = pd.DataFrame(train_transformed, columns = train.columns)\n",
    "y = train_transformed['Survived']\n",
    "x = train_transformed.drop('Survived', axis=1)"
   ]
  },
  {
   "cell_type": "code",
   "execution_count": 28,
   "id": "0d6bcf64",
   "metadata": {
    "execution": {
     "iopub.execute_input": "2022-09-06T16:11:52.141150Z",
     "iopub.status.busy": "2022-09-06T16:11:52.140488Z",
     "iopub.status.idle": "2022-09-06T16:11:52.347158Z",
     "shell.execute_reply": "2022-09-06T16:11:52.345916Z"
    },
    "papermill": {
     "duration": 0.229939,
     "end_time": "2022-09-06T16:11:52.350400",
     "exception": false,
     "start_time": "2022-09-06T16:11:52.120461",
     "status": "completed"
    },
    "tags": []
   },
   "outputs": [
    {
     "name": "stdout",
     "output_type": "stream",
     "text": [
      "SibSp has p_values 0.4315092575763657 which is less than significance level\n"
     ]
    }
   ],
   "source": [
    "#anova for numerical features\n",
    "from sklearn.feature_selection import SelectKBest, f_classif, chi2\n",
    "anova = SelectKBest(f_classif, k='all')\n",
    "anova.fit(x, y)\n",
    "\n",
    "feature_names = anova.get_feature_names_out()\n",
    "p_values = anova.pvalues_\n",
    "for en in zip(feature_names, p_values):\n",
    "    if en[1]>0.1:\n",
    "        print(f'{en[0]} has p_values {en[1]} which is less than significance level')\n"
   ]
  },
  {
   "cell_type": "code",
   "execution_count": 29,
   "id": "16e33e05",
   "metadata": {
    "execution": {
     "iopub.execute_input": "2022-09-06T16:11:52.390501Z",
     "iopub.status.busy": "2022-09-06T16:11:52.389564Z",
     "iopub.status.idle": "2022-09-06T16:11:52.401731Z",
     "shell.execute_reply": "2022-09-06T16:11:52.399863Z"
    },
    "papermill": {
     "duration": 0.035702,
     "end_time": "2022-09-06T16:11:52.405203",
     "exception": false,
     "start_time": "2022-09-06T16:11:52.369501",
     "status": "completed"
    },
    "tags": []
   },
   "outputs": [
    {
     "name": "stdout",
     "output_type": "stream",
     "text": [
      "SibSp has p_values 0.2662355366655962 which is less than significance level\n"
     ]
    }
   ],
   "source": [
    "#chi2 for numerical features\n",
    "chi_sq = SelectKBest(chi2, k='all')\n",
    "chi_sq.fit(x, y)\n",
    "feature_names = chi_sq.get_feature_names_out()\n",
    "p_values = chi_sq.pvalues_\n",
    "for en in zip(feature_names, p_values):\n",
    "    if en[1]>0.1:\n",
    "        print(f'{en[0]} has p_values {en[1]} which is less than significance level')\n"
   ]
  },
  {
   "cell_type": "code",
   "execution_count": 30,
   "id": "fe8fe44d",
   "metadata": {
    "execution": {
     "iopub.execute_input": "2022-09-06T16:11:52.445033Z",
     "iopub.status.busy": "2022-09-06T16:11:52.443874Z",
     "iopub.status.idle": "2022-09-06T16:11:52.451520Z",
     "shell.execute_reply": "2022-09-06T16:11:52.450442Z"
    },
    "papermill": {
     "duration": 0.029943,
     "end_time": "2022-09-06T16:11:52.454086",
     "exception": false,
     "start_time": "2022-09-06T16:11:52.424143",
     "status": "completed"
    },
    "tags": []
   },
   "outputs": [],
   "source": [
    "#train.drop(['SibSp'], axis=1, inplace=True)\n",
    "#test.drop(['SibSp'], axis=1, inplace=True)\n",
    "\n",
    "train['fam_size'] = train['SibSp'] + train['Parch'] + 1\n",
    "test['fam_size'] = test['SibSp'] + test['Parch'] + 1"
   ]
  },
  {
   "cell_type": "code",
   "execution_count": 31,
   "id": "9931b55d",
   "metadata": {
    "execution": {
     "iopub.execute_input": "2022-09-06T16:11:52.493145Z",
     "iopub.status.busy": "2022-09-06T16:11:52.492447Z",
     "iopub.status.idle": "2022-09-06T16:11:52.497987Z",
     "shell.execute_reply": "2022-09-06T16:11:52.497207Z"
    },
    "papermill": {
     "duration": 0.027568,
     "end_time": "2022-09-06T16:11:52.500276",
     "exception": false,
     "start_time": "2022-09-06T16:11:52.472708",
     "status": "completed"
    },
    "tags": []
   },
   "outputs": [
    {
     "name": "stdout",
     "output_type": "stream",
     "text": [
      "Shape of Train:  (891, 9)\n",
      "Shape of Test:  (418, 8)\n"
     ]
    }
   ],
   "source": [
    "print('Shape of Train: ',train.shape)\n",
    "print('Shape of Test: ',test.shape)"
   ]
  },
  {
   "cell_type": "code",
   "execution_count": 32,
   "id": "35ab7355",
   "metadata": {
    "execution": {
     "iopub.execute_input": "2022-09-06T16:11:52.540296Z",
     "iopub.status.busy": "2022-09-06T16:11:52.539542Z",
     "iopub.status.idle": "2022-09-06T16:11:52.546847Z",
     "shell.execute_reply": "2022-09-06T16:11:52.545951Z"
    },
    "papermill": {
     "duration": 0.029701,
     "end_time": "2022-09-06T16:11:52.549051",
     "exception": false,
     "start_time": "2022-09-06T16:11:52.519350",
     "status": "completed"
    },
    "tags": []
   },
   "outputs": [],
   "source": [
    "train.drop(['SibSp', 'Parch'], axis=1, inplace=True)\n",
    "test.drop(['SibSp', 'Parch'], axis=1, inplace=True)"
   ]
  },
  {
   "cell_type": "code",
   "execution_count": 33,
   "id": "f8ee9207",
   "metadata": {
    "execution": {
     "iopub.execute_input": "2022-09-06T16:11:52.590048Z",
     "iopub.status.busy": "2022-09-06T16:11:52.589078Z",
     "iopub.status.idle": "2022-09-06T16:11:52.596263Z",
     "shell.execute_reply": "2022-09-06T16:11:52.595404Z"
    },
    "papermill": {
     "duration": 0.029805,
     "end_time": "2022-09-06T16:11:52.598354",
     "exception": false,
     "start_time": "2022-09-06T16:11:52.568549",
     "status": "completed"
    },
    "tags": []
   },
   "outputs": [
    {
     "data": {
      "text/plain": [
       "Index(['Survived', 'Pclass', 'Sex', 'Age', 'Fare', 'Embarked', 'fam_size'], dtype='object')"
      ]
     },
     "execution_count": 33,
     "metadata": {},
     "output_type": "execute_result"
    }
   ],
   "source": [
    "train.columns"
   ]
  },
  {
   "cell_type": "code",
   "execution_count": 34,
   "id": "788ebf29",
   "metadata": {
    "execution": {
     "iopub.execute_input": "2022-09-06T16:11:52.637885Z",
     "iopub.status.busy": "2022-09-06T16:11:52.637166Z",
     "iopub.status.idle": "2022-09-06T16:11:52.641464Z",
     "shell.execute_reply": "2022-09-06T16:11:52.640715Z"
    },
    "papermill": {
     "duration": 0.026512,
     "end_time": "2022-09-06T16:11:52.643505",
     "exception": false,
     "start_time": "2022-09-06T16:11:52.616993",
     "status": "completed"
    },
    "tags": []
   },
   "outputs": [],
   "source": [
    "# from sklearn.preprocessing import StandardScaler\n",
    "# train_temp = train[['Age', 'Fare']]\n",
    "# scale= StandardScaler()\n",
    "# scaled_data = scale.fit_transform(train_temp) \n",
    "# scaled_data\n",
    "# train.drop(['Age', 'Fare'], axis=1, inplace=True)\n",
    "# train = pd.concat([train, pd.DataFrame(scaled_data, columns=['Age', 'Fare'])], axis=1)\n",
    "# train"
   ]
  },
  {
   "cell_type": "code",
   "execution_count": 35,
   "id": "40cb1010",
   "metadata": {
    "execution": {
     "iopub.execute_input": "2022-09-06T16:11:52.683705Z",
     "iopub.status.busy": "2022-09-06T16:11:52.682942Z",
     "iopub.status.idle": "2022-09-06T16:12:00.800785Z",
     "shell.execute_reply": "2022-09-06T16:12:00.799906Z"
    },
    "papermill": {
     "duration": 8.140762,
     "end_time": "2022-09-06T16:12:00.803234",
     "exception": false,
     "start_time": "2022-09-06T16:11:52.662472",
     "status": "completed"
    },
    "tags": []
   },
   "outputs": [
    {
     "data": {
      "text/plain": [
       "SequentialFeatureSelector(estimator=GradientBoostingClassifier(learning_rate=0.2,\n",
       "                                                               max_depth=2),\n",
       "                          k_features=5, scoring='accuracy')"
      ]
     },
     "execution_count": 35,
     "metadata": {},
     "output_type": "execute_result"
    }
   ],
   "source": [
    "from mlxtend.feature_selection import SequentialFeatureSelector as SFS\n",
    "from sklearn.ensemble import GradientBoostingClassifier  \n",
    "# Sequential Forward Selection(sfs)\n",
    "\n",
    "y = train['Survived']\n",
    "x = pd.get_dummies(train.drop(['Survived'], axis=1), drop_first=True)\n",
    "sfs = SFS(GradientBoostingClassifier(max_depth=2, learning_rate=0.2),\n",
    "          k_features=5,\n",
    "          forward=True,\n",
    "          floating=False,\n",
    "          scoring = 'accuracy',\n",
    "          cv = 5)\n",
    "sfs.fit(x, y)\n"
   ]
  },
  {
   "cell_type": "code",
   "execution_count": 36,
   "id": "876e98c4",
   "metadata": {
    "execution": {
     "iopub.execute_input": "2022-09-06T16:12:00.842571Z",
     "iopub.status.busy": "2022-09-06T16:12:00.842178Z",
     "iopub.status.idle": "2022-09-06T16:12:00.849034Z",
     "shell.execute_reply": "2022-09-06T16:12:00.847867Z"
    },
    "papermill": {
     "duration": 0.029514,
     "end_time": "2022-09-06T16:12:00.851422",
     "exception": false,
     "start_time": "2022-09-06T16:12:00.821908",
     "status": "completed"
    },
    "tags": []
   },
   "outputs": [
    {
     "data": {
      "text/plain": [
       "('Pclass', 'Age', 'Fare', 'fam_size', 'Sex_male')"
      ]
     },
     "execution_count": 36,
     "metadata": {},
     "output_type": "execute_result"
    }
   ],
   "source": [
    "sfs.k_feature_names_"
   ]
  },
  {
   "cell_type": "code",
   "execution_count": 37,
   "id": "2fc13f44",
   "metadata": {
    "execution": {
     "iopub.execute_input": "2022-09-06T16:12:00.891526Z",
     "iopub.status.busy": "2022-09-06T16:12:00.890688Z",
     "iopub.status.idle": "2022-09-06T16:12:00.916959Z",
     "shell.execute_reply": "2022-09-06T16:12:00.915682Z"
    },
    "papermill": {
     "duration": 0.049448,
     "end_time": "2022-09-06T16:12:00.919681",
     "exception": false,
     "start_time": "2022-09-06T16:12:00.870233",
     "status": "completed"
    },
    "tags": []
   },
   "outputs": [
    {
     "name": "stderr",
     "output_type": "stream",
     "text": [
      "/opt/conda/lib/python3.7/site-packages/pandas/core/frame.py:4913: SettingWithCopyWarning: \n",
      "A value is trying to be set on a copy of a slice from a DataFrame\n",
      "\n",
      "See the caveats in the documentation: https://pandas.pydata.org/pandas-docs/stable/user_guide/indexing.html#returning-a-view-versus-a-copy\n",
      "  errors=errors,\n"
     ]
    }
   ],
   "source": [
    "data = pd.concat([train, test], axis=0)\n",
    "data_transformed = pd.get_dummies(data, drop_first=True)\n",
    "train_transformed = data_transformed.iloc[:train.shape[0], :]\n",
    "test_transformed = data_transformed.iloc[train.shape[0]:, :]\n",
    "test_transformed.drop('Survived', axis=1, inplace=True)\n",
    "\n",
    "y = train_transformed['Survived']\n",
    "x = train_transformed.drop('Survived', axis=1)\n",
    "\n",
    "from sklearn.model_selection import train_test_split, GridSearchCV\n",
    "xtrain, xtest, ytrain, ytest = train_test_split(x, y, test_size=0.1, random_state=1234)"
   ]
  },
  {
   "cell_type": "code",
   "execution_count": 38,
   "id": "d9bee645",
   "metadata": {
    "execution": {
     "iopub.execute_input": "2022-09-06T16:12:00.960785Z",
     "iopub.status.busy": "2022-09-06T16:12:00.960061Z",
     "iopub.status.idle": "2022-09-06T16:12:00.966625Z",
     "shell.execute_reply": "2022-09-06T16:12:00.965792Z"
    },
    "papermill": {
     "duration": 0.030107,
     "end_time": "2022-09-06T16:12:00.969031",
     "exception": false,
     "start_time": "2022-09-06T16:12:00.938924",
     "status": "completed"
    },
    "tags": []
   },
   "outputs": [],
   "source": [
    "def compute_model(model_obj, params):\n",
    "    grid_model = GridSearchCV(model_obj, params, cv=10)\n",
    "    grid_model.fit(xtrain, ytrain)\n",
    "    \n",
    "    ypred_train = grid_model.best_estimator_.predict(xtrain)\n",
    "    #ypred_train = model.predict(xtrain)\n",
    "\n",
    "    from sklearn.metrics import accuracy_score\n",
    "    train_accuracy = accuracy_score(ytrain, ypred_train)\n",
    "    \n",
    "\n",
    "    ypred = grid_model.best_estimator_.predict(xtest)\n",
    "    #ypred = model.predict(xtest)\n",
    "    test_accuracy = accuracy_score(ytest, ypred)\n",
    "    \n",
    "\n",
    "\n",
    "    results = grid_model.best_estimator_.predict(test_transformed)\n",
    "    #results = model.predict(test_transformed)\n",
    "\n",
    "    return model_obj, results, train_accuracy, test_accuracy, grid_model.best_estimator_"
   ]
  },
  {
   "cell_type": "code",
   "execution_count": 39,
   "id": "4fb0ae3a",
   "metadata": {
    "execution": {
     "iopub.execute_input": "2022-09-06T16:12:01.009635Z",
     "iopub.status.busy": "2022-09-06T16:12:01.008927Z",
     "iopub.status.idle": "2022-09-06T16:12:01.125381Z",
     "shell.execute_reply": "2022-09-06T16:12:01.124203Z"
    },
    "papermill": {
     "duration": 0.139825,
     "end_time": "2022-09-06T16:12:01.128300",
     "exception": false,
     "start_time": "2022-09-06T16:12:00.988475",
     "status": "completed"
    },
    "tags": []
   },
   "outputs": [],
   "source": [
    "from sklearn.linear_model import LogisticRegression\n",
    "lr_model = LogisticRegression()\n",
    "\n",
    "from sklearn.ensemble import GradientBoostingClassifier\n",
    "gb_param_grid = {'max_depth': [1, 2, 3, 4, 5], 'learning_rate': [0.1, 0.001, 0.01, 0.2, 0.05], 'n_estimators': [20, 50, 80, 100, 120, 150, 180, 200]}\n",
    "gb_model = GradientBoostingClassifier()\n",
    "\n",
    "from sklearn.ensemble import RandomForestClassifier\n",
    "rf_param_grid = {'n_estimators': [20, 50, 80, 100, 120, 150, 180, 200], 'max_depth': [1, 2, 3, 4,5]}\n",
    "rf_model = RandomForestClassifier()\n",
    "\n",
    "from sklearn.ensemble import AdaBoostClassifier\n",
    "ab_param_grid = {'learning_rate': [0.1, 0.001, 0.01, 0.2, 0.05], 'n_estimators': [20, 50, 80, 100, 120, 150, 180, 200]}\n",
    "ab_model = AdaBoostClassifier()\n",
    "\n",
    "from xgboost import XGBClassifier\n",
    "xg_param_grid = {'learning_rate': [0.1, 0.001, 0.01, 0.2, 0.05], 'n_estimators': [20, 50, 80, 100, 120, 150, 180, 200, 250, 300], 'max_depth': [1, 2, 3, 4, 5, 6]}\n",
    "xg_model = XGBClassifier()\n",
    "\n",
    "from sklearn.tree import DecisionTreeClassifier\n",
    "dt_param_grid = {'max_depth': [1, 2, 3, 4, 5, 6]}\n",
    "dt_model = DecisionTreeClassifier()\n",
    "\n",
    "from sklearn.svm import SVC\n",
    "sv_param_grid = {'C': [0.1, 0.2, 0.3, 0.4, 0.001, 1, 2, 3], 'kernel': ['linear', 'rbf', 'poly']}\n",
    "sv_model = SVC()\n"
   ]
  },
  {
   "cell_type": "code",
   "execution_count": 40,
   "id": "9a3bb821",
   "metadata": {
    "execution": {
     "iopub.execute_input": "2022-09-06T16:12:01.169081Z",
     "iopub.status.busy": "2022-09-06T16:12:01.168379Z",
     "iopub.status.idle": "2022-09-06T16:45:37.134586Z",
     "shell.execute_reply": "2022-09-06T16:45:37.133081Z"
    },
    "papermill": {
     "duration": 2016.009161,
     "end_time": "2022-09-06T16:45:37.157061",
     "exception": false,
     "start_time": "2022-09-06T16:12:01.147900",
     "status": "completed"
    },
    "tags": []
   },
   "outputs": [
    {
     "name": "stderr",
     "output_type": "stream",
     "text": [
      "/opt/conda/lib/python3.7/site-packages/sklearn/linear_model/_logistic.py:818: ConvergenceWarning: lbfgs failed to converge (status=1):\n",
      "STOP: TOTAL NO. of ITERATIONS REACHED LIMIT.\n",
      "\n",
      "Increase the number of iterations (max_iter) or scale the data as shown in:\n",
      "    https://scikit-learn.org/stable/modules/preprocessing.html\n",
      "Please also refer to the documentation for alternative solver options:\n",
      "    https://scikit-learn.org/stable/modules/linear_model.html#logistic-regression\n",
      "  extra_warning_msg=_LOGISTIC_SOLVER_CONVERGENCE_MSG,\n",
      "/opt/conda/lib/python3.7/site-packages/sklearn/linear_model/_logistic.py:818: ConvergenceWarning: lbfgs failed to converge (status=1):\n",
      "STOP: TOTAL NO. of ITERATIONS REACHED LIMIT.\n",
      "\n",
      "Increase the number of iterations (max_iter) or scale the data as shown in:\n",
      "    https://scikit-learn.org/stable/modules/preprocessing.html\n",
      "Please also refer to the documentation for alternative solver options:\n",
      "    https://scikit-learn.org/stable/modules/linear_model.html#logistic-regression\n",
      "  extra_warning_msg=_LOGISTIC_SOLVER_CONVERGENCE_MSG,\n",
      "/opt/conda/lib/python3.7/site-packages/sklearn/linear_model/_logistic.py:818: ConvergenceWarning: lbfgs failed to converge (status=1):\n",
      "STOP: TOTAL NO. of ITERATIONS REACHED LIMIT.\n",
      "\n",
      "Increase the number of iterations (max_iter) or scale the data as shown in:\n",
      "    https://scikit-learn.org/stable/modules/preprocessing.html\n",
      "Please also refer to the documentation for alternative solver options:\n",
      "    https://scikit-learn.org/stable/modules/linear_model.html#logistic-regression\n",
      "  extra_warning_msg=_LOGISTIC_SOLVER_CONVERGENCE_MSG,\n",
      "/opt/conda/lib/python3.7/site-packages/sklearn/linear_model/_logistic.py:818: ConvergenceWarning: lbfgs failed to converge (status=1):\n",
      "STOP: TOTAL NO. of ITERATIONS REACHED LIMIT.\n",
      "\n",
      "Increase the number of iterations (max_iter) or scale the data as shown in:\n",
      "    https://scikit-learn.org/stable/modules/preprocessing.html\n",
      "Please also refer to the documentation for alternative solver options:\n",
      "    https://scikit-learn.org/stable/modules/linear_model.html#logistic-regression\n",
      "  extra_warning_msg=_LOGISTIC_SOLVER_CONVERGENCE_MSG,\n",
      "/opt/conda/lib/python3.7/site-packages/sklearn/linear_model/_logistic.py:818: ConvergenceWarning: lbfgs failed to converge (status=1):\n",
      "STOP: TOTAL NO. of ITERATIONS REACHED LIMIT.\n",
      "\n",
      "Increase the number of iterations (max_iter) or scale the data as shown in:\n",
      "    https://scikit-learn.org/stable/modules/preprocessing.html\n",
      "Please also refer to the documentation for alternative solver options:\n",
      "    https://scikit-learn.org/stable/modules/linear_model.html#logistic-regression\n",
      "  extra_warning_msg=_LOGISTIC_SOLVER_CONVERGENCE_MSG,\n",
      "/opt/conda/lib/python3.7/site-packages/sklearn/linear_model/_logistic.py:818: ConvergenceWarning: lbfgs failed to converge (status=1):\n",
      "STOP: TOTAL NO. of ITERATIONS REACHED LIMIT.\n",
      "\n",
      "Increase the number of iterations (max_iter) or scale the data as shown in:\n",
      "    https://scikit-learn.org/stable/modules/preprocessing.html\n",
      "Please also refer to the documentation for alternative solver options:\n",
      "    https://scikit-learn.org/stable/modules/linear_model.html#logistic-regression\n",
      "  extra_warning_msg=_LOGISTIC_SOLVER_CONVERGENCE_MSG,\n",
      "/opt/conda/lib/python3.7/site-packages/sklearn/linear_model/_logistic.py:818: ConvergenceWarning: lbfgs failed to converge (status=1):\n",
      "STOP: TOTAL NO. of ITERATIONS REACHED LIMIT.\n",
      "\n",
      "Increase the number of iterations (max_iter) or scale the data as shown in:\n",
      "    https://scikit-learn.org/stable/modules/preprocessing.html\n",
      "Please also refer to the documentation for alternative solver options:\n",
      "    https://scikit-learn.org/stable/modules/linear_model.html#logistic-regression\n",
      "  extra_warning_msg=_LOGISTIC_SOLVER_CONVERGENCE_MSG,\n",
      "/opt/conda/lib/python3.7/site-packages/sklearn/linear_model/_logistic.py:818: ConvergenceWarning: lbfgs failed to converge (status=1):\n",
      "STOP: TOTAL NO. of ITERATIONS REACHED LIMIT.\n",
      "\n",
      "Increase the number of iterations (max_iter) or scale the data as shown in:\n",
      "    https://scikit-learn.org/stable/modules/preprocessing.html\n",
      "Please also refer to the documentation for alternative solver options:\n",
      "    https://scikit-learn.org/stable/modules/linear_model.html#logistic-regression\n",
      "  extra_warning_msg=_LOGISTIC_SOLVER_CONVERGENCE_MSG,\n"
     ]
    },
    {
     "name": "stdout",
     "output_type": "stream",
     "text": [
      "LogisticRegression() 0.7990012484394506 0.8444444444444444 LogisticRegression()\n",
      "GradientBoostingClassifier() 0.8776529338327091 0.8666666666666667 GradientBoostingClassifier(max_depth=2, n_estimators=180)\n",
      "RandomForestClassifier() 0.8514357053682896 0.8777777777777778 RandomForestClassifier(max_depth=5, n_estimators=80)\n",
      "AdaBoostClassifier() 0.818976279650437 0.8222222222222222 AdaBoostClassifier(learning_rate=0.05, n_estimators=150)\n",
      "XGBClassifier(base_score=None, booster=None, callbacks=None,\n",
      "              colsample_bylevel=None, colsample_bynode=None,\n",
      "              colsample_bytree=None, early_stopping_rounds=None,\n",
      "              enable_categorical=False, eval_metric=None, gamma=None,\n",
      "              gpu_id=None, grow_policy=None, importance_type=None,\n",
      "              interaction_constraints=None, learning_rate=None, max_bin=None,\n",
      "              max_cat_to_onehot=None, max_delta_step=None, max_depth=None,\n",
      "              max_leaves=None, min_child_weight=None, missing=nan,\n",
      "              monotone_constraints=None, n_estimators=100, n_jobs=None,\n",
      "              num_parallel_tree=None, predictor=None, random_state=None,\n",
      "              reg_alpha=None, reg_lambda=None, ...) 0.8801498127340824 0.8777777777777778 XGBClassifier(base_score=0.5, booster='gbtree', callbacks=None,\n",
      "              colsample_bylevel=1, colsample_bynode=1, colsample_bytree=1,\n",
      "              early_stopping_rounds=None, enable_categorical=False,\n",
      "              eval_metric=None, gamma=0, gpu_id=-1, grow_policy='depthwise',\n",
      "              importance_type=None, interaction_constraints='',\n",
      "              learning_rate=0.01, max_bin=256, max_cat_to_onehot=4,\n",
      "              max_delta_step=0, max_depth=6, max_leaves=0, min_child_weight=1,\n",
      "              missing=nan, monotone_constraints='()', n_estimators=120,\n",
      "              n_jobs=0, num_parallel_tree=1, predictor='auto', random_state=0,\n",
      "              reg_alpha=0, reg_lambda=1, ...)\n",
      "DecisionTreeClassifier() 0.8302122347066168 0.8444444444444444 DecisionTreeClassifier(max_depth=3)\n",
      "SVC() 0.7827715355805244 0.8222222222222222 SVC(C=0.1, kernel='linear')\n"
     ]
    }
   ],
   "source": [
    "all_models = {lr_model: {}, gb_model: gb_param_grid, rf_model: rf_param_grid, ab_model:ab_param_grid, xg_model: xg_param_grid, dt_model: dt_param_grid, sv_model: sv_param_grid}\n",
    "model_results = list()\n",
    "model_prediction = dict()\n",
    "for model_obj, params in all_models.items():\n",
    "    model_obj, results, train_accuracy, test_accuracy, best_estimator = compute_model(model_obj, params)\n",
    "    model_results.append([model_obj, train_accuracy, test_accuracy, best_estimator])\n",
    "    model_prediction[model_obj] = results\n",
    "    print(model_obj, train_accuracy, test_accuracy, best_estimator)\n"
   ]
  },
  {
   "cell_type": "code",
   "execution_count": 41,
   "id": "8729d04f",
   "metadata": {
    "execution": {
     "iopub.execute_input": "2022-09-06T16:45:37.198083Z",
     "iopub.status.busy": "2022-09-06T16:45:37.197658Z",
     "iopub.status.idle": "2022-09-06T16:45:37.420971Z",
     "shell.execute_reply": "2022-09-06T16:45:37.419991Z"
    },
    "papermill": {
     "duration": 0.247507,
     "end_time": "2022-09-06T16:45:37.423941",
     "exception": false,
     "start_time": "2022-09-06T16:45:37.176434",
     "status": "completed"
    },
    "tags": []
   },
   "outputs": [
    {
     "data": {
      "text/html": [
       "<div>\n",
       "<style scoped>\n",
       "    .dataframe tbody tr th:only-of-type {\n",
       "        vertical-align: middle;\n",
       "    }\n",
       "\n",
       "    .dataframe tbody tr th {\n",
       "        vertical-align: top;\n",
       "    }\n",
       "\n",
       "    .dataframe thead th {\n",
       "        text-align: right;\n",
       "    }\n",
       "</style>\n",
       "<table border=\"1\" class=\"dataframe\">\n",
       "  <thead>\n",
       "    <tr style=\"text-align: right;\">\n",
       "      <th></th>\n",
       "      <th>Model Name</th>\n",
       "      <th>Training Accuracy</th>\n",
       "      <th>Test Accuracy</th>\n",
       "      <th>Best Parameters</th>\n",
       "    </tr>\n",
       "  </thead>\n",
       "  <tbody>\n",
       "    <tr>\n",
       "      <th>0</th>\n",
       "      <td>LogisticRegression()</td>\n",
       "      <td>0.799001</td>\n",
       "      <td>0.844444</td>\n",
       "      <td>LogisticRegression()</td>\n",
       "    </tr>\n",
       "    <tr>\n",
       "      <th>1</th>\n",
       "      <td>GradientBoostingClassifier()</td>\n",
       "      <td>0.877653</td>\n",
       "      <td>0.866667</td>\n",
       "      <td>([DecisionTreeRegressor(criterion='friedman_ms...</td>\n",
       "    </tr>\n",
       "    <tr>\n",
       "      <th>2</th>\n",
       "      <td>RandomForestClassifier()</td>\n",
       "      <td>0.851436</td>\n",
       "      <td>0.877778</td>\n",
       "      <td>(DecisionTreeClassifier(max_depth=5, max_featu...</td>\n",
       "    </tr>\n",
       "    <tr>\n",
       "      <th>3</th>\n",
       "      <td>AdaBoostClassifier()</td>\n",
       "      <td>0.818976</td>\n",
       "      <td>0.822222</td>\n",
       "      <td>(DecisionTreeClassifier(max_depth=1, random_st...</td>\n",
       "    </tr>\n",
       "    <tr>\n",
       "      <th>4</th>\n",
       "      <td>XGBClassifier(base_score=None, booster=None, c...</td>\n",
       "      <td>0.880150</td>\n",
       "      <td>0.877778</td>\n",
       "      <td>XGBClassifier(base_score=0.5, booster='gbtree'...</td>\n",
       "    </tr>\n",
       "    <tr>\n",
       "      <th>5</th>\n",
       "      <td>DecisionTreeClassifier()</td>\n",
       "      <td>0.830212</td>\n",
       "      <td>0.844444</td>\n",
       "      <td>DecisionTreeClassifier(max_depth=3)</td>\n",
       "    </tr>\n",
       "    <tr>\n",
       "      <th>6</th>\n",
       "      <td>SVC()</td>\n",
       "      <td>0.782772</td>\n",
       "      <td>0.822222</td>\n",
       "      <td>SVC(C=0.1, kernel='linear')</td>\n",
       "    </tr>\n",
       "  </tbody>\n",
       "</table>\n",
       "</div>"
      ],
      "text/plain": [
       "                                          Model Name  Training Accuracy  \\\n",
       "0                               LogisticRegression()           0.799001   \n",
       "1                       GradientBoostingClassifier()           0.877653   \n",
       "2                           RandomForestClassifier()           0.851436   \n",
       "3                               AdaBoostClassifier()           0.818976   \n",
       "4  XGBClassifier(base_score=None, booster=None, c...           0.880150   \n",
       "5                           DecisionTreeClassifier()           0.830212   \n",
       "6                                              SVC()           0.782772   \n",
       "\n",
       "   Test Accuracy                                    Best Parameters  \n",
       "0       0.844444                               LogisticRegression()  \n",
       "1       0.866667  ([DecisionTreeRegressor(criterion='friedman_ms...  \n",
       "2       0.877778  (DecisionTreeClassifier(max_depth=5, max_featu...  \n",
       "3       0.822222  (DecisionTreeClassifier(max_depth=1, random_st...  \n",
       "4       0.877778  XGBClassifier(base_score=0.5, booster='gbtree'...  \n",
       "5       0.844444                DecisionTreeClassifier(max_depth=3)  \n",
       "6       0.822222                        SVC(C=0.1, kernel='linear')  "
      ]
     },
     "execution_count": 41,
     "metadata": {},
     "output_type": "execute_result"
    }
   ],
   "source": [
    "results = pd.DataFrame(model_results, columns = ['Model Name', 'Training Accuracy', 'Test Accuracy', 'Best Parameters'])\n",
    "results\n"
   ]
  },
  {
   "cell_type": "code",
   "execution_count": 42,
   "id": "132b8ae8",
   "metadata": {
    "execution": {
     "iopub.execute_input": "2022-09-06T16:45:37.465589Z",
     "iopub.status.busy": "2022-09-06T16:45:37.465202Z",
     "iopub.status.idle": "2022-09-06T16:45:37.901643Z",
     "shell.execute_reply": "2022-09-06T16:45:37.900470Z"
    },
    "papermill": {
     "duration": 0.460427,
     "end_time": "2022-09-06T16:45:37.904169",
     "exception": false,
     "start_time": "2022-09-06T16:45:37.443742",
     "status": "completed"
    },
    "tags": []
   },
   "outputs": [
    {
     "data": {
      "text/plain": [
       "(array([0, 1, 2, 3, 4, 5, 6]),\n",
       " [Text(0, 0, 'LogisticRegression()'),\n",
       "  Text(1, 0, 'GradientBoostingClassifier()'),\n",
       "  Text(2, 0, 'RandomForestClassifier()'),\n",
       "  Text(3, 0, 'AdaBoostClassifier()'),\n",
       "  Text(4, 0, 'XGBClassifier(base_score=None, booster=None, callbacks=None,\\n              colsample_bylevel=None, colsample_bynode=None,\\n              colsample_bytree=None, early_stopping_rounds=None,\\n              enable_categorical=False, eval_metric=None, gamma=None,\\n              gpu_id=None, grow_policy=None, importance_type=None,\\n              interaction_constraints=None, learning_rate=None, max_bin=None,\\n              max_cat_to_onehot=None, max_delta_step=None, max_depth=None,\\n              max_leaves=None, min_child_weight=None, missing=nan,\\n              monotone_constraints=None, n_estimators=100, n_jobs=None,\\n              num_parallel_tree=None, predictor=None, random_state=None,\\n              reg_alpha=None, reg_lambda=None, ...)'),\n",
       "  Text(5, 0, 'DecisionTreeClassifier()'),\n",
       "  Text(6, 0, 'SVC()')])"
      ]
     },
     "execution_count": 42,
     "metadata": {},
     "output_type": "execute_result"
    },
    {
     "data": {
      "image/png": "[encoded data removed]",
      "text/plain": [
       "<Figure size 720x432 with 1 Axes>"
      ]
     },
     "metadata": {
      "needs_background": "light"
     },
     "output_type": "display_data"
    }
   ],
   "source": [
    "plt.figure(figsize=(10, 6))\n",
    "sns.barplot(x = results['Model Name'].astype('category'), y = results['Training Accuracy'])\n",
    "plt.ylim(0.7, 1.0)\n",
    "plt.xticks(rotation=90)"
   ]
  },
  {
   "cell_type": "code",
   "execution_count": 43,
   "id": "dfc8da76",
   "metadata": {
    "execution": {
     "iopub.execute_input": "2022-09-06T16:45:37.948072Z",
     "iopub.status.busy": "2022-09-06T16:45:37.947331Z",
     "iopub.status.idle": "2022-09-06T16:45:38.369537Z",
     "shell.execute_reply": "2022-09-06T16:45:38.368696Z"
    },
    "papermill": {
     "duration": 0.4464,
     "end_time": "2022-09-06T16:45:38.371686",
     "exception": false,
     "start_time": "2022-09-06T16:45:37.925286",
     "status": "completed"
    },
    "tags": []
   },
   "outputs": [
    {
     "data": {
      "text/plain": [
       "(array([0, 1, 2, 3, 4, 5, 6]),\n",
       " [Text(0, 0, 'LogisticRegression()'),\n",
       "  Text(1, 0, 'GradientBoostingClassifier()'),\n",
       "  Text(2, 0, 'RandomForestClassifier()'),\n",
       "  Text(3, 0, 'AdaBoostClassifier()'),\n",
       "  Text(4, 0, 'XGBClassifier(base_score=None, booster=None, callbacks=None,\\n              colsample_bylevel=None, colsample_bynode=None,\\n              colsample_bytree=None, early_stopping_rounds=None,\\n              enable_categorical=False, eval_metric=None, gamma=None,\\n              gpu_id=None, grow_policy=None, importance_type=None,\\n              interaction_constraints=None, learning_rate=None, max_bin=None,\\n              max_cat_to_onehot=None, max_delta_step=None, max_depth=None,\\n              max_leaves=None, min_child_weight=None, missing=nan,\\n              monotone_constraints=None, n_estimators=100, n_jobs=None,\\n              num_parallel_tree=None, predictor=None, random_state=None,\\n              reg_alpha=None, reg_lambda=None, ...)'),\n",
       "  Text(5, 0, 'DecisionTreeClassifier()'),\n",
       "  Text(6, 0, 'SVC()')])"
      ]
     },
     "execution_count": 43,
     "metadata": {},
     "output_type": "execute_result"
    },
    {
     "data": {
      "image/png": "[encoded data removed]",
      "text/plain": [
       "<Figure size 720x432 with 1 Axes>"
      ]
     },
     "metadata": {
      "needs_background": "light"
     },
     "output_type": "display_data"
    }
   ],
   "source": [
    "plt.figure(figsize=(10, 6))\n",
    "sns.barplot(x = results['Model Name'].astype('category'), y = results['Test Accuracy'])\n",
    "plt.ylim(0.7, 1.0)\n",
    "plt.xticks(rotation=90)"
   ]
  },
  {
   "cell_type": "code",
   "execution_count": 44,
   "id": "6001cf6b",
   "metadata": {
    "execution": {
     "iopub.execute_input": "2022-09-06T16:45:38.418041Z",
     "iopub.status.busy": "2022-09-06T16:45:38.417092Z",
     "iopub.status.idle": "2022-09-06T16:45:38.436423Z",
     "shell.execute_reply": "2022-09-06T16:45:38.435185Z"
    },
    "papermill": {
     "duration": 0.045178,
     "end_time": "2022-09-06T16:45:38.439036",
     "exception": false,
     "start_time": "2022-09-06T16:45:38.393858",
     "status": "completed"
    },
    "tags": []
   },
   "outputs": [],
   "source": [
    "sample = pd.read_csv('../input/titanic/gender_submission.csv')\n",
    "sample['Survived'] = [int(x) for x in model_prediction[ab_model]]\n",
    "sample.to_csv('Sample.csv', index=False)"
   ]
  },
  {
   "cell_type": "markdown",
   "id": "1c7b38f8",
   "metadata": {
    "papermill": {
     "duration": 0.021757,
     "end_time": "2022-09-06T16:45:38.482908",
     "exception": false,
     "start_time": "2022-09-06T16:45:38.461151",
     "status": "completed"
    },
    "tags": []
   },
   "source": [
    "# Stacking"
   ]
  },
  {
   "cell_type": "code",
   "execution_count": 45,
   "id": "bbeeea58",
   "metadata": {
    "execution": {
     "iopub.execute_input": "2022-09-06T16:45:38.529237Z",
     "iopub.status.busy": "2022-09-06T16:45:38.528812Z",
     "iopub.status.idle": "2022-09-06T16:45:47.755765Z",
     "shell.execute_reply": "2022-09-06T16:45:47.754738Z"
    },
    "papermill": {
     "duration": 9.253416,
     "end_time": "2022-09-06T16:45:47.758301",
     "exception": false,
     "start_time": "2022-09-06T16:45:38.504885",
     "status": "completed"
    },
    "tags": []
   },
   "outputs": [
    {
     "name": "stdout",
     "output_type": "stream",
     "text": [
      "StackingCV Accuracy 0.7555555555555555\n"
     ]
    },
    {
     "name": "stderr",
     "output_type": "stream",
     "text": [
      "/opt/conda/lib/python3.7/site-packages/sklearn/base.py:444: UserWarning: X has feature names, but DecisionTreeClassifier was fitted without feature names\n",
      "  f\"X has feature names, but {self.__class__.__name__} was fitted without\"\n",
      "/opt/conda/lib/python3.7/site-packages/sklearn/base.py:444: UserWarning: X has feature names, but RandomForestClassifier was fitted without feature names\n",
      "  f\"X has feature names, but {self.__class__.__name__} was fitted without\"\n",
      "/opt/conda/lib/python3.7/site-packages/sklearn/base.py:444: UserWarning: X has feature names, but AdaBoostClassifier was fitted without feature names\n",
      "  f\"X has feature names, but {self.__class__.__name__} was fitted without\"\n",
      "/opt/conda/lib/python3.7/site-packages/sklearn/base.py:444: UserWarning: X has feature names, but GradientBoostingClassifier was fitted without feature names\n",
      "  f\"X has feature names, but {self.__class__.__name__} was fitted without\"\n"
     ]
    }
   ],
   "source": [
    "from sklearn.metrics import accuracy_score\n",
    "from mlxtend.classifier import StackingCVClassifier\n",
    "stack_gen = StackingCVClassifier(classifiers=(dt_model,rf_model, ab_model,gb_model,xg_model),\n",
    "                                meta_classifier=dt_model,\n",
    "                                use_features_in_secondary=True,cv=10)\n",
    "stack_gen.fit(np.array(xtrain),np.array(ytrain))\n",
    "ypred = stack_gen.predict(np.array(xtest))\n",
    "\n",
    "print('StackingCV Accuracy {}'.format(accuracy_score(ytest,ypred)))\n",
    "\n",
    "results = stack_gen.predict(test_transformed)\n"
   ]
  },
  {
   "cell_type": "code",
   "execution_count": 46,
   "id": "1113abda",
   "metadata": {
    "execution": {
     "iopub.execute_input": "2022-09-06T16:45:47.807252Z",
     "iopub.status.busy": "2022-09-06T16:45:47.806877Z",
     "iopub.status.idle": "2022-09-06T16:45:47.825811Z",
     "shell.execute_reply": "2022-09-06T16:45:47.824909Z"
    },
    "papermill": {
     "duration": 0.045797,
     "end_time": "2022-09-06T16:45:47.828203",
     "exception": false,
     "start_time": "2022-09-06T16:45:47.782406",
     "status": "completed"
    },
    "tags": []
   },
   "outputs": [],
   "source": [
    "#max votes classifier\n",
    "combine_results = list()\n",
    "preferred_models = [gb_model, xg_model,ab_model, dt_model, rf_model]\n",
    "\n",
    "for x in range(test.shape[0]):\n",
    "    all_preds= [preds[x] for model, preds in model_prediction.items() if model in preferred_models]\n",
    "    combine_results.append(max(all_preds, key=all_preds.count))\n",
    "\n",
    "sample = pd.read_csv('../input/titanic/gender_submission.csv')      \n",
    "sample['Survived'] = [int(x) for x in combine_results]\n",
    "sample.to_csv('Sample.csv', index=False)    "
   ]
  }
 ],
 "metadata": {
  "kernelspec": {
   "display_name": "Python 3",
   "language": "python",
   "name": "python3"
  },
  "language_info": {
   "codemirror_mode": {
    "name": "ipython",
    "version": 3
   },
   "file_extension": ".py",
   "mimetype": "text/x-python",
   "name": "python",
   "nbconvert_exporter": "python",
   "pygments_lexer": "ipython3",
   "version": "3.7.12"
  },
  "papermill": {
   "default_parameters": {},
   "duration": 2053.290107,
   "end_time": "2022-09-06T16:45:48.676393",
   "environment_variables": {},
   "exception": null,
   "input_path": "__notebook__.ipynb",
   "output_path": "__notebook__.ipynb",
   "parameters": {},
   "start_time": "2022-09-06T16:11:35.386286",
   "version": "2.3.4"
  }
 },
 "nbformat": 4,
 "nbformat_minor": 5
}
