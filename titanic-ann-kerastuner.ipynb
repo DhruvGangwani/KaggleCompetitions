{
 "cells": [
  {
   "cell_type": "code",
   "execution_count": 1,
   "id": "b198e154",
   "metadata": {
    "_cell_guid": "b1076dfc-b9ad-4769-8c92-a6c4dae69d19",
    "_uuid": "8f2839f25d086af736a60e9eeb907d3b93b6e0e5",
    "execution": {
     "iopub.execute_input": "2022-09-07T16:50:10.830575Z",
     "iopub.status.busy": "2022-09-07T16:50:10.829679Z",
     "iopub.status.idle": "2022-09-07T16:50:11.731877Z",
     "shell.execute_reply": "2022-09-07T16:50:11.730881Z"
    },
    "papermill": {
     "duration": 0.91643,
     "end_time": "2022-09-07T16:50:11.734425",
     "exception": false,
     "start_time": "2022-09-07T16:50:10.817995",
     "status": "completed"
    },
    "tags": []
   },
   "outputs": [],
   "source": [
    "#importing libraries\n",
    "import numpy as np\n",
    "import pandas as pd\n",
    "import matplotlib.pyplot as plt\n",
    "import seaborn as sns"
   ]
  },
  {
   "cell_type": "code",
   "execution_count": 2,
   "id": "630bb80d",
   "metadata": {
    "execution": {
     "iopub.execute_input": "2022-09-07T16:50:11.753765Z",
     "iopub.status.busy": "2022-09-07T16:50:11.753467Z",
     "iopub.status.idle": "2022-09-07T16:50:11.785710Z",
     "shell.execute_reply": "2022-09-07T16:50:11.784716Z"
    },
    "papermill": {
     "duration": 0.043945,
     "end_time": "2022-09-07T16:50:11.787821",
     "exception": false,
     "start_time": "2022-09-07T16:50:11.743876",
     "status": "completed"
    },
    "tags": []
   },
   "outputs": [
    {
     "data": {
      "text/html": [
       "<div>\n",
       "<style scoped>\n",
       "    .dataframe tbody tr th:only-of-type {\n",
       "        vertical-align: middle;\n",
       "    }\n",
       "\n",
       "    .dataframe tbody tr th {\n",
       "        vertical-align: top;\n",
       "    }\n",
       "\n",
       "    .dataframe thead th {\n",
       "        text-align: right;\n",
       "    }\n",
       "</style>\n",
       "<table border=\"1\" class=\"dataframe\">\n",
       "  <thead>\n",
       "    <tr style=\"text-align: right;\">\n",
       "      <th></th>\n",
       "      <th>PassengerId</th>\n",
       "      <th>Survived</th>\n",
       "      <th>Pclass</th>\n",
       "      <th>Name</th>\n",
       "      <th>Sex</th>\n",
       "      <th>Age</th>\n",
       "      <th>SibSp</th>\n",
       "      <th>Parch</th>\n",
       "      <th>Ticket</th>\n",
       "      <th>Fare</th>\n",
       "      <th>Cabin</th>\n",
       "      <th>Embarked</th>\n",
       "    </tr>\n",
       "  </thead>\n",
       "  <tbody>\n",
       "    <tr>\n",
       "      <th>0</th>\n",
       "      <td>1</td>\n",
       "      <td>0</td>\n",
       "      <td>3</td>\n",
       "      <td>Braund, Mr. Owen Harris</td>\n",
       "      <td>male</td>\n",
       "      <td>22.0</td>\n",
       "      <td>1</td>\n",
       "      <td>0</td>\n",
       "      <td>A/5 21171</td>\n",
       "      <td>7.2500</td>\n",
       "      <td>NaN</td>\n",
       "      <td>S</td>\n",
       "    </tr>\n",
       "    <tr>\n",
       "      <th>1</th>\n",
       "      <td>2</td>\n",
       "      <td>1</td>\n",
       "      <td>1</td>\n",
       "      <td>Cumings, Mrs. John Bradley (Florence Briggs Th...</td>\n",
       "      <td>female</td>\n",
       "      <td>38.0</td>\n",
       "      <td>1</td>\n",
       "      <td>0</td>\n",
       "      <td>PC 17599</td>\n",
       "      <td>71.2833</td>\n",
       "      <td>C85</td>\n",
       "      <td>C</td>\n",
       "    </tr>\n",
       "    <tr>\n",
       "      <th>2</th>\n",
       "      <td>3</td>\n",
       "      <td>1</td>\n",
       "      <td>3</td>\n",
       "      <td>Heikkinen, Miss. Laina</td>\n",
       "      <td>female</td>\n",
       "      <td>26.0</td>\n",
       "      <td>0</td>\n",
       "      <td>0</td>\n",
       "      <td>STON/O2. 3101282</td>\n",
       "      <td>7.9250</td>\n",
       "      <td>NaN</td>\n",
       "      <td>S</td>\n",
       "    </tr>\n",
       "    <tr>\n",
       "      <th>3</th>\n",
       "      <td>4</td>\n",
       "      <td>1</td>\n",
       "      <td>1</td>\n",
       "      <td>Futrelle, Mrs. Jacques Heath (Lily May Peel)</td>\n",
       "      <td>female</td>\n",
       "      <td>35.0</td>\n",
       "      <td>1</td>\n",
       "      <td>0</td>\n",
       "      <td>113803</td>\n",
       "      <td>53.1000</td>\n",
       "      <td>C123</td>\n",
       "      <td>S</td>\n",
       "    </tr>\n",
       "    <tr>\n",
       "      <th>4</th>\n",
       "      <td>5</td>\n",
       "      <td>0</td>\n",
       "      <td>3</td>\n",
       "      <td>Allen, Mr. William Henry</td>\n",
       "      <td>male</td>\n",
       "      <td>35.0</td>\n",
       "      <td>0</td>\n",
       "      <td>0</td>\n",
       "      <td>373450</td>\n",
       "      <td>8.0500</td>\n",
       "      <td>NaN</td>\n",
       "      <td>S</td>\n",
       "    </tr>\n",
       "  </tbody>\n",
       "</table>\n",
       "</div>"
      ],
      "text/plain": [
       "   PassengerId  Survived  Pclass  \\\n",
       "0            1         0       3   \n",
       "1            2         1       1   \n",
       "2            3         1       3   \n",
       "3            4         1       1   \n",
       "4            5         0       3   \n",
       "\n",
       "                                                Name     Sex   Age  SibSp  \\\n",
       "0                            Braund, Mr. Owen Harris    male  22.0      1   \n",
       "1  Cumings, Mrs. John Bradley (Florence Briggs Th...  female  38.0      1   \n",
       "2                             Heikkinen, Miss. Laina  female  26.0      0   \n",
       "3       Futrelle, Mrs. Jacques Heath (Lily May Peel)  female  35.0      1   \n",
       "4                           Allen, Mr. William Henry    male  35.0      0   \n",
       "\n",
       "   Parch            Ticket     Fare Cabin Embarked  \n",
       "0      0         A/5 21171   7.2500   NaN        S  \n",
       "1      0          PC 17599  71.2833   C85        C  \n",
       "2      0  STON/O2. 3101282   7.9250   NaN        S  \n",
       "3      0            113803  53.1000  C123        S  \n",
       "4      0            373450   8.0500   NaN        S  "
      ]
     },
     "execution_count": 2,
     "metadata": {},
     "output_type": "execute_result"
    }
   ],
   "source": [
    "train = pd.read_csv('/kaggle/input/titanic/train.csv')\n",
    "train.head()"
   ]
  },
  {
   "cell_type": "code",
   "execution_count": 3,
   "id": "9323d31e",
   "metadata": {
    "execution": {
     "iopub.execute_input": "2022-09-07T16:50:11.808425Z",
     "iopub.status.busy": "2022-09-07T16:50:11.808137Z",
     "iopub.status.idle": "2022-09-07T16:50:11.828675Z",
     "shell.execute_reply": "2022-09-07T16:50:11.827686Z"
    },
    "papermill": {
     "duration": 0.03374,
     "end_time": "2022-09-07T16:50:11.830595",
     "exception": false,
     "start_time": "2022-09-07T16:50:11.796855",
     "status": "completed"
    },
    "tags": []
   },
   "outputs": [
    {
     "data": {
      "text/html": [
       "<div>\n",
       "<style scoped>\n",
       "    .dataframe tbody tr th:only-of-type {\n",
       "        vertical-align: middle;\n",
       "    }\n",
       "\n",
       "    .dataframe tbody tr th {\n",
       "        vertical-align: top;\n",
       "    }\n",
       "\n",
       "    .dataframe thead th {\n",
       "        text-align: right;\n",
       "    }\n",
       "</style>\n",
       "<table border=\"1\" class=\"dataframe\">\n",
       "  <thead>\n",
       "    <tr style=\"text-align: right;\">\n",
       "      <th></th>\n",
       "      <th>PassengerId</th>\n",
       "      <th>Pclass</th>\n",
       "      <th>Name</th>\n",
       "      <th>Sex</th>\n",
       "      <th>Age</th>\n",
       "      <th>SibSp</th>\n",
       "      <th>Parch</th>\n",
       "      <th>Ticket</th>\n",
       "      <th>Fare</th>\n",
       "      <th>Cabin</th>\n",
       "      <th>Embarked</th>\n",
       "    </tr>\n",
       "  </thead>\n",
       "  <tbody>\n",
       "    <tr>\n",
       "      <th>0</th>\n",
       "      <td>892</td>\n",
       "      <td>3</td>\n",
       "      <td>Kelly, Mr. James</td>\n",
       "      <td>male</td>\n",
       "      <td>34.5</td>\n",
       "      <td>0</td>\n",
       "      <td>0</td>\n",
       "      <td>330911</td>\n",
       "      <td>7.8292</td>\n",
       "      <td>NaN</td>\n",
       "      <td>Q</td>\n",
       "    </tr>\n",
       "    <tr>\n",
       "      <th>1</th>\n",
       "      <td>893</td>\n",
       "      <td>3</td>\n",
       "      <td>Wilkes, Mrs. James (Ellen Needs)</td>\n",
       "      <td>female</td>\n",
       "      <td>47.0</td>\n",
       "      <td>1</td>\n",
       "      <td>0</td>\n",
       "      <td>363272</td>\n",
       "      <td>7.0000</td>\n",
       "      <td>NaN</td>\n",
       "      <td>S</td>\n",
       "    </tr>\n",
       "    <tr>\n",
       "      <th>2</th>\n",
       "      <td>894</td>\n",
       "      <td>2</td>\n",
       "      <td>Myles, Mr. Thomas Francis</td>\n",
       "      <td>male</td>\n",
       "      <td>62.0</td>\n",
       "      <td>0</td>\n",
       "      <td>0</td>\n",
       "      <td>240276</td>\n",
       "      <td>9.6875</td>\n",
       "      <td>NaN</td>\n",
       "      <td>Q</td>\n",
       "    </tr>\n",
       "    <tr>\n",
       "      <th>3</th>\n",
       "      <td>895</td>\n",
       "      <td>3</td>\n",
       "      <td>Wirz, Mr. Albert</td>\n",
       "      <td>male</td>\n",
       "      <td>27.0</td>\n",
       "      <td>0</td>\n",
       "      <td>0</td>\n",
       "      <td>315154</td>\n",
       "      <td>8.6625</td>\n",
       "      <td>NaN</td>\n",
       "      <td>S</td>\n",
       "    </tr>\n",
       "    <tr>\n",
       "      <th>4</th>\n",
       "      <td>896</td>\n",
       "      <td>3</td>\n",
       "      <td>Hirvonen, Mrs. Alexander (Helga E Lindqvist)</td>\n",
       "      <td>female</td>\n",
       "      <td>22.0</td>\n",
       "      <td>1</td>\n",
       "      <td>1</td>\n",
       "      <td>3101298</td>\n",
       "      <td>12.2875</td>\n",
       "      <td>NaN</td>\n",
       "      <td>S</td>\n",
       "    </tr>\n",
       "  </tbody>\n",
       "</table>\n",
       "</div>"
      ],
      "text/plain": [
       "   PassengerId  Pclass                                          Name     Sex  \\\n",
       "0          892       3                              Kelly, Mr. James    male   \n",
       "1          893       3              Wilkes, Mrs. James (Ellen Needs)  female   \n",
       "2          894       2                     Myles, Mr. Thomas Francis    male   \n",
       "3          895       3                              Wirz, Mr. Albert    male   \n",
       "4          896       3  Hirvonen, Mrs. Alexander (Helga E Lindqvist)  female   \n",
       "\n",
       "    Age  SibSp  Parch   Ticket     Fare Cabin Embarked  \n",
       "0  34.5      0      0   330911   7.8292   NaN        Q  \n",
       "1  47.0      1      0   363272   7.0000   NaN        S  \n",
       "2  62.0      0      0   240276   9.6875   NaN        Q  \n",
       "3  27.0      0      0   315154   8.6625   NaN        S  \n",
       "4  22.0      1      1  3101298  12.2875   NaN        S  "
      ]
     },
     "execution_count": 3,
     "metadata": {},
     "output_type": "execute_result"
    }
   ],
   "source": [
    "test = pd.read_csv('/kaggle/input/titanic/test.csv')\n",
    "test.head()"
   ]
  },
  {
   "cell_type": "code",
   "execution_count": 4,
   "id": "a109ded2",
   "metadata": {
    "execution": {
     "iopub.execute_input": "2022-09-07T16:50:11.850408Z",
     "iopub.status.busy": "2022-09-07T16:50:11.849863Z",
     "iopub.status.idle": "2022-09-07T16:50:11.854999Z",
     "shell.execute_reply": "2022-09-07T16:50:11.854142Z"
    },
    "papermill": {
     "duration": 0.017353,
     "end_time": "2022-09-07T16:50:11.857093",
     "exception": false,
     "start_time": "2022-09-07T16:50:11.839740",
     "status": "completed"
    },
    "tags": []
   },
   "outputs": [],
   "source": [
    "import random\n",
    "random.seed(0)"
   ]
  },
  {
   "cell_type": "code",
   "execution_count": 5,
   "id": "5c1b227f",
   "metadata": {
    "execution": {
     "iopub.execute_input": "2022-09-07T16:50:11.875901Z",
     "iopub.status.busy": "2022-09-07T16:50:11.875642Z",
     "iopub.status.idle": "2022-09-07T16:50:12.638757Z",
     "shell.execute_reply": "2022-09-07T16:50:12.637807Z"
    },
    "papermill": {
     "duration": 0.775441,
     "end_time": "2022-09-07T16:50:12.641363",
     "exception": false,
     "start_time": "2022-09-07T16:50:11.865922",
     "status": "completed"
    },
    "tags": []
   },
   "outputs": [
    {
     "data": {
      "text/plain": [
       "Text(0.5, 1.0, 'Missing Values in Train dataset')"
      ]
     },
     "execution_count": 5,
     "metadata": {},
     "output_type": "execute_result"
    },
    {
     "data": {
      "image/png": "[encoded data removed]",
      "text/plain": [
       "<Figure size 720x432 with 2 Axes>"
      ]
     },
     "metadata": {
      "needs_background": "light"
     },
     "output_type": "display_data"
    }
   ],
   "source": [
    "#missing values in train dataset\n",
    "plt.figure(figsize=(10, 6))\n",
    "sns.heatmap(train.isnull())\n",
    "plt.title('Missing Values in Train dataset', size=16)"
   ]
  },
  {
   "cell_type": "code",
   "execution_count": 6,
   "id": "3df415e9",
   "metadata": {
    "execution": {
     "iopub.execute_input": "2022-09-07T16:50:12.673885Z",
     "iopub.status.busy": "2022-09-07T16:50:12.672988Z",
     "iopub.status.idle": "2022-09-07T16:50:13.119939Z",
     "shell.execute_reply": "2022-09-07T16:50:13.119023Z"
    },
    "papermill": {
     "duration": 0.464952,
     "end_time": "2022-09-07T16:50:13.121948",
     "exception": false,
     "start_time": "2022-09-07T16:50:12.656996",
     "status": "completed"
    },
    "tags": []
   },
   "outputs": [
    {
     "data": {
      "text/plain": [
       "Text(0.5, 1.0, 'Missing Values in Test dataset')"
      ]
     },
     "execution_count": 6,
     "metadata": {},
     "output_type": "execute_result"
    },
    {
     "data": {
      "image/png": "[encoded data removed]",
      "text/plain": [
       "<Figure size 720x432 with 2 Axes>"
      ]
     },
     "metadata": {
      "needs_background": "light"
     },
     "output_type": "display_data"
    }
   ],
   "source": [
    "#missing values in test dataset\n",
    "plt.figure(figsize=(10, 6))\n",
    "sns.heatmap(test.isnull())\n",
    "plt.title('Missing Values in Test dataset', size=16)"
   ]
  },
  {
   "cell_type": "code",
   "execution_count": 7,
   "id": "1d83c647",
   "metadata": {
    "execution": {
     "iopub.execute_input": "2022-09-07T16:50:13.144222Z",
     "iopub.status.busy": "2022-09-07T16:50:13.143886Z",
     "iopub.status.idle": "2022-09-07T16:50:13.167446Z",
     "shell.execute_reply": "2022-09-07T16:50:13.166412Z"
    },
    "papermill": {
     "duration": 0.037863,
     "end_time": "2022-09-07T16:50:13.170237",
     "exception": false,
     "start_time": "2022-09-07T16:50:13.132374",
     "status": "completed"
    },
    "tags": []
   },
   "outputs": [
    {
     "name": "stdout",
     "output_type": "stream",
     "text": [
      "<class 'pandas.core.frame.DataFrame'>\n",
      "RangeIndex: 891 entries, 0 to 890\n",
      "Data columns (total 12 columns):\n",
      " #   Column       Non-Null Count  Dtype  \n",
      "---  ------       --------------  -----  \n",
      " 0   PassengerId  891 non-null    int64  \n",
      " 1   Survived     891 non-null    int64  \n",
      " 2   Pclass       891 non-null    int64  \n",
      " 3   Name         891 non-null    object \n",
      " 4   Sex          891 non-null    object \n",
      " 5   Age          714 non-null    float64\n",
      " 6   SibSp        891 non-null    int64  \n",
      " 7   Parch        891 non-null    int64  \n",
      " 8   Ticket       891 non-null    object \n",
      " 9   Fare         891 non-null    float64\n",
      " 10  Cabin        204 non-null    object \n",
      " 11  Embarked     889 non-null    object \n",
      "dtypes: float64(2), int64(5), object(5)\n",
      "memory usage: 83.7+ KB\n"
     ]
    }
   ],
   "source": [
    "train.info()"
   ]
  },
  {
   "cell_type": "code",
   "execution_count": 8,
   "id": "52e75627",
   "metadata": {
    "execution": {
     "iopub.execute_input": "2022-09-07T16:50:13.192209Z",
     "iopub.status.busy": "2022-09-07T16:50:13.191903Z",
     "iopub.status.idle": "2022-09-07T16:50:13.199114Z",
     "shell.execute_reply": "2022-09-07T16:50:13.198134Z"
    },
    "papermill": {
     "duration": 0.020623,
     "end_time": "2022-09-07T16:50:13.201140",
     "exception": false,
     "start_time": "2022-09-07T16:50:13.180517",
     "status": "completed"
    },
    "tags": []
   },
   "outputs": [],
   "source": [
    "#dropping passengerid and name column\n",
    "train.drop(['PassengerId', 'Name'], axis=1, inplace=True)\n",
    "test.drop(['PassengerId', 'Name'], axis=1, inplace=True)"
   ]
  },
  {
   "cell_type": "code",
   "execution_count": 9,
   "id": "95adb58b",
   "metadata": {
    "execution": {
     "iopub.execute_input": "2022-09-07T16:50:13.222361Z",
     "iopub.status.busy": "2022-09-07T16:50:13.222070Z",
     "iopub.status.idle": "2022-09-07T16:50:13.671950Z",
     "shell.execute_reply": "2022-09-07T16:50:13.670980Z"
    },
    "papermill": {
     "duration": 0.462989,
     "end_time": "2022-09-07T16:50:13.674154",
     "exception": false,
     "start_time": "2022-09-07T16:50:13.211165",
     "status": "completed"
    },
    "tags": []
   },
   "outputs": [
    {
     "name": "stderr",
     "output_type": "stream",
     "text": [
      "/opt/conda/lib/python3.7/site-packages/seaborn/_decorators.py:43: FutureWarning: Pass the following variable as a keyword arg: x. From version 0.12, the only valid positional argument will be `data`, and passing other arguments without an explicit keyword will result in an error or misinterpretation.\n",
      "  FutureWarning\n"
     ]
    },
    {
     "data": {
      "text/plain": [
       "Text(0.5, 1.0, 'Count Plot of Embarked')"
      ]
     },
     "execution_count": 9,
     "metadata": {},
     "output_type": "execute_result"
    },
    {
     "data": {
      "image/png": "[encoded data removed]",
      "text/plain": [
       "<Figure size 720x432 with 1 Axes>"
      ]
     },
     "metadata": {
      "needs_background": "light"
     },
     "output_type": "display_data"
    },
    {
     "data": {
      "image/png": "[encoded data removed]",
      "text/plain": [
       "<Figure size 720x432 with 1 Axes>"
      ]
     },
     "metadata": {
      "needs_background": "light"
     },
     "output_type": "display_data"
    }
   ],
   "source": [
    "#plotting missing numbers cols of train dataset\n",
    "plt.figure(figsize=(10, 6))\n",
    "sns.histplot(train['Age'])\n",
    "plt.title('Histogram of Age', size=16)\n",
    "plt.figure(figsize=(10, 6))\n",
    "sns.countplot('Embarked', data=train)\n",
    "plt.title('Count Plot of Embarked', size=16)\n"
   ]
  },
  {
   "cell_type": "code",
   "execution_count": 10,
   "id": "1bf42f5c",
   "metadata": {
    "execution": {
     "iopub.execute_input": "2022-09-07T16:50:13.698664Z",
     "iopub.status.busy": "2022-09-07T16:50:13.698300Z",
     "iopub.status.idle": "2022-09-07T16:50:13.705626Z",
     "shell.execute_reply": "2022-09-07T16:50:13.704660Z"
    },
    "papermill": {
     "duration": 0.021885,
     "end_time": "2022-09-07T16:50:13.707635",
     "exception": false,
     "start_time": "2022-09-07T16:50:13.685750",
     "status": "completed"
    },
    "tags": []
   },
   "outputs": [],
   "source": [
    "#imputing missing values\n",
    "train['Embarked'].fillna(train['Embarked'].mode()[0], inplace=True)\n",
    "train['Age'].fillna(train['Age'].median(), inplace=True)"
   ]
  },
  {
   "cell_type": "code",
   "execution_count": 11,
   "id": "3ec9b86b",
   "metadata": {
    "execution": {
     "iopub.execute_input": "2022-09-07T16:50:13.731664Z",
     "iopub.status.busy": "2022-09-07T16:50:13.730800Z",
     "iopub.status.idle": "2022-09-07T16:50:13.744154Z",
     "shell.execute_reply": "2022-09-07T16:50:13.743047Z"
    },
    "papermill": {
     "duration": 0.027584,
     "end_time": "2022-09-07T16:50:13.746205",
     "exception": false,
     "start_time": "2022-09-07T16:50:13.718621",
     "status": "completed"
    },
    "tags": []
   },
   "outputs": [
    {
     "name": "stdout",
     "output_type": "stream",
     "text": [
      "<class 'pandas.core.frame.DataFrame'>\n",
      "RangeIndex: 418 entries, 0 to 417\n",
      "Data columns (total 9 columns):\n",
      " #   Column    Non-Null Count  Dtype  \n",
      "---  ------    --------------  -----  \n",
      " 0   Pclass    418 non-null    int64  \n",
      " 1   Sex       418 non-null    object \n",
      " 2   Age       332 non-null    float64\n",
      " 3   SibSp     418 non-null    int64  \n",
      " 4   Parch     418 non-null    int64  \n",
      " 5   Ticket    418 non-null    object \n",
      " 6   Fare      417 non-null    float64\n",
      " 7   Cabin     91 non-null     object \n",
      " 8   Embarked  418 non-null    object \n",
      "dtypes: float64(2), int64(3), object(4)\n",
      "memory usage: 29.5+ KB\n"
     ]
    }
   ],
   "source": [
    "#describe test dataset\n",
    "test.info()"
   ]
  },
  {
   "cell_type": "code",
   "execution_count": 12,
   "id": "60b3e10a",
   "metadata": {
    "execution": {
     "iopub.execute_input": "2022-09-07T16:50:13.768455Z",
     "iopub.status.busy": "2022-09-07T16:50:13.768189Z",
     "iopub.status.idle": "2022-09-07T16:50:14.410506Z",
     "shell.execute_reply": "2022-09-07T16:50:14.409529Z"
    },
    "papermill": {
     "duration": 0.655794,
     "end_time": "2022-09-07T16:50:14.412520",
     "exception": false,
     "start_time": "2022-09-07T16:50:13.756726",
     "status": "completed"
    },
    "tags": []
   },
   "outputs": [
    {
     "data": {
      "text/plain": [
       "Text(0.5, 1.0, 'Histogram Plot of Fare')"
      ]
     },
     "execution_count": 12,
     "metadata": {},
     "output_type": "execute_result"
    },
    {
     "data": {
      "image/png": "[encoded data removed]",
      "text/plain": [
       "<Figure size 720x432 with 1 Axes>"
      ]
     },
     "metadata": {
      "needs_background": "light"
     },
     "output_type": "display_data"
    },
    {
     "data": {
      "image/png": "[encoded data removed]",
      "text/plain": [
       "<Figure size 720x432 with 1 Axes>"
      ]
     },
     "metadata": {
      "needs_background": "light"
     },
     "output_type": "display_data"
    }
   ],
   "source": [
    "#plotting missing values cols of test dataset\n",
    "plt.figure(figsize=(10, 6))\n",
    "sns.histplot(train['Age'])\n",
    "plt.title('Histogram of Age', size=16)\n",
    "plt.figure(figsize=(10, 6))\n",
    "sns.histplot(train['Fare'])\n",
    "plt.title('Histogram Plot of Fare', size=16)\n",
    "\n"
   ]
  },
  {
   "cell_type": "code",
   "execution_count": 13,
   "id": "6341e77f",
   "metadata": {
    "execution": {
     "iopub.execute_input": "2022-09-07T16:50:14.437171Z",
     "iopub.status.busy": "2022-09-07T16:50:14.436849Z",
     "iopub.status.idle": "2022-09-07T16:50:14.444541Z",
     "shell.execute_reply": "2022-09-07T16:50:14.443663Z"
    },
    "papermill": {
     "duration": 0.022488,
     "end_time": "2022-09-07T16:50:14.446605",
     "exception": false,
     "start_time": "2022-09-07T16:50:14.424117",
     "status": "completed"
    },
    "tags": []
   },
   "outputs": [],
   "source": [
    "#imputing missing values \n",
    "test['Fare'].fillna(test['Fare'].median(), inplace=True)\n",
    "test['Age'].fillna(test['Age'].median(), inplace=True)"
   ]
  },
  {
   "cell_type": "code",
   "execution_count": 14,
   "id": "adbe89c1",
   "metadata": {
    "execution": {
     "iopub.execute_input": "2022-09-07T16:50:14.470194Z",
     "iopub.status.busy": "2022-09-07T16:50:14.469890Z",
     "iopub.status.idle": "2022-09-07T16:50:14.702969Z",
     "shell.execute_reply": "2022-09-07T16:50:14.702009Z"
    },
    "papermill": {
     "duration": 0.247689,
     "end_time": "2022-09-07T16:50:14.705338",
     "exception": false,
     "start_time": "2022-09-07T16:50:14.457649",
     "status": "completed"
    },
    "tags": []
   },
   "outputs": [
    {
     "name": "stderr",
     "output_type": "stream",
     "text": [
      "/opt/conda/lib/python3.7/site-packages/seaborn/_decorators.py:43: FutureWarning: Pass the following variable as a keyword arg: x. From version 0.12, the only valid positional argument will be `data`, and passing other arguments without an explicit keyword will result in an error or misinterpretation.\n",
      "  FutureWarning\n"
     ]
    },
    {
     "data": {
      "text/plain": [
       "Text(0.5, 1.0, 'Class of Passenger over Survival')"
      ]
     },
     "execution_count": 14,
     "metadata": {},
     "output_type": "execute_result"
    },
    {
     "data": {
      "image/png": "[encoded data removed]",
      "text/plain": [
       "<Figure size 720x432 with 1 Axes>"
      ]
     },
     "metadata": {
      "needs_background": "light"
     },
     "output_type": "display_data"
    }
   ],
   "source": [
    "plt.figure(figsize=(10, 6))\n",
    "sns.countplot(train['Pclass'], hue= train['Survived'])\n",
    "plt.title('Class of Passenger over Survival', size=16)\n"
   ]
  },
  {
   "cell_type": "code",
   "execution_count": 15,
   "id": "5b0e4156",
   "metadata": {
    "execution": {
     "iopub.execute_input": "2022-09-07T16:50:14.730237Z",
     "iopub.status.busy": "2022-09-07T16:50:14.729900Z",
     "iopub.status.idle": "2022-09-07T16:50:14.971765Z",
     "shell.execute_reply": "2022-09-07T16:50:14.970862Z"
    },
    "papermill": {
     "duration": 0.256647,
     "end_time": "2022-09-07T16:50:14.973903",
     "exception": false,
     "start_time": "2022-09-07T16:50:14.717256",
     "status": "completed"
    },
    "tags": []
   },
   "outputs": [
    {
     "name": "stderr",
     "output_type": "stream",
     "text": [
      "/opt/conda/lib/python3.7/site-packages/seaborn/_decorators.py:43: FutureWarning: Pass the following variable as a keyword arg: x. From version 0.12, the only valid positional argument will be `data`, and passing other arguments without an explicit keyword will result in an error or misinterpretation.\n",
      "  FutureWarning\n"
     ]
    },
    {
     "data": {
      "text/plain": [
       "Text(0.5, 1.0, 'Embarked with respect to Survival')"
      ]
     },
     "execution_count": 15,
     "metadata": {},
     "output_type": "execute_result"
    },
    {
     "data": {
      "image/png": "[encoded data removed]",
      "text/plain": [
       "<Figure size 720x432 with 1 Axes>"
      ]
     },
     "metadata": {
      "needs_background": "light"
     },
     "output_type": "display_data"
    }
   ],
   "source": [
    "plt.figure(figsize=(10, 6))\n",
    "sns.countplot(train['Embarked'], hue= train['Survived'])\n",
    "plt.title('Embarked with respect to Survival', size=16)\n"
   ]
  },
  {
   "cell_type": "code",
   "execution_count": 16,
   "id": "0791f0b7",
   "metadata": {
    "execution": {
     "iopub.execute_input": "2022-09-07T16:50:14.999740Z",
     "iopub.status.busy": "2022-09-07T16:50:14.999283Z",
     "iopub.status.idle": "2022-09-07T16:50:15.381051Z",
     "shell.execute_reply": "2022-09-07T16:50:15.380127Z"
    },
    "papermill": {
     "duration": 0.396855,
     "end_time": "2022-09-07T16:50:15.383051",
     "exception": false,
     "start_time": "2022-09-07T16:50:14.986196",
     "status": "completed"
    },
    "tags": []
   },
   "outputs": [
    {
     "data": {
      "text/plain": [
       "Text(0.5, 1.0, 'Histogram of Age with respect to Survival')"
      ]
     },
     "execution_count": 16,
     "metadata": {},
     "output_type": "execute_result"
    },
    {
     "data": {
      "image/png": "[encoded data removed]",
      "text/plain": [
       "<Figure size 720x432 with 1 Axes>"
      ]
     },
     "metadata": {
      "needs_background": "light"
     },
     "output_type": "display_data"
    }
   ],
   "source": [
    "\n",
    "plt.figure(figsize=(10, 6))\n",
    "sns.histplot(x='Age', hue='Survived', data=train)\n",
    "plt.title('Histogram of Age with respect to Survival', size=16)\n"
   ]
  },
  {
   "cell_type": "code",
   "execution_count": 17,
   "id": "10c9ed2f",
   "metadata": {
    "execution": {
     "iopub.execute_input": "2022-09-07T16:50:15.409483Z",
     "iopub.status.busy": "2022-09-07T16:50:15.409180Z",
     "iopub.status.idle": "2022-09-07T16:50:15.666867Z",
     "shell.execute_reply": "2022-09-07T16:50:15.665952Z"
    },
    "papermill": {
     "duration": 0.273279,
     "end_time": "2022-09-07T16:50:15.669158",
     "exception": false,
     "start_time": "2022-09-07T16:50:15.395879",
     "status": "completed"
    },
    "tags": []
   },
   "outputs": [
    {
     "name": "stderr",
     "output_type": "stream",
     "text": [
      "/opt/conda/lib/python3.7/site-packages/seaborn/_decorators.py:43: FutureWarning: Pass the following variable as a keyword arg: x. From version 0.12, the only valid positional argument will be `data`, and passing other arguments without an explicit keyword will result in an error or misinterpretation.\n",
      "  FutureWarning\n"
     ]
    },
    {
     "data": {
      "text/plain": [
       "Text(0.5, 1.0, 'Count plot of Parch with respect to Survival')"
      ]
     },
     "execution_count": 17,
     "metadata": {},
     "output_type": "execute_result"
    },
    {
     "data": {
      "image/png": "[encoded data removed]",
      "text/plain": [
       "<Figure size 720x432 with 1 Axes>"
      ]
     },
     "metadata": {
      "needs_background": "light"
     },
     "output_type": "display_data"
    }
   ],
   "source": [
    "#Count plot of Parch with respect to Survival\n",
    "plt.figure(figsize=(10, 6))\n",
    "sns.countplot(train['Parch'], hue= train['Survived'])\n",
    "plt.title('Count plot of Parch with respect to Survival', size=16)"
   ]
  },
  {
   "cell_type": "code",
   "execution_count": 18,
   "id": "2e9a9f32",
   "metadata": {
    "execution": {
     "iopub.execute_input": "2022-09-07T16:50:15.695848Z",
     "iopub.status.busy": "2022-09-07T16:50:15.695545Z",
     "iopub.status.idle": "2022-09-07T16:50:16.079923Z",
     "shell.execute_reply": "2022-09-07T16:50:16.078987Z"
    },
    "papermill": {
     "duration": 0.400281,
     "end_time": "2022-09-07T16:50:16.082280",
     "exception": false,
     "start_time": "2022-09-07T16:50:15.681999",
     "status": "completed"
    },
    "tags": []
   },
   "outputs": [
    {
     "name": "stderr",
     "output_type": "stream",
     "text": [
      "/opt/conda/lib/python3.7/site-packages/seaborn/_decorators.py:43: FutureWarning: Pass the following variable as a keyword arg: x. From version 0.12, the only valid positional argument will be `data`, and passing other arguments without an explicit keyword will result in an error or misinterpretation.\n",
      "  FutureWarning\n"
     ]
    },
    {
     "data": {
      "text/plain": [
       "Text(0.5, 1.0, 'Count plot of SibSp with respect to Survival')"
      ]
     },
     "execution_count": 18,
     "metadata": {},
     "output_type": "execute_result"
    },
    {
     "data": {
      "image/png": "[encoded data removed]",
      "text/plain": [
       "<Figure size 720x432 with 1 Axes>"
      ]
     },
     "metadata": {
      "needs_background": "light"
     },
     "output_type": "display_data"
    }
   ],
   "source": [
    "plt.figure(figsize=(10, 6))\n",
    "sns.countplot(train['SibSp'], hue= train['Survived'])\n",
    "plt.title('Count plot of SibSp with respect to Survival', size=16)\n"
   ]
  },
  {
   "cell_type": "code",
   "execution_count": 19,
   "id": "3c42c202",
   "metadata": {
    "execution": {
     "iopub.execute_input": "2022-09-07T16:50:16.110132Z",
     "iopub.status.busy": "2022-09-07T16:50:16.109799Z",
     "iopub.status.idle": "2022-09-07T16:50:16.319970Z",
     "shell.execute_reply": "2022-09-07T16:50:16.318999Z"
    },
    "papermill": {
     "duration": 0.226384,
     "end_time": "2022-09-07T16:50:16.322151",
     "exception": false,
     "start_time": "2022-09-07T16:50:16.095767",
     "status": "completed"
    },
    "tags": []
   },
   "outputs": [
    {
     "name": "stderr",
     "output_type": "stream",
     "text": [
      "/opt/conda/lib/python3.7/site-packages/seaborn/_decorators.py:43: FutureWarning: Pass the following variable as a keyword arg: x. From version 0.12, the only valid positional argument will be `data`, and passing other arguments without an explicit keyword will result in an error or misinterpretation.\n",
      "  FutureWarning\n"
     ]
    },
    {
     "data": {
      "text/plain": [
       "Text(0.5, 1.0, 'Count plot of Sex with respect to Survival')"
      ]
     },
     "execution_count": 19,
     "metadata": {},
     "output_type": "execute_result"
    },
    {
     "data": {
      "image/png": "[encoded data removed]",
      "text/plain": [
       "<Figure size 720x432 with 1 Axes>"
      ]
     },
     "metadata": {
      "needs_background": "light"
     },
     "output_type": "display_data"
    }
   ],
   "source": [
    "plt.figure(figsize=(10, 6))\n",
    "sns.countplot(train['Sex'], hue= train['Survived'])\n",
    "plt.title('Count plot of Sex with respect to Survival', size=16)\n",
    "\n"
   ]
  },
  {
   "cell_type": "code",
   "execution_count": 20,
   "id": "69168b1b",
   "metadata": {
    "execution": {
     "iopub.execute_input": "2022-09-07T16:50:16.351547Z",
     "iopub.status.busy": "2022-09-07T16:50:16.350693Z",
     "iopub.status.idle": "2022-09-07T16:50:16.474577Z",
     "shell.execute_reply": "2022-09-07T16:50:16.473443Z"
    },
    "papermill": {
     "duration": 0.141895,
     "end_time": "2022-09-07T16:50:16.477837",
     "exception": false,
     "start_time": "2022-09-07T16:50:16.335942",
     "status": "completed"
    },
    "tags": []
   },
   "outputs": [
    {
     "name": "stdout",
     "output_type": "stream",
     "text": [
      "0    549\n",
      "1    342\n",
      "Name: Survived, dtype: int64\n"
     ]
    },
    {
     "data": {
      "text/plain": [
       "Text(0.5, 1.0, 'Class distribution')"
      ]
     },
     "execution_count": 20,
     "metadata": {},
     "output_type": "execute_result"
    },
    {
     "data": {
      "image/png": "[encoded data removed]",
      "text/plain": [
       "<Figure size 864x576 with 1 Axes>"
      ]
     },
     "metadata": {},
     "output_type": "display_data"
    }
   ],
   "source": [
    "value_counts = train['Survived'].value_counts()\n",
    "print(value_counts)\n",
    "\n",
    "\n",
    "plt.figure(figsize=(12,8))\n",
    "plt.pie(value_counts, labels = ['Not Survived', 'Survived'],autopct='%1.1f%%')\n",
    "plt.title('Class distribution', size=18)"
   ]
  },
  {
   "cell_type": "code",
   "execution_count": 21,
   "id": "11b201a7",
   "metadata": {
    "execution": {
     "iopub.execute_input": "2022-09-07T16:50:16.551767Z",
     "iopub.status.busy": "2022-09-07T16:50:16.551136Z",
     "iopub.status.idle": "2022-09-07T16:50:16.947657Z",
     "shell.execute_reply": "2022-09-07T16:50:16.946761Z"
    },
    "papermill": {
     "duration": 0.436851,
     "end_time": "2022-09-07T16:50:16.950023",
     "exception": false,
     "start_time": "2022-09-07T16:50:16.513172",
     "status": "completed"
    },
    "tags": []
   },
   "outputs": [
    {
     "data": {
      "text/plain": [
       "<AxesSubplot:>"
      ]
     },
     "execution_count": 21,
     "metadata": {},
     "output_type": "execute_result"
    },
    {
     "data": {
      "image/png": "[encoded data removed]",
      "text/plain": [
       "<Figure size 720x432 with 2 Axes>"
      ]
     },
     "metadata": {
      "needs_background": "light"
     },
     "output_type": "display_data"
    }
   ],
   "source": [
    "correlation = train.corr(method='spearman')\n",
    "plt.figure(figsize=(10, 6))\n",
    "sns.heatmap(correlation, annot=True)\n"
   ]
  },
  {
   "cell_type": "code",
   "execution_count": 22,
   "id": "ed9503c7",
   "metadata": {
    "execution": {
     "iopub.execute_input": "2022-09-07T16:50:16.979867Z",
     "iopub.status.busy": "2022-09-07T16:50:16.979565Z",
     "iopub.status.idle": "2022-09-07T16:50:17.069196Z",
     "shell.execute_reply": "2022-09-07T16:50:17.068107Z"
    },
    "papermill": {
     "duration": 0.108499,
     "end_time": "2022-09-07T16:50:17.072944",
     "exception": false,
     "start_time": "2022-09-07T16:50:16.964445",
     "status": "completed"
    },
    "tags": []
   },
   "outputs": [
    {
     "name": "stdout",
     "output_type": "stream",
     "text": [
      "    feature       VIF\n",
      "0  Survived  1.623374\n",
      "1    Pclass  3.714238\n",
      "2       Age  3.939674\n",
      "3     SibSp  1.566551\n",
      "4     Parch  1.555587\n",
      "5      Fare  1.831183\n"
     ]
    },
    {
     "name": "stderr",
     "output_type": "stream",
     "text": [
      "/opt/conda/lib/python3.7/site-packages/ipykernel_launcher.py:2: DeprecationWarning: `np.object` is a deprecated alias for the builtin `object`. To silence this warning, use `object` by itself. Doing this will not modify any behavior and is safe. \n",
      "Deprecated in NumPy 1.20; for more details and guidance: https://numpy.org/devdocs/release/1.20.0-notes.html#deprecations\n",
      "  \n"
     ]
    }
   ],
   "source": [
    "from statsmodels.stats.outliers_influence import variance_inflation_factor\n",
    "train_num = [x for x in train.columns if train[x].dtypes!=np.object]\n",
    "train_num = train[train_num]\n",
    "\n",
    "vif_data = pd.DataFrame()\n",
    "vif_data[\"feature\"] = train_num.columns\n",
    "  \n",
    "# calculating VIF for each feature\n",
    "vif_data[\"VIF\"] = [variance_inflation_factor(train_num.values, i)\n",
    "                          for i in range(len(train_num.columns))]\n",
    "  \n",
    "print(vif_data)"
   ]
  },
  {
   "cell_type": "code",
   "execution_count": 23,
   "id": "2092874e",
   "metadata": {
    "execution": {
     "iopub.execute_input": "2022-09-07T16:50:17.104973Z",
     "iopub.status.busy": "2022-09-07T16:50:17.103412Z",
     "iopub.status.idle": "2022-09-07T16:50:17.110862Z",
     "shell.execute_reply": "2022-09-07T16:50:17.109983Z"
    },
    "papermill": {
     "duration": 0.025301,
     "end_time": "2022-09-07T16:50:17.112889",
     "exception": false,
     "start_time": "2022-09-07T16:50:17.087588",
     "status": "completed"
    },
    "tags": []
   },
   "outputs": [],
   "source": [
    "#train['Cabin'].fillna(train['Cabin'].mode()[0], inplace=True)\n",
    "#test['Cabin'].fillna(test['Cabin'].mode()[0], inplace=True)\n",
    "\n",
    "#As Cabin column has maximum null values, we are dropping the entire column\n",
    "train.drop('Cabin', inplace=True, axis=1)\n",
    "test.drop('Cabin', inplace=True, axis=1)"
   ]
  },
  {
   "cell_type": "code",
   "execution_count": 24,
   "id": "6f25e588",
   "metadata": {
    "execution": {
     "iopub.execute_input": "2022-09-07T16:50:17.143169Z",
     "iopub.status.busy": "2022-09-07T16:50:17.142836Z",
     "iopub.status.idle": "2022-09-07T16:50:17.151951Z",
     "shell.execute_reply": "2022-09-07T16:50:17.150998Z"
    },
    "papermill": {
     "duration": 0.027811,
     "end_time": "2022-09-07T16:50:17.154993",
     "exception": false,
     "start_time": "2022-09-07T16:50:17.127182",
     "status": "completed"
    },
    "tags": []
   },
   "outputs": [
    {
     "name": "stdout",
     "output_type": "stream",
     "text": [
      "Nulls in Train dataset :  Survived    0\n",
      "Pclass      0\n",
      "Sex         0\n",
      "Age         0\n",
      "SibSp       0\n",
      "Parch       0\n",
      "Ticket      0\n",
      "Fare        0\n",
      "Embarked    0\n",
      "dtype: int64\n",
      "********************************************************************************\n",
      "********************************************************************************\n",
      "Nulls in Test dataset :  Pclass      0\n",
      "Sex         0\n",
      "Age         0\n",
      "SibSp       0\n",
      "Parch       0\n",
      "Ticket      0\n",
      "Fare        0\n",
      "Embarked    0\n",
      "dtype: int64\n"
     ]
    }
   ],
   "source": [
    "print('Nulls in Train dataset : ',train.isnull().sum())\n",
    "print('*'*80)\n",
    "print('*'*80)\n",
    "print('Nulls in Test dataset : ',test.isnull().sum())"
   ]
  },
  {
   "cell_type": "code",
   "execution_count": 25,
   "id": "d52dbe00",
   "metadata": {
    "execution": {
     "iopub.execute_input": "2022-09-07T16:50:17.186362Z",
     "iopub.status.busy": "2022-09-07T16:50:17.185809Z",
     "iopub.status.idle": "2022-09-07T16:50:17.427950Z",
     "shell.execute_reply": "2022-09-07T16:50:17.427011Z"
    },
    "papermill": {
     "duration": 0.259567,
     "end_time": "2022-09-07T16:50:17.430110",
     "exception": false,
     "start_time": "2022-09-07T16:50:17.170543",
     "status": "completed"
    },
    "tags": []
   },
   "outputs": [
    {
     "data": {
      "text/plain": [
       "<AxesSubplot:xlabel='col_name', ylabel='uniques'>"
      ]
     },
     "execution_count": 25,
     "metadata": {},
     "output_type": "execute_result"
    },
    {
     "data": {
      "image/png": "[encoded data removed]",
      "text/plain": [
       "<Figure size 720x432 with 1 Axes>"
      ]
     },
     "metadata": {
      "needs_background": "light"
     },
     "output_type": "display_data"
    }
   ],
   "source": [
    "plt.figure(figsize=(10, 6))\n",
    "df = pd.DataFrame(((col,len(train[col].unique())) for col in train.columns), columns = ['col_name', 'uniques'])\n",
    "sns.barplot(x = 'col_name', y = 'uniques', data=df)"
   ]
  },
  {
   "cell_type": "code",
   "execution_count": 26,
   "id": "a82eef29",
   "metadata": {
    "execution": {
     "iopub.execute_input": "2022-09-07T16:50:17.460930Z",
     "iopub.status.busy": "2022-09-07T16:50:17.460634Z",
     "iopub.status.idle": "2022-09-07T16:50:17.467921Z",
     "shell.execute_reply": "2022-09-07T16:50:17.467058Z"
    },
    "papermill": {
     "duration": 0.024958,
     "end_time": "2022-09-07T16:50:17.469918",
     "exception": false,
     "start_time": "2022-09-07T16:50:17.444960",
     "status": "completed"
    },
    "tags": []
   },
   "outputs": [],
   "source": [
    "#ticket cols has many unique classes which can't contribute to classification\n",
    "train.drop('Ticket', axis=1, inplace=True)\n",
    "test.drop('Ticket', axis=1, inplace=True)"
   ]
  },
  {
   "cell_type": "code",
   "execution_count": 27,
   "id": "d03ee4fb",
   "metadata": {
    "execution": {
     "iopub.execute_input": "2022-09-07T16:50:17.500641Z",
     "iopub.status.busy": "2022-09-07T16:50:17.500346Z",
     "iopub.status.idle": "2022-09-07T16:50:17.623241Z",
     "shell.execute_reply": "2022-09-07T16:50:17.622147Z"
    },
    "papermill": {
     "duration": 0.141419,
     "end_time": "2022-09-07T16:50:17.626019",
     "exception": false,
     "start_time": "2022-09-07T16:50:17.484600",
     "status": "completed"
    },
    "tags": []
   },
   "outputs": [
    {
     "name": "stdout",
     "output_type": "stream",
     "text": [
      "(891, 8) (891, 8)\n",
      "[[  0.   2.   1. ...   0.  18.   2.]\n",
      " [  1.   0.   0. ...   0. 207.   0.]\n",
      " [  1.   2.   0. ...   0.  41.   2.]\n",
      " ...\n",
      " [  0.   2.   0. ...   2. 131.   2.]\n",
      " [  1.   0.   1. ...   0. 153.   0.]\n",
      " [  0.   2.   1. ...   0.  30.   1.]]\n"
     ]
    }
   ],
   "source": [
    "from sklearn.preprocessing import OrdinalEncoder\n",
    "ord_enc = OrdinalEncoder()\n",
    "train_transformed = ord_enc.fit_transform(train)\n",
    "print(train_transformed.shape, train.shape)\n",
    "print(train_transformed)\n",
    "train_transformed = pd.DataFrame(train_transformed, columns = train.columns)\n",
    "y = train_transformed['Survived']\n",
    "x = train_transformed.drop('Survived', axis=1)"
   ]
  },
  {
   "cell_type": "code",
   "execution_count": 28,
   "id": "ac64514f",
   "metadata": {
    "execution": {
     "iopub.execute_input": "2022-09-07T16:50:17.658179Z",
     "iopub.status.busy": "2022-09-07T16:50:17.657595Z",
     "iopub.status.idle": "2022-09-07T16:50:17.823237Z",
     "shell.execute_reply": "2022-09-07T16:50:17.822153Z"
    },
    "papermill": {
     "duration": 0.184805,
     "end_time": "2022-09-07T16:50:17.825845",
     "exception": false,
     "start_time": "2022-09-07T16:50:17.641040",
     "status": "completed"
    },
    "tags": []
   },
   "outputs": [
    {
     "name": "stdout",
     "output_type": "stream",
     "text": [
      "SibSp has p_values 0.4315092575763657 which is less than significance level\n"
     ]
    }
   ],
   "source": [
    "#anova for numerical features\n",
    "from sklearn.feature_selection import SelectKBest, f_classif, chi2\n",
    "anova = SelectKBest(f_classif, k='all')\n",
    "anova.fit(x, y)\n",
    "\n",
    "feature_names = anova.get_feature_names_out()\n",
    "p_values = anova.pvalues_\n",
    "for en in zip(feature_names, p_values):\n",
    "    if en[1]>0.1:\n",
    "        print(f'{en[0]} has p_values {en[1]} which is less than significance level')\n"
   ]
  },
  {
   "cell_type": "code",
   "execution_count": 29,
   "id": "52dc6a7a",
   "metadata": {
    "execution": {
     "iopub.execute_input": "2022-09-07T16:50:17.858185Z",
     "iopub.status.busy": "2022-09-07T16:50:17.857856Z",
     "iopub.status.idle": "2022-09-07T16:50:17.868192Z",
     "shell.execute_reply": "2022-09-07T16:50:17.866900Z"
    },
    "papermill": {
     "duration": 0.029166,
     "end_time": "2022-09-07T16:50:17.870753",
     "exception": false,
     "start_time": "2022-09-07T16:50:17.841587",
     "status": "completed"
    },
    "tags": []
   },
   "outputs": [
    {
     "name": "stdout",
     "output_type": "stream",
     "text": [
      "SibSp has p_values 0.2662355366655962 which is less than significance level\n"
     ]
    }
   ],
   "source": [
    "#chi2 for numerical features\n",
    "chi_sq = SelectKBest(chi2, k='all')\n",
    "chi_sq.fit(x, y)\n",
    "feature_names = chi_sq.get_feature_names_out()\n",
    "p_values = chi_sq.pvalues_\n",
    "for en in zip(feature_names, p_values):\n",
    "    if en[1]>0.1:\n",
    "        print(f'{en[0]} has p_values {en[1]} which is less than significance level')\n"
   ]
  },
  {
   "cell_type": "code",
   "execution_count": 30,
   "id": "2c754168",
   "metadata": {
    "execution": {
     "iopub.execute_input": "2022-09-07T16:50:17.902266Z",
     "iopub.status.busy": "2022-09-07T16:50:17.901648Z",
     "iopub.status.idle": "2022-09-07T16:50:17.908819Z",
     "shell.execute_reply": "2022-09-07T16:50:17.907982Z"
    },
    "papermill": {
     "duration": 0.024716,
     "end_time": "2022-09-07T16:50:17.910716",
     "exception": false,
     "start_time": "2022-09-07T16:50:17.886000",
     "status": "completed"
    },
    "tags": []
   },
   "outputs": [],
   "source": [
    "#train.drop(['SibSp'], axis=1, inplace=True)\n",
    "#test.drop(['SibSp'], axis=1, inplace=True)\n",
    "\n",
    "train['fam_size'] = train['SibSp'] + train['Parch'] + 1\n",
    "test['fam_size'] = test['SibSp'] + test['Parch'] + 1"
   ]
  },
  {
   "cell_type": "code",
   "execution_count": 31,
   "id": "a9b52354",
   "metadata": {
    "execution": {
     "iopub.execute_input": "2022-09-07T16:50:17.941694Z",
     "iopub.status.busy": "2022-09-07T16:50:17.941420Z",
     "iopub.status.idle": "2022-09-07T16:50:17.946316Z",
     "shell.execute_reply": "2022-09-07T16:50:17.945380Z"
    },
    "papermill": {
     "duration": 0.023228,
     "end_time": "2022-09-07T16:50:17.949112",
     "exception": false,
     "start_time": "2022-09-07T16:50:17.925884",
     "status": "completed"
    },
    "tags": []
   },
   "outputs": [
    {
     "name": "stdout",
     "output_type": "stream",
     "text": [
      "Shape of Train:  (891, 9)\n",
      "Shape of Test:  (418, 8)\n"
     ]
    }
   ],
   "source": [
    "print('Shape of Train: ',train.shape)\n",
    "print('Shape of Test: ',test.shape)"
   ]
  },
  {
   "cell_type": "code",
   "execution_count": 32,
   "id": "93116cd4",
   "metadata": {
    "execution": {
     "iopub.execute_input": "2022-09-07T16:50:17.981565Z",
     "iopub.status.busy": "2022-09-07T16:50:17.980795Z",
     "iopub.status.idle": "2022-09-07T16:50:17.987813Z",
     "shell.execute_reply": "2022-09-07T16:50:17.986980Z"
    },
    "papermill": {
     "duration": 0.024909,
     "end_time": "2022-09-07T16:50:17.989725",
     "exception": false,
     "start_time": "2022-09-07T16:50:17.964816",
     "status": "completed"
    },
    "tags": []
   },
   "outputs": [],
   "source": [
    "train.drop(['SibSp', 'Parch'], axis=1, inplace=True)\n",
    "test.drop(['SibSp', 'Parch'], axis=1, inplace=True)"
   ]
  },
  {
   "cell_type": "code",
   "execution_count": 33,
   "id": "ac4b1a39",
   "metadata": {
    "execution": {
     "iopub.execute_input": "2022-09-07T16:50:18.020452Z",
     "iopub.status.busy": "2022-09-07T16:50:18.020177Z",
     "iopub.status.idle": "2022-09-07T16:50:18.026321Z",
     "shell.execute_reply": "2022-09-07T16:50:18.025342Z"
    },
    "papermill": {
     "duration": 0.024157,
     "end_time": "2022-09-07T16:50:18.028398",
     "exception": false,
     "start_time": "2022-09-07T16:50:18.004241",
     "status": "completed"
    },
    "tags": []
   },
   "outputs": [
    {
     "data": {
      "text/plain": [
       "Index(['Survived', 'Pclass', 'Sex', 'Age', 'Fare', 'Embarked', 'fam_size'], dtype='object')"
      ]
     },
     "execution_count": 33,
     "metadata": {},
     "output_type": "execute_result"
    }
   ],
   "source": [
    "train.columns"
   ]
  },
  {
   "cell_type": "code",
   "execution_count": 34,
   "id": "edceed42",
   "metadata": {
    "execution": {
     "iopub.execute_input": "2022-09-07T16:50:18.059064Z",
     "iopub.status.busy": "2022-09-07T16:50:18.058786Z",
     "iopub.status.idle": "2022-09-07T16:50:18.063129Z",
     "shell.execute_reply": "2022-09-07T16:50:18.062077Z"
    },
    "papermill": {
     "duration": 0.022351,
     "end_time": "2022-09-07T16:50:18.065354",
     "exception": false,
     "start_time": "2022-09-07T16:50:18.043003",
     "status": "completed"
    },
    "tags": []
   },
   "outputs": [],
   "source": [
    "# from sklearn.preprocessing import StandardScaler\n",
    "# train_temp = train[['Age', 'Fare']]\n",
    "# scale= StandardScaler()\n",
    "# scaled_data = scale.fit_transform(train_temp) \n",
    "# scaled_data\n",
    "# train.drop(['Age', 'Fare'], axis=1, inplace=True)\n",
    "# train = pd.concat([train, pd.DataFrame(scaled_data, columns=['Age', 'Fare'])], axis=1)\n",
    "# train"
   ]
  },
  {
   "cell_type": "code",
   "execution_count": 35,
   "id": "b15d208b",
   "metadata": {
    "execution": {
     "iopub.execute_input": "2022-09-07T16:50:18.097294Z",
     "iopub.status.busy": "2022-09-07T16:50:18.096500Z",
     "iopub.status.idle": "2022-09-07T16:50:24.786938Z",
     "shell.execute_reply": "2022-09-07T16:50:24.785945Z"
    },
    "papermill": {
     "duration": 6.708967,
     "end_time": "2022-09-07T16:50:24.789534",
     "exception": false,
     "start_time": "2022-09-07T16:50:18.080567",
     "status": "completed"
    },
    "tags": []
   },
   "outputs": [
    {
     "data": {
      "text/plain": [
       "('Pclass', 'Age', 'Fare', 'fam_size', 'Sex_male')"
      ]
     },
     "execution_count": 35,
     "metadata": {},
     "output_type": "execute_result"
    }
   ],
   "source": [
    "from mlxtend.feature_selection import SequentialFeatureSelector as SFS\n",
    "from sklearn.ensemble import GradientBoostingClassifier  \n",
    "# Sequential Forward Selection(sfs)\n",
    "\n",
    "y = train['Survived']\n",
    "x = pd.get_dummies(train.drop(['Survived'], axis=1), drop_first=True)\n",
    "sfs = SFS(GradientBoostingClassifier(max_depth=2, learning_rate=0.2),\n",
    "          k_features=5,\n",
    "          forward=True,\n",
    "          floating=False,\n",
    "          scoring = 'accuracy',\n",
    "          cv = 5)\n",
    "sfs.fit(x, y)\n",
    "sfs.k_feature_names_"
   ]
  },
  {
   "cell_type": "code",
   "execution_count": 36,
   "id": "119dfd98",
   "metadata": {
    "execution": {
     "iopub.execute_input": "2022-09-07T16:50:24.822130Z",
     "iopub.status.busy": "2022-09-07T16:50:24.821782Z",
     "iopub.status.idle": "2022-09-07T16:50:24.844354Z",
     "shell.execute_reply": "2022-09-07T16:50:24.843281Z"
    },
    "papermill": {
     "duration": 0.041802,
     "end_time": "2022-09-07T16:50:24.847257",
     "exception": false,
     "start_time": "2022-09-07T16:50:24.805455",
     "status": "completed"
    },
    "tags": []
   },
   "outputs": [
    {
     "name": "stderr",
     "output_type": "stream",
     "text": [
      "/opt/conda/lib/python3.7/site-packages/pandas/core/frame.py:4913: SettingWithCopyWarning: \n",
      "A value is trying to be set on a copy of a slice from a DataFrame\n",
      "\n",
      "See the caveats in the documentation: https://pandas.pydata.org/pandas-docs/stable/user_guide/indexing.html#returning-a-view-versus-a-copy\n",
      "  errors=errors,\n"
     ]
    }
   ],
   "source": [
    "data = pd.concat([train, test], axis=0)\n",
    "data_transformed = pd.get_dummies(data, drop_first=True)\n",
    "train_transformed = data_transformed.iloc[:train.shape[0], :]\n",
    "test_transformed = data_transformed.iloc[train.shape[0]:, :]\n",
    "test_transformed.drop('Survived', axis=1, inplace=True)\n",
    "\n",
    "y = train_transformed['Survived']\n",
    "x = train_transformed.drop('Survived', axis=1)\n",
    "\n",
    "from sklearn.model_selection import train_test_split, GridSearchCV\n",
    "xtrain, xtest, ytrain, ytest = train_test_split(x, y, test_size=0.1, random_state=1234)"
   ]
  },
  {
   "cell_type": "code",
   "execution_count": 37,
   "id": "02618790",
   "metadata": {
    "execution": {
     "iopub.execute_input": "2022-09-07T16:50:24.880556Z",
     "iopub.status.busy": "2022-09-07T16:50:24.879997Z",
     "iopub.status.idle": "2022-09-07T16:50:29.974190Z",
     "shell.execute_reply": "2022-09-07T16:50:29.972985Z"
    },
    "papermill": {
     "duration": 5.114025,
     "end_time": "2022-09-07T16:50:29.978232",
     "exception": false,
     "start_time": "2022-09-07T16:50:24.864207",
     "status": "completed"
    },
    "tags": []
   },
   "outputs": [],
   "source": [
    "import keras_tuner\n",
    "from tensorflow import keras\n",
    "from keras import layers"
   ]
  },
  {
   "cell_type": "code",
   "execution_count": 38,
   "id": "23c97922",
   "metadata": {
    "execution": {
     "iopub.execute_input": "2022-09-07T16:50:30.014163Z",
     "iopub.status.busy": "2022-09-07T16:50:30.013622Z",
     "iopub.status.idle": "2022-09-07T16:50:30.021393Z",
     "shell.execute_reply": "2022-09-07T16:50:30.020467Z"
    },
    "papermill": {
     "duration": 0.026278,
     "end_time": "2022-09-07T16:50:30.023341",
     "exception": false,
     "start_time": "2022-09-07T16:50:29.997063",
     "status": "completed"
    },
    "tags": []
   },
   "outputs": [],
   "source": [
    "def build_model(hp):\n",
    "    inputs = keras.Input(shape=(7,))\n",
    "    hd6 = layers.Dense(hp.Choice('units1', [4, 8, 16, 32, 64]),activation='relu')(inputs)\n",
    "    hd5 = layers.Dense(hp.Choice('units2', [4, 8, 16, 32, 64]),activation='relu')(hd6)\n",
    "    hd4 = layers.Dense(hp.Choice('units3', [4, 8, 16, 32, 64]),activation='relu')(hd5)\n",
    "    outputs = layers.Dense(1,activation='sigmoid')(hd4)\n",
    "    \n",
    "    model = keras.Model(inputs=inputs, outputs=outputs)\n",
    "    learning_rate = hp.Float(\"lr\", min_value=1e-4, max_value=1e-1, sampling=\"log\")\n",
    "    model.compile(loss=keras.losses.binary_crossentropy, optimizer=keras.optimizers.Adam(learning_rate=learning_rate), metrics = (\"accuracy\"))\n",
    "    return model"
   ]
  },
  {
   "cell_type": "code",
   "execution_count": 39,
   "id": "9ac0c9c9",
   "metadata": {
    "execution": {
     "iopub.execute_input": "2022-09-07T16:50:30.055072Z",
     "iopub.status.busy": "2022-09-07T16:50:30.054151Z",
     "iopub.status.idle": "2022-09-07T16:50:33.034692Z",
     "shell.execute_reply": "2022-09-07T16:50:33.033535Z"
    },
    "papermill": {
     "duration": 3.00012,
     "end_time": "2022-09-07T16:50:33.038525",
     "exception": false,
     "start_time": "2022-09-07T16:50:30.038405",
     "status": "completed"
    },
    "tags": []
   },
   "outputs": [
    {
     "name": "stderr",
     "output_type": "stream",
     "text": [
      "2022-09-07 16:50:30.154707: I tensorflow/stream_executor/cuda/cuda_gpu_executor.cc:937] successful NUMA node read from SysFS had negative value (-1), but there must be at least one NUMA node, so returning NUMA node zero\n",
      "2022-09-07 16:50:30.314243: I tensorflow/stream_executor/cuda/cuda_gpu_executor.cc:937] successful NUMA node read from SysFS had negative value (-1), but there must be at least one NUMA node, so returning NUMA node zero\n",
      "2022-09-07 16:50:30.315037: I tensorflow/stream_executor/cuda/cuda_gpu_executor.cc:937] successful NUMA node read from SysFS had negative value (-1), but there must be at least one NUMA node, so returning NUMA node zero\n",
      "2022-09-07 16:50:30.317033: I tensorflow/core/platform/cpu_feature_guard.cc:142] This TensorFlow binary is optimized with oneAPI Deep Neural Network Library (oneDNN) to use the following CPU instructions in performance-critical operations:  AVX2 AVX512F FMA\n",
      "To enable them in other operations, rebuild TensorFlow with the appropriate compiler flags.\n"
     ]
    },
    {
     "name": "stdout",
     "output_type": "stream",
     "text": [
      "Search space summary\n",
      "Default search space size: 4\n",
      "units1 (Choice)\n",
      "{'default': 4, 'conditions': [], 'values': [4, 8, 16, 32, 64], 'ordered': True}\n",
      "units2 (Choice)\n",
      "{'default': 4, 'conditions': [], 'values': [4, 8, 16, 32, 64], 'ordered': True}\n",
      "units3 (Choice)\n",
      "{'default': 4, 'conditions': [], 'values': [4, 8, 16, 32, 64], 'ordered': True}\n",
      "lr (Float)\n",
      "{'default': 0.0001, 'conditions': [], 'min_value': 0.0001, 'max_value': 0.1, 'step': None, 'sampling': 'log'}\n"
     ]
    },
    {
     "name": "stderr",
     "output_type": "stream",
     "text": [
      "2022-09-07 16:50:30.317418: I tensorflow/stream_executor/cuda/cuda_gpu_executor.cc:937] successful NUMA node read from SysFS had negative value (-1), but there must be at least one NUMA node, so returning NUMA node zero\n",
      "2022-09-07 16:50:30.318400: I tensorflow/stream_executor/cuda/cuda_gpu_executor.cc:937] successful NUMA node read from SysFS had negative value (-1), but there must be at least one NUMA node, so returning NUMA node zero\n",
      "2022-09-07 16:50:30.319302: I tensorflow/stream_executor/cuda/cuda_gpu_executor.cc:937] successful NUMA node read from SysFS had negative value (-1), but there must be at least one NUMA node, so returning NUMA node zero\n",
      "2022-09-07 16:50:32.620462: I tensorflow/stream_executor/cuda/cuda_gpu_executor.cc:937] successful NUMA node read from SysFS had negative value (-1), but there must be at least one NUMA node, so returning NUMA node zero\n",
      "2022-09-07 16:50:32.621368: I tensorflow/stream_executor/cuda/cuda_gpu_executor.cc:937] successful NUMA node read from SysFS had negative value (-1), but there must be at least one NUMA node, so returning NUMA node zero\n",
      "2022-09-07 16:50:32.622049: I tensorflow/stream_executor/cuda/cuda_gpu_executor.cc:937] successful NUMA node read from SysFS had negative value (-1), but there must be at least one NUMA node, so returning NUMA node zero\n",
      "2022-09-07 16:50:32.622654: I tensorflow/core/common_runtime/gpu/gpu_device.cc:1510] Created device /job:localhost/replica:0/task:0/device:GPU:0 with 15401 MB memory:  -> device: 0, name: Tesla P100-PCIE-16GB, pci bus id: 0000:00:04.0, compute capability: 6.0\n"
     ]
    }
   ],
   "source": [
    "tuner = keras_tuner.RandomSearch(build_model, objective = 'val_accuracy', max_trials=5, executions_per_trial=2)\n",
    "tuner.search_space_summary()"
   ]
  },
  {
   "cell_type": "code",
   "execution_count": 40,
   "id": "5dc7f914",
   "metadata": {
    "execution": {
     "iopub.execute_input": "2022-09-07T16:50:33.071744Z",
     "iopub.status.busy": "2022-09-07T16:50:33.071166Z",
     "iopub.status.idle": "2022-09-07T16:51:36.376124Z",
     "shell.execute_reply": "2022-09-07T16:51:36.374943Z"
    },
    "papermill": {
     "duration": 63.33915,
     "end_time": "2022-09-07T16:51:36.394126",
     "exception": false,
     "start_time": "2022-09-07T16:50:33.054976",
     "status": "completed"
    },
    "tags": []
   },
   "outputs": [
    {
     "name": "stdout",
     "output_type": "stream",
     "text": [
      "Trial 5 Complete [00h 00m 16s]\n",
      "val_accuracy: 0.7333333492279053\n",
      "\n",
      "Best val_accuracy So Far: 0.8444444537162781\n",
      "Total elapsed time: 00h 01m 03s\n"
     ]
    }
   ],
   "source": [
    "tuner.search(xtrain, ytrain, epochs=50, validation_data=(xtest, ytest), verbose=1)"
   ]
  },
  {
   "cell_type": "code",
   "execution_count": 41,
   "id": "92c493b2",
   "metadata": {
    "execution": {
     "iopub.execute_input": "2022-09-07T16:51:36.436167Z",
     "iopub.status.busy": "2022-09-07T16:51:36.435816Z",
     "iopub.status.idle": "2022-09-07T16:51:36.441842Z",
     "shell.execute_reply": "2022-09-07T16:51:36.440761Z"
    },
    "papermill": {
     "duration": 0.027516,
     "end_time": "2022-09-07T16:51:36.444910",
     "exception": false,
     "start_time": "2022-09-07T16:51:36.417394",
     "status": "completed"
    },
    "tags": []
   },
   "outputs": [
    {
     "name": "stdout",
     "output_type": "stream",
     "text": [
      "Results summary\n",
      "Results in ./untitled_project\n",
      "Showing 10 best trials\n",
      "<keras_tuner.engine.objective.Objective object at 0x7fdbc817dc90>\n",
      "Trial summary\n",
      "Hyperparameters:\n",
      "units1: 8\n",
      "units2: 32\n",
      "units3: 32\n",
      "lr: 0.002215044868813457\n",
      "Score: 0.8444444537162781\n",
      "Trial summary\n",
      "Hyperparameters:\n",
      "units1: 16\n",
      "units2: 64\n",
      "units3: 4\n",
      "lr: 0.00010268621446033615\n",
      "Score: 0.7333333492279053\n",
      "Trial summary\n",
      "Hyperparameters:\n",
      "units1: 4\n",
      "units2: 4\n",
      "units3: 32\n",
      "lr: 0.0007103814980367534\n",
      "Score: 0.7111111283302307\n",
      "Trial summary\n",
      "Hyperparameters:\n",
      "units1: 4\n",
      "units2: 4\n",
      "units3: 4\n",
      "lr: 0.0025712001205139743\n",
      "Score: 0.699999988079071\n",
      "Trial summary\n",
      "Hyperparameters:\n",
      "units1: 64\n",
      "units2: 8\n",
      "units3: 32\n",
      "lr: 0.024136809912189375\n",
      "Score: 0.6500000059604645\n"
     ]
    }
   ],
   "source": [
    "tuner.results_summary()"
   ]
  },
  {
   "cell_type": "code",
   "execution_count": 42,
   "id": "7e5d7648",
   "metadata": {
    "execution": {
     "iopub.execute_input": "2022-09-07T16:51:36.480498Z",
     "iopub.status.busy": "2022-09-07T16:51:36.480204Z",
     "iopub.status.idle": "2022-09-07T16:51:36.487498Z",
     "shell.execute_reply": "2022-09-07T16:51:36.486406Z"
    },
    "papermill": {
     "duration": 0.027076,
     "end_time": "2022-09-07T16:51:36.489434",
     "exception": false,
     "start_time": "2022-09-07T16:51:36.462358",
     "status": "completed"
    },
    "tags": []
   },
   "outputs": [
    {
     "data": {
      "text/plain": [
       "[<keras_tuner.engine.hyperparameters.HyperParameters at 0x7fdc166f99d0>]"
      ]
     },
     "execution_count": 42,
     "metadata": {},
     "output_type": "execute_result"
    }
   ],
   "source": [
    "tuner.get_best_hyperparameters()"
   ]
  },
  {
   "cell_type": "code",
   "execution_count": 43,
   "id": "ee2978e0",
   "metadata": {
    "execution": {
     "iopub.execute_input": "2022-09-07T16:51:36.525059Z",
     "iopub.status.busy": "2022-09-07T16:51:36.524124Z",
     "iopub.status.idle": "2022-09-07T16:51:37.070279Z",
     "shell.execute_reply": "2022-09-07T16:51:37.068875Z"
    },
    "papermill": {
     "duration": 0.566129,
     "end_time": "2022-09-07T16:51:37.072801",
     "exception": false,
     "start_time": "2022-09-07T16:51:36.506672",
     "status": "completed"
    },
    "tags": []
   },
   "outputs": [
    {
     "name": "stdout",
     "output_type": "stream",
     "text": [
      "Model: \"model\"\n",
      "_________________________________________________________________\n",
      "Layer (type)                 Output Shape              Param #   \n",
      "=================================================================\n",
      "input_1 (InputLayer)         [(None, 7)]               0         \n",
      "_________________________________________________________________\n",
      "dense (Dense)                (None, 8)                 64        \n",
      "_________________________________________________________________\n",
      "dense_1 (Dense)              (None, 32)                288       \n",
      "_________________________________________________________________\n",
      "dense_2 (Dense)              (None, 32)                1056      \n",
      "_________________________________________________________________\n",
      "dense_3 (Dense)              (None, 1)                 33        \n",
      "=================================================================\n",
      "Total params: 1,441\n",
      "Trainable params: 1,441\n",
      "Non-trainable params: 0\n",
      "_________________________________________________________________\n"
     ]
    }
   ],
   "source": [
    "models = tuner.get_best_models(num_models=2)\n",
    "best_model = models[0]\n",
    "best_model.summary()"
   ]
  },
  {
   "cell_type": "code",
   "execution_count": 44,
   "id": "1d4cf098",
   "metadata": {
    "execution": {
     "iopub.execute_input": "2022-09-07T16:51:37.109655Z",
     "iopub.status.busy": "2022-09-07T16:51:37.109039Z",
     "iopub.status.idle": "2022-09-07T16:51:37.255726Z",
     "shell.execute_reply": "2022-09-07T16:51:37.254559Z"
    },
    "papermill": {
     "duration": 0.168067,
     "end_time": "2022-09-07T16:51:37.258570",
     "exception": false,
     "start_time": "2022-09-07T16:51:37.090503",
     "status": "completed"
    },
    "tags": []
   },
   "outputs": [],
   "source": [
    "result = [1 if x[0]>0.5 else 0 for x in best_model.predict(test_transformed)]\n",
    "sample = pd.read_csv('../input/titanic/gender_submission.csv')\n",
    "sample['Survived'] = result\n",
    "sample.to_csv('sample.csv', index=False)"
   ]
  },
  {
   "cell_type": "code",
   "execution_count": 45,
   "id": "980007c4",
   "metadata": {
    "execution": {
     "iopub.execute_input": "2022-09-07T16:51:37.294407Z",
     "iopub.status.busy": "2022-09-07T16:51:37.293490Z",
     "iopub.status.idle": "2022-09-07T16:51:38.345718Z",
     "shell.execute_reply": "2022-09-07T16:51:38.344208Z"
    },
    "papermill": {
     "duration": 1.073201,
     "end_time": "2022-09-07T16:51:38.348973",
     "exception": false,
     "start_time": "2022-09-07T16:51:37.275772",
     "status": "completed"
    },
    "tags": []
   },
   "outputs": [],
   "source": [
    "!rm -r ./untitled_project"
   ]
  },
  {
   "cell_type": "code",
   "execution_count": null,
   "id": "1e5b25ed",
   "metadata": {
    "papermill": {
     "duration": 0.017032,
     "end_time": "2022-09-07T16:51:38.384504",
     "exception": false,
     "start_time": "2022-09-07T16:51:38.367472",
     "status": "completed"
    },
    "tags": []
   },
   "outputs": [],
   "source": []
  }
 ],
 "metadata": {
  "kernelspec": {
   "display_name": "Python 3",
   "language": "python",
   "name": "python3"
  },
  "language_info": {
   "codemirror_mode": {
    "name": "ipython",
    "version": 3
   },
   "file_extension": ".py",
   "mimetype": "text/x-python",
   "name": "python",
   "nbconvert_exporter": "python",
   "pygments_lexer": "ipython3",
   "version": "3.7.12"
  },
  "papermill": {
   "default_parameters": {},
   "duration": 99.360149,
   "end_time": "2022-09-07T16:51:41.891929",
   "environment_variables": {},
   "exception": null,
   "input_path": "__notebook__.ipynb",
   "output_path": "__notebook__.ipynb",
   "parameters": {},
   "start_time": "2022-09-07T16:50:02.531780",
   "version": "2.3.4"
  }
 },
 "nbformat": 4,
 "nbformat_minor": 5
}
