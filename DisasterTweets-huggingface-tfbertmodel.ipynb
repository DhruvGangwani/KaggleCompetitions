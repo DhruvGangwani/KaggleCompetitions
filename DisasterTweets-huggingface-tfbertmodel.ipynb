{
 "cells": [
  {
   "cell_type": "markdown",
   "metadata": {
    "id": "l8v_jfycBi-9",
    "papermill": {
     "duration": 0.020462,
     "end_time": "2020-12-20T05:35:49.938402",
     "exception": false,
     "start_time": "2020-12-20T05:35:49.917940",
     "status": "completed"
    },
    "tags": []
   },
   "source": [
    "**HuggingFace Transformers**\n",
    "\n",
    "🤗 Transformers (formerly known as pytorch-transformers and pytorch-pretrained-bert) provides general-purpose architectures (BERT, GPT-2, RoBERTa, XLM, DistilBert, XLNet…) for Natural Language Understanding (NLU) and Natural Language Generation (NLG) with over 32+ pretrained models in 100+ languages and deep interoperability between TensorFlow 2.0 and PyTorch."
   ]
  },
  {
   "cell_type": "code",
   "execution_count": 1,
   "metadata": {
    "execution": {
     "iopub.execute_input": "2020-12-20T05:35:49.983576Z",
     "iopub.status.busy": "2020-12-20T05:35:49.982564Z",
     "iopub.status.idle": "2020-12-20T05:36:06.280419Z",
     "shell.execute_reply": "2020-12-20T05:36:06.279015Z"
    },
    "id": "D3I__ITb5bJN",
    "outputId": "69f1b0af-c668-4cdb-dc0d-c9338ec55a46",
    "papermill": {
     "duration": 16.322561,
     "end_time": "2020-12-20T05:36:06.280573",
     "exception": false,
     "start_time": "2020-12-20T05:35:49.958012",
     "status": "completed"
    },
    "tags": []
   },
   "outputs": [
    {
     "name": "stdout",
     "output_type": "stream",
     "text": [
      "Requirement already satisfied: transformers in /opt/conda/lib/python3.7/site-packages (2.9.0)\r\n",
      "Requirement already satisfied: filelock in /opt/conda/lib/python3.7/site-packages (from transformers) (3.0.10)\r\n",
      "Requirement already satisfied: regex!=2019.12.17 in /opt/conda/lib/python3.7/site-packages (from transformers) (2020.4.4)\r\n",
      "Requirement already satisfied: sentencepiece in /opt/conda/lib/python3.7/site-packages (from transformers) (0.1.86)\r\n",
      "Requirement already satisfied: tokenizers==0.7.0 in /opt/conda/lib/python3.7/site-packages (from transformers) (0.7.0)\r\n",
      "Requirement already satisfied: tqdm>=4.27 in /opt/conda/lib/python3.7/site-packages (from transformers) (4.45.0)\r\n",
      "Requirement already satisfied: sacremoses in /opt/conda/lib/python3.7/site-packages (from transformers) (0.0.43)\r\n",
      "Requirement already satisfied: numpy in /opt/conda/lib/python3.7/site-packages (from transformers) (1.18.1)\r\n",
      "Requirement already satisfied: requests in /opt/conda/lib/python3.7/site-packages (from transformers) (2.23.0)\r\n",
      "Requirement already satisfied: joblib in /opt/conda/lib/python3.7/site-packages (from sacremoses->transformers) (0.14.1)\r\n",
      "Requirement already satisfied: click in /opt/conda/lib/python3.7/site-packages (from sacremoses->transformers) (7.1.1)\r\n",
      "Requirement already satisfied: six in /opt/conda/lib/python3.7/site-packages (from sacremoses->transformers) (1.14.0)\r\n",
      "Requirement already satisfied: urllib3!=1.25.0,!=1.25.1,<1.26,>=1.21.1 in /opt/conda/lib/python3.7/site-packages (from requests->transformers) (1.24.3)\r\n",
      "Requirement already satisfied: idna<3,>=2.5 in /opt/conda/lib/python3.7/site-packages (from requests->transformers) (2.9)\r\n",
      "Requirement already satisfied: certifi>=2017.4.17 in /opt/conda/lib/python3.7/site-packages (from requests->transformers) (2020.4.5.1)\r\n",
      "Requirement already satisfied: chardet<4,>=3.0.2 in /opt/conda/lib/python3.7/site-packages (from requests->transformers) (3.0.4)\r\n",
      "\u001b[33mWARNING: You are using pip version 20.1; however, version 20.3.3 is available.\r\n",
      "You should consider upgrading via the '/opt/conda/bin/python3.7 -m pip install --upgrade pip' command.\u001b[0m\r\n"
     ]
    }
   ],
   "source": [
    "!pip install transformers\n",
    "import transformers"
   ]
  },
  {
   "cell_type": "code",
   "execution_count": 2,
   "metadata": {
    "execution": {
     "iopub.execute_input": "2020-12-20T05:36:06.339060Z",
     "iopub.status.busy": "2020-12-20T05:36:06.338364Z",
     "iopub.status.idle": "2020-12-20T05:36:06.402857Z",
     "shell.execute_reply": "2020-12-20T05:36:06.401718Z"
    },
    "id": "yUWeJm3M1aN2",
    "papermill": {
     "duration": 0.099282,
     "end_time": "2020-12-20T05:36:06.402980",
     "exception": false,
     "start_time": "2020-12-20T05:36:06.303698",
     "status": "completed"
    },
    "tags": []
   },
   "outputs": [],
   "source": [
    "import pandas as pd\n",
    "train = pd.read_csv('/kaggle/input/nlp-getting-started/train.csv')\n",
    "test = pd.read_csv('/kaggle/input/nlp-getting-started/test.csv')"
   ]
  },
  {
   "cell_type": "code",
   "execution_count": 3,
   "metadata": {
    "execution": {
     "iopub.execute_input": "2020-12-20T05:36:06.454960Z",
     "iopub.status.busy": "2020-12-20T05:36:06.454212Z",
     "iopub.status.idle": "2020-12-20T05:36:06.671003Z",
     "shell.execute_reply": "2020-12-20T05:36:06.671645Z"
    },
    "id": "nT7RFUmB2TtH",
    "outputId": "5297e49b-1f55-4911-dc7d-f1fc5c229fdc",
    "papermill": {
     "duration": 0.24624,
     "end_time": "2020-12-20T05:36:06.671805",
     "exception": false,
     "start_time": "2020-12-20T05:36:06.425565",
     "status": "completed"
    },
    "tags": []
   },
   "outputs": [
    {
     "data": {
      "image/png": "[encoded data removed]",
      "text/plain": [
       "<Figure size 432x288 with 1 Axes>"
      ]
     },
     "metadata": {
      "needs_background": "light"
     },
     "output_type": "display_data"
    }
   ],
   "source": [
    "import matplotlib.pyplot as plt\n",
    "plt.title('Train Data')\n",
    "plt.xlabel('Target Distribution')\n",
    "plt.ylabel('Samples')\n",
    "plt.hist(train.target)\n",
    "plt.show()"
   ]
  },
  {
   "cell_type": "markdown",
   "metadata": {
    "id": "P7jihemPCcmc",
    "papermill": {
     "duration": 0.022649,
     "end_time": "2020-12-20T05:36:06.718825",
     "exception": false,
     "start_time": "2020-12-20T05:36:06.696176",
     "status": "completed"
    },
    "tags": []
   },
   "source": [
    "**Pre-Processing** (Optional)\n",
    "\n",
    "1--> Removing Contraction (Decontraction)\n",
    "\n",
    "2--> Dealing with HashTags\n",
    "\n",
    "3--> Removing URLs and Email\n",
    "\n",
    "4--> Removing Stopwords and Lemmatization\n",
    "\n"
   ]
  },
  {
   "cell_type": "code",
   "execution_count": 4,
   "metadata": {
    "execution": {
     "iopub.execute_input": "2020-12-20T05:36:06.770669Z",
     "iopub.status.busy": "2020-12-20T05:36:06.768734Z",
     "iopub.status.idle": "2020-12-20T05:36:06.771549Z",
     "shell.execute_reply": "2020-12-20T05:36:06.772094Z"
    },
    "id": "xJyXCSw_2vVX",
    "papermill": {
     "duration": 0.030436,
     "end_time": "2020-12-20T05:36:06.772230",
     "exception": false,
     "start_time": "2020-12-20T05:36:06.741794",
     "status": "completed"
    },
    "tags": []
   },
   "outputs": [],
   "source": [
    "\n",
    "# def decontracted(phrase):\n",
    "#     # specific\n",
    "#     phrase = re.sub(r\"won\\'t\", \"will not\", phrase)\n",
    "#     phrase = re.sub(r\"can\\'t\", \"can not\", phrase)\n",
    "\n",
    "#     # general\n",
    "#     phrase = re.sub(r\"n\\'t\", \" not\", phrase)\n",
    "#     phrase = re.sub(r\"\\'re\", \" are\", phrase)\n",
    "#     phrase = re.sub(r\"\\'s\", \" is\", phrase)\n",
    "#     phrase = re.sub(r\"\\'d\", \" would\", phrase)\n",
    "#     phrase = re.sub(r\"\\'ll\", \" will\", phrase)\n",
    "#     phrase = re.sub(r\"\\'t\", \" not\", phrase)\n",
    "#     phrase = re.sub(r\"\\'ve\", \" have\", phrase)\n",
    "#     phrase = re.sub(r\"\\'m\", \" am\", phrase)\n",
    "#     return phrase"
   ]
  },
  {
   "cell_type": "code",
   "execution_count": 5,
   "metadata": {
    "execution": {
     "iopub.execute_input": "2020-12-20T05:36:06.823463Z",
     "iopub.status.busy": "2020-12-20T05:36:06.821692Z",
     "iopub.status.idle": "2020-12-20T05:36:06.824117Z",
     "shell.execute_reply": "2020-12-20T05:36:06.824632Z"
    },
    "id": "7r0mOv_S20aT",
    "papermill": {
     "duration": 0.029838,
     "end_time": "2020-12-20T05:36:06.824753",
     "exception": false,
     "start_time": "2020-12-20T05:36:06.794915",
     "status": "completed"
    },
    "tags": []
   },
   "outputs": [],
   "source": [
    "# import spacy\n",
    "# import re\n",
    "# nlp = spacy.load('en')\n",
    "# def preprocessing(text):\n",
    "#   text = text.replace('#','')\n",
    "#   text = decontracted(text)\n",
    "#   text = re.sub('\\S*@\\S*\\s?','',text)\n",
    "#   text = re.sub('http[s]?:(?:[a-zA-Z]|[0-9]|[$-_@.&+]|[!*\\(\\),]|(?:%[0-9a-fA-F][0-9a-fA-F]))+','',text)\n",
    "\n",
    "#   token=[]\n",
    "#   result=''\n",
    "#   text = re.sub('[^A-z]', ' ',text.lower())\n",
    "  \n",
    "#   text = nlp(text)\n",
    "#   for t in text:\n",
    "#     if not t.is_stop and len(t)>2:  \n",
    "#       token.append(t.lemma_)\n",
    "#   result = ' '.join([i for i in token])\n",
    "\n",
    "#   return result.strip()"
   ]
  },
  {
   "cell_type": "code",
   "execution_count": 6,
   "metadata": {
    "execution": {
     "iopub.execute_input": "2020-12-20T05:36:06.876835Z",
     "iopub.status.busy": "2020-12-20T05:36:06.876046Z",
     "iopub.status.idle": "2020-12-20T05:36:06.880633Z",
     "shell.execute_reply": "2020-12-20T05:36:06.879896Z"
    },
    "id": "Vc_vvnTh25C8",
    "papermill": {
     "duration": 0.032884,
     "end_time": "2020-12-20T05:36:06.880738",
     "exception": false,
     "start_time": "2020-12-20T05:36:06.847854",
     "status": "completed"
    },
    "tags": []
   },
   "outputs": [],
   "source": [
    "# train.text = train.text.apply(lambda x : preprocessing(x))\n",
    "# test.text = test.text.apply(lambda x : preprocessing(x))"
   ]
  },
  {
   "cell_type": "markdown",
   "metadata": {
    "id": "_mSAYpvLEuJT",
    "papermill": {
     "duration": 0.022088,
     "end_time": "2020-12-20T05:36:06.925410",
     "exception": false,
     "start_time": "2020-12-20T05:36:06.903322",
     "status": "completed"
    },
    "tags": []
   },
   "source": [
    "**Loading BertTokenizer**\n",
    "\n",
    "It is based on WordPiece Approach"
   ]
  },
  {
   "cell_type": "code",
   "execution_count": 7,
   "metadata": {
    "execution": {
     "iopub.execute_input": "2020-12-20T05:36:06.974164Z",
     "iopub.status.busy": "2020-12-20T05:36:06.973597Z",
     "iopub.status.idle": "2020-12-20T05:36:07.322595Z",
     "shell.execute_reply": "2020-12-20T05:36:07.323042Z"
    },
    "id": "S7DVIetj5Wzm",
    "papermill": {
     "duration": 0.375862,
     "end_time": "2020-12-20T05:36:07.323175",
     "exception": false,
     "start_time": "2020-12-20T05:36:06.947313",
     "status": "completed"
    },
    "tags": []
   },
   "outputs": [
    {
     "data": {
      "application/vnd.jupyter.widget-view+json": {
       "model_id": "95afe04d52d24151bd0ba785c46b31e4",
       "version_major": 2,
       "version_minor": 0
      },
      "text/plain": [
       "HBox(children=(FloatProgress(value=0.0, description='Downloading', max=231508.0, style=ProgressStyle(descripti…"
      ]
     },
     "metadata": {},
     "output_type": "display_data"
    },
    {
     "name": "stdout",
     "output_type": "stream",
     "text": [
      "\n"
     ]
    }
   ],
   "source": [
    "from transformers import BertTokenizer\n",
    "tokenizer = BertTokenizer.from_pretrained('bert-large-uncased', do_lower_case=True)"
   ]
  },
  {
   "cell_type": "code",
   "execution_count": 8,
   "metadata": {
    "execution": {
     "iopub.execute_input": "2020-12-20T05:36:07.382037Z",
     "iopub.status.busy": "2020-12-20T05:36:07.381465Z",
     "iopub.status.idle": "2020-12-20T05:36:07.385719Z",
     "shell.execute_reply": "2020-12-20T05:36:07.385084Z"
    },
    "id": "cw76Bm3g5qxL",
    "papermill": {
     "duration": 0.038476,
     "end_time": "2020-12-20T05:36:07.385824",
     "exception": false,
     "start_time": "2020-12-20T05:36:07.347348",
     "status": "completed"
    },
    "tags": []
   },
   "outputs": [],
   "source": [
    "import numpy as np\n",
    "import tensorflow as tf "
   ]
  },
  {
   "cell_type": "markdown",
   "metadata": {
    "id": "xTqQtN0LFKVw",
    "papermill": {
     "duration": 0.022729,
     "end_time": "2020-12-20T05:36:07.432241",
     "exception": false,
     "start_time": "2020-12-20T05:36:07.409512",
     "status": "completed"
    },
    "tags": []
   },
   "source": [
    "**BERT Encoding**\n",
    "\n",
    "Data is encoded according to BERT requirement.There is a very helpful function called encode_plus provided in the Tokenizer class. It can seamlessly perform the following operations:\n",
    "\n",
    "\n",
    "\n",
    "*   Tokenize the text\n",
    "*   Add special tokens - [CLS] and [SEP]\n",
    "\n",
    "*   Add special tokens - [CLS] and [SEP]\n",
    "*   create token IDs\n",
    "\n",
    "*   Pad the sentences to a common length\n",
    "*   Create attention masks for the above PAD tokens\n"
   ]
  },
  {
   "cell_type": "code",
   "execution_count": 9,
   "metadata": {
    "execution": {
     "iopub.execute_input": "2020-12-20T05:36:07.490614Z",
     "iopub.status.busy": "2020-12-20T05:36:07.489811Z",
     "iopub.status.idle": "2020-12-20T05:36:07.493708Z",
     "shell.execute_reply": "2020-12-20T05:36:07.494187Z"
    },
    "id": "Cd9SmmP73QDh",
    "papermill": {
     "duration": 0.037642,
     "end_time": "2020-12-20T05:36:07.494329",
     "exception": false,
     "start_time": "2020-12-20T05:36:07.456687",
     "status": "completed"
    },
    "tags": []
   },
   "outputs": [],
   "source": [
    "def bert_encode(data,maximum_length) :\n",
    "  input_ids = []\n",
    "  attention_masks = []\n",
    "  \n",
    "\n",
    "  for i in range(len(data.text)):\n",
    "      encoded = tokenizer.encode_plus(\n",
    "        \n",
    "        data.text[i],\n",
    "        add_special_tokens=True,\n",
    "        max_length=maximum_length,\n",
    "        pad_to_max_length=True,\n",
    "        \n",
    "        return_attention_mask=True,\n",
    "        \n",
    "      )\n",
    "      \n",
    "      input_ids.append(encoded['input_ids'])\n",
    "      attention_masks.append(encoded['attention_mask'])\n",
    "  return np.array(input_ids),np.array(attention_masks)"
   ]
  },
  {
   "cell_type": "markdown",
   "metadata": {
    "id": "CwRLIO7LLuMf",
    "papermill": {
     "duration": 0.026046,
     "end_time": "2020-12-20T05:36:07.546102",
     "exception": false,
     "start_time": "2020-12-20T05:36:07.520056",
     "status": "completed"
    },
    "tags": []
   },
   "source": [
    "**Input are 2 Numpy array. Let me briefly go over them:**\n",
    "\n",
    "1) input_ids : list of token ids to be fed to a model\n",
    "\n",
    "2) attention_masks: list of indices specifying which tokens should be attended to by the model.The input sequences are denoted by 1 and the padded ones by 0. These masks help to differentiate between the two.\n",
    "\n",
    "**Note** : Token Ids are not necessary as it is used Two Sentence Problem (To differentiate two sentence)\n"
   ]
  },
  {
   "cell_type": "code",
   "execution_count": 10,
   "metadata": {
    "execution": {
     "iopub.execute_input": "2020-12-20T05:36:07.606812Z",
     "iopub.status.busy": "2020-12-20T05:36:07.605928Z",
     "iopub.status.idle": "2020-12-20T05:36:18.287333Z",
     "shell.execute_reply": "2020-12-20T05:36:18.288373Z"
    },
    "id": "qEy-naSN30-K",
    "papermill": {
     "duration": 10.716412,
     "end_time": "2020-12-20T05:36:18.288550",
     "exception": false,
     "start_time": "2020-12-20T05:36:07.572138",
     "status": "completed"
    },
    "tags": []
   },
   "outputs": [],
   "source": [
    "train_input_ids,train_attention_masks = bert_encode(train,60)\n",
    "test_input_ids,test_attention_masks = bert_encode(test,60)"
   ]
  },
  {
   "cell_type": "markdown",
   "metadata": {
    "id": "f6El9miVNGf_",
    "papermill": {
     "duration": 0.023514,
     "end_time": "2020-12-20T05:36:18.336498",
     "exception": false,
     "start_time": "2020-12-20T05:36:18.312984",
     "status": "completed"
    },
    "tags": []
   },
   "source": [
    "**Creating Custom Model**\n",
    "\n",
    "Base TFBert Model with Dense layer and sigmoid activation as head. "
   ]
  },
  {
   "cell_type": "code",
   "execution_count": 11,
   "metadata": {
    "execution": {
     "iopub.execute_input": "2020-12-20T05:36:18.393732Z",
     "iopub.status.busy": "2020-12-20T05:36:18.392793Z",
     "iopub.status.idle": "2020-12-20T05:36:18.406532Z",
     "shell.execute_reply": "2020-12-20T05:36:18.405869Z"
    },
    "id": "L4jA6BAc46II",
    "papermill": {
     "duration": 0.046826,
     "end_time": "2020-12-20T05:36:18.406635",
     "exception": false,
     "start_time": "2020-12-20T05:36:18.359809",
     "status": "completed"
    },
    "tags": []
   },
   "outputs": [],
   "source": [
    "import tensorflow as tf\n",
    "from tensorflow.keras.optimizers import Adam\n",
    "def create_model(bert_model):\n",
    "  input_ids = tf.keras.Input(shape=(60,),dtype='int32')\n",
    "  attention_masks = tf.keras.Input(shape=(60,),dtype='int32')\n",
    "  \n",
    "  output = bert_model([input_ids,attention_masks])\n",
    "  output = output[1]\n",
    "  output = tf.keras.layers.Dense(32,activation='relu')(output)\n",
    "  output = tf.keras.layers.Dropout(0.2)(output)\n",
    "\n",
    "  output = tf.keras.layers.Dense(1,activation='sigmoid')(output)\n",
    "  model = tf.keras.models.Model(inputs = [input_ids,attention_masks],outputs = output)\n",
    "  model.compile(Adam(lr=6e-6), loss='binary_crossentropy', metrics=['accuracy'])\n",
    "  return model\n",
    "\n"
   ]
  },
  {
   "cell_type": "markdown",
   "metadata": {
    "id": "IjU6OOBYNoeb",
    "papermill": {
     "duration": 0.022993,
     "end_time": "2020-12-20T05:36:18.452874",
     "exception": false,
     "start_time": "2020-12-20T05:36:18.429881",
     "status": "completed"
    },
    "tags": []
   },
   "source": [
    "**TFBertModel**\n",
    "\n",
    "The bare Bert Model transformer outputing raw hidden-states without any specific head on top. \n",
    "https://huggingface.co/transformers/model_doc/bert.html#tfbertmodel"
   ]
  },
  {
   "cell_type": "code",
   "execution_count": 12,
   "metadata": {
    "execution": {
     "iopub.execute_input": "2020-12-20T05:36:18.517833Z",
     "iopub.status.busy": "2020-12-20T05:36:18.516800Z",
     "iopub.status.idle": "2020-12-20T05:37:19.947397Z",
     "shell.execute_reply": "2020-12-20T05:37:19.946761Z"
    },
    "id": "-8ea4pXR6N7J",
    "papermill": {
     "duration": 61.471297,
     "end_time": "2020-12-20T05:37:19.947527",
     "exception": false,
     "start_time": "2020-12-20T05:36:18.476230",
     "status": "completed"
    },
    "tags": []
   },
   "outputs": [
    {
     "data": {
      "application/vnd.jupyter.widget-view+json": {
       "model_id": "9a242677999a4cd694dceb934d6abb57",
       "version_major": 2,
       "version_minor": 0
      },
      "text/plain": [
       "HBox(children=(FloatProgress(value=0.0, description='Downloading', max=434.0, style=ProgressStyle(description_…"
      ]
     },
     "metadata": {},
     "output_type": "display_data"
    },
    {
     "name": "stdout",
     "output_type": "stream",
     "text": [
      "\n"
     ]
    },
    {
     "data": {
      "application/vnd.jupyter.widget-view+json": {
       "model_id": "e568e4c6f8914145a9066aa409440243",
       "version_major": 2,
       "version_minor": 0
      },
      "text/plain": [
       "HBox(children=(FloatProgress(value=0.0, description='Downloading', max=1472569832.0, style=ProgressStyle(descr…"
      ]
     },
     "metadata": {},
     "output_type": "display_data"
    },
    {
     "name": "stdout",
     "output_type": "stream",
     "text": [
      "\n"
     ]
    }
   ],
   "source": [
    "from transformers import TFBertModel\n",
    "bert_model = TFBertModel.from_pretrained('bert-large-uncased')"
   ]
  },
  {
   "cell_type": "markdown",
   "metadata": {
    "id": "QmbsABFiOBKo",
    "papermill": {
     "duration": 0.02841,
     "end_time": "2020-12-20T05:37:20.007016",
     "exception": false,
     "start_time": "2020-12-20T05:37:19.978606",
     "status": "completed"
    },
    "tags": []
   },
   "source": [
    "**Implementing Custom Model**"
   ]
  },
  {
   "cell_type": "code",
   "execution_count": 13,
   "metadata": {
    "execution": {
     "iopub.execute_input": "2020-12-20T05:37:20.070741Z",
     "iopub.status.busy": "2020-12-20T05:37:20.069842Z",
     "iopub.status.idle": "2020-12-20T05:37:27.480676Z",
     "shell.execute_reply": "2020-12-20T05:37:27.479926Z"
    },
    "id": "8GCGbmmX6iHx",
    "outputId": "cd2510fe-7396-4cd2-ad60-e16534d9c8aa",
    "papermill": {
     "duration": 7.4447,
     "end_time": "2020-12-20T05:37:27.480799",
     "exception": false,
     "start_time": "2020-12-20T05:37:20.036099",
     "status": "completed"
    },
    "tags": []
   },
   "outputs": [
    {
     "name": "stdout",
     "output_type": "stream",
     "text": [
      "Model: \"model\"\n",
      "__________________________________________________________________________________________________\n",
      "Layer (type)                    Output Shape         Param #     Connected to                     \n",
      "==================================================================================================\n",
      "input_1 (InputLayer)            [(None, 60)]         0                                            \n",
      "__________________________________________________________________________________________________\n",
      "input_2 (InputLayer)            [(None, 60)]         0                                            \n",
      "__________________________________________________________________________________________________\n",
      "tf_bert_model (TFBertModel)     ((None, 60, 1024), ( 335141888   input_1[0][0]                    \n",
      "                                                                 input_2[0][0]                    \n",
      "__________________________________________________________________________________________________\n",
      "dense (Dense)                   (None, 32)           32800       tf_bert_model[0][1]              \n",
      "__________________________________________________________________________________________________\n",
      "dropout_73 (Dropout)            (None, 32)           0           dense[0][0]                      \n",
      "__________________________________________________________________________________________________\n",
      "dense_1 (Dense)                 (None, 1)            33          dropout_73[0][0]                 \n",
      "==================================================================================================\n",
      "Total params: 335,174,721\n",
      "Trainable params: 335,174,721\n",
      "Non-trainable params: 0\n",
      "__________________________________________________________________________________________________\n"
     ]
    }
   ],
   "source": [
    "model = create_model(bert_model)\n",
    "model.summary()"
   ]
  },
  {
   "cell_type": "markdown",
   "metadata": {
    "id": "AWjS_3BJOFXs",
    "papermill": {
     "duration": 0.025369,
     "end_time": "2020-12-20T05:37:27.531967",
     "exception": false,
     "start_time": "2020-12-20T05:37:27.506598",
     "status": "completed"
    },
    "tags": []
   },
   "source": [
    "**Callbacks** (Optional)\n",
    "\n",
    "To get best model according to maximum validation accuracy.\n",
    "\n"
   ]
  },
  {
   "cell_type": "code",
   "execution_count": 14,
   "metadata": {
    "execution": {
     "iopub.execute_input": "2020-12-20T05:37:27.587429Z",
     "iopub.status.busy": "2020-12-20T05:37:27.586810Z",
     "iopub.status.idle": "2020-12-20T05:37:27.591442Z",
     "shell.execute_reply": "2020-12-20T05:37:27.590533Z"
    },
    "id": "DbdKL8euphGn",
    "papermill": {
     "duration": 0.033959,
     "end_time": "2020-12-20T05:37:27.591543",
     "exception": false,
     "start_time": "2020-12-20T05:37:27.557584",
     "status": "completed"
    },
    "tags": []
   },
   "outputs": [],
   "source": [
    "# filepath=\"weights-improvement-{epoch:02d}-{val_accuracy:.2f}.hdf5\"\n",
    "# checkpoint = tf.keras.callbacks.ModelCheckpoint(filepath, monitor='val_accuracy', verbose=1, save_best_only=True, mode='max')\n",
    "# callbacks_list = [checkpoint]\n",
    "# add callbacks = callbacks_list to model.fit"
   ]
  },
  {
   "cell_type": "markdown",
   "metadata": {
    "id": "1xNZokWcObGQ",
    "papermill": {
     "duration": 0.025501,
     "end_time": "2020-12-20T05:37:27.642844",
     "exception": false,
     "start_time": "2020-12-20T05:37:27.617343",
     "status": "completed"
    },
    "tags": []
   },
   "source": [
    "**Training**"
   ]
  },
  {
   "cell_type": "code",
   "execution_count": 15,
   "metadata": {
    "execution": {
     "iopub.execute_input": "2020-12-20T05:37:27.701990Z",
     "iopub.status.busy": "2020-12-20T05:37:27.701425Z",
     "iopub.status.idle": "2020-12-20T05:43:37.411517Z",
     "shell.execute_reply": "2020-12-20T05:43:37.412150Z"
    },
    "id": "nPsSo1eT6j_F",
    "outputId": "e0f2f210-9c20-4513-e3b3-737c99bd2dfc",
    "papermill": {
     "duration": 369.74373,
     "end_time": "2020-12-20T05:43:37.412349",
     "exception": false,
     "start_time": "2020-12-20T05:37:27.668619",
     "status": "completed"
    },
    "tags": []
   },
   "outputs": [
    {
     "name": "stdout",
     "output_type": "stream",
     "text": [
      "Train on 6090 samples, validate on 1523 samples\n",
      "Epoch 1/2\n",
      "6090/6090 [==============================] - 198s 33ms/sample - loss: 0.4828 - accuracy: 0.7877 - val_loss: 0.4059 - val_accuracy: 0.8339\n",
      "Epoch 2/2\n",
      "6090/6090 [==============================] - 171s 28ms/sample - loss: 0.3662 - accuracy: 0.8589 - val_loss: 0.4473 - val_accuracy: 0.8240\n"
     ]
    }
   ],
   "source": [
    "history = model.fit([train_input_ids,train_attention_masks],train.target,validation_split=0.2, epochs=2,batch_size=10)"
   ]
  },
  {
   "cell_type": "markdown",
   "metadata": {
    "id": "ubZYSXJTOg_8",
    "papermill": {
     "duration": 0.436137,
     "end_time": "2020-12-20T05:43:38.281466",
     "exception": false,
     "start_time": "2020-12-20T05:43:37.845329",
     "status": "completed"
    },
    "tags": []
   },
   "source": [
    "**Testing**"
   ]
  },
  {
   "cell_type": "code",
   "execution_count": 16,
   "metadata": {
    "execution": {
     "iopub.execute_input": "2020-12-20T05:43:39.159052Z",
     "iopub.status.busy": "2020-12-20T05:43:39.158123Z",
     "iopub.status.idle": "2020-12-20T05:44:13.787663Z",
     "shell.execute_reply": "2020-12-20T05:44:13.786990Z"
    },
    "id": "GGln1FTiHwgs",
    "papermill": {
     "duration": 35.072423,
     "end_time": "2020-12-20T05:44:13.787781",
     "exception": false,
     "start_time": "2020-12-20T05:43:38.715358",
     "status": "completed"
    },
    "tags": []
   },
   "outputs": [],
   "source": [
    "result = model.predict([test_input_ids,test_attention_masks])\n",
    "result = np.round(result).astype(int)"
   ]
  },
  {
   "cell_type": "markdown",
   "metadata": {
    "id": "msmk-9LWOluB",
    "papermill": {
     "duration": 0.440584,
     "end_time": "2020-12-20T05:44:14.711134",
     "exception": false,
     "start_time": "2020-12-20T05:44:14.270550",
     "status": "completed"
    },
    "tags": []
   },
   "source": [
    "**Preparing Submission File**"
   ]
  },
  {
   "cell_type": "code",
   "execution_count": 17,
   "metadata": {
    "execution": {
     "iopub.execute_input": "2020-12-20T05:44:15.597276Z",
     "iopub.status.busy": "2020-12-20T05:44:15.596639Z",
     "iopub.status.idle": "2020-12-20T05:44:15.661390Z",
     "shell.execute_reply": "2020-12-20T05:44:15.660867Z"
    },
    "id": "cDUCScg-H5Wc",
    "papermill": {
     "duration": 0.514733,
     "end_time": "2020-12-20T05:44:15.661508",
     "exception": false,
     "start_time": "2020-12-20T05:44:15.146775",
     "status": "completed"
    },
    "tags": []
   },
   "outputs": [],
   "source": [
    "result = pd.DataFrame(result)\n",
    "submission = pd.read_csv('/kaggle/input/nlp-getting-started/sample_submission.csv')\n",
    "output = pd.DataFrame({'id':submission.id,'target':result[0]})\n",
    "output.to_csv('submission.csv',index=False)"
   ]
  },
  {
   "cell_type": "code",
   "execution_count": 18,
   "metadata": {
    "execution": {
     "iopub.execute_input": "2020-12-20T05:44:16.547557Z",
     "iopub.status.busy": "2020-12-20T05:44:16.545624Z",
     "iopub.status.idle": "2020-12-20T05:44:16.695037Z",
     "shell.execute_reply": "2020-12-20T05:44:16.695527Z"
    },
    "id": "BJu_Feg3qhO5",
    "outputId": "3d21311c-428c-4a15-fe32-dd49c344320d",
    "papermill": {
     "duration": 0.598349,
     "end_time": "2020-12-20T05:44:16.695654",
     "exception": false,
     "start_time": "2020-12-20T05:44:16.097305",
     "status": "completed"
    },
    "tags": []
   },
   "outputs": [
    {
     "data": {
      "image/png": "[encoded data removed]",
      "text/plain": [
       "<Figure size 432x288 with 1 Axes>"
      ]
     },
     "metadata": {
      "needs_background": "light"
     },
     "output_type": "display_data"
    }
   ],
   "source": [
    "plt.plot(history.history['accuracy'])\n",
    "plt.plot(history.history['val_accuracy'])\n",
    "plt.title('model accuracy')\n",
    "plt.ylabel('accuracy')\n",
    "plt.xlabel('epoch')\n",
    "plt.legend(['train', 'test'], loc='upper left')\n",
    "plt.show()"
   ]
  },
  {
   "cell_type": "code",
   "execution_count": 19,
   "metadata": {
    "execution": {
     "iopub.execute_input": "2020-12-20T05:44:17.752609Z",
     "iopub.status.busy": "2020-12-20T05:44:17.751550Z",
     "iopub.status.idle": "2020-12-20T05:44:17.990474Z",
     "shell.execute_reply": "2020-12-20T05:44:17.991304Z"
    },
    "id": "_X2h4_9tqkS6",
    "outputId": "991f6184-ff01-4dcf-efb6-02a3aa15891b",
    "papermill": {
     "duration": 0.840733,
     "end_time": "2020-12-20T05:44:17.991552",
     "exception": false,
     "start_time": "2020-12-20T05:44:17.150819",
     "status": "completed"
    },
    "tags": []
   },
   "outputs": [
    {
     "data": {
      "image/png": "[encoded data removed]",
      "text/plain": [
       "<Figure size 432x288 with 1 Axes>"
      ]
     },
     "metadata": {
      "needs_background": "light"
     },
     "output_type": "display_data"
    }
   ],
   "source": [
    "plt.plot(history.history['loss'])\n",
    "plt.plot(history.history['val_loss'])\n",
    "plt.title('model loss')\n",
    "plt.ylabel('loss')\n",
    "plt.xlabel('epoch')\n",
    "plt.legend(['train', 'test'], loc='upper left')\n",
    "plt.show()"
   ]
  }
 ],
 "metadata": {
  "kernelspec": {
   "display_name": "Python 3",
   "language": "python",
   "name": "python3"
  },
  "language_info": {
   "codemirror_mode": {
    "name": "ipython",
    "version": 3
   },
   "file_extension": ".py",
   "mimetype": "text/x-python",
   "name": "python",
   "nbconvert_exporter": "python",
   "pygments_lexer": "ipython3",
   "version": "3.7.6"
  },
  "papermill": {
   "duration": 515.11782,
   "end_time": "2020-12-20T05:44:20.422695",
   "environment_variables": {},
   "exception": null,
   "input_path": "__notebook__.ipynb",
   "output_path": "__notebook__.ipynb",
   "parameters": {},
   "start_time": "2020-12-20T05:35:45.304875",
   "version": "2.1.0"
  },
  "widgets": {
   "application/vnd.jupyter.widget-state+json": {
    "state": {
     "0003dfc134034b6fb1a05f6ae5a473bb": {
      "model_module": "@jupyter-widgets/controls",
      "model_module_version": "1.5.0",
      "model_name": "HTMLModel",
      "state": {
       "_dom_classes": [],
       "_model_module": "@jupyter-widgets/controls",
       "_model_module_version": "1.5.0",
       "_model_name": "HTMLModel",
       "_view_count": null,
       "_view_module": "@jupyter-widgets/controls",
       "_view_module_version": "1.5.0",
       "_view_name": "HTMLView",
       "description": "",
       "description_tooltip": null,
       "layout": "IPY_MODEL_35090e6fdc3947e6b0cc8ab1c90ea6a0",
       "placeholder": "​",
       "style": "IPY_MODEL_bd640c44064142c8a68cac7702a89047",
       "value": " 232k/232k [00:00&lt;00:00, 2.98MB/s]"
      }
     },
     "05aa0eb342714bd2a983d660a9cc52e7": {
      "model_module": "@jupyter-widgets/base",
      "model_module_version": "1.2.0",
      "model_name": "LayoutModel",
      "state": {
       "_model_module": "@jupyter-widgets/base",
       "_model_module_version": "1.2.0",
       "_model_name": "LayoutModel",
       "_view_count": null,
       "_view_module": "@jupyter-widgets/base",
       "_view_module_version": "1.2.0",
       "_view_name": "LayoutView",
       "align_content": null,
       "align_items": null,
       "align_self": null,
       "border": null,
       "bottom": null,
       "display": null,
       "flex": null,
       "flex_flow": null,
       "grid_area": null,
       "grid_auto_columns": null,
       "grid_auto_flow": null,
       "grid_auto_rows": null,
       "grid_column": null,
       "grid_gap": null,
       "grid_row": null,
       "grid_template_areas": null,
       "grid_template_columns": null,
       "grid_template_rows": null,
       "height": null,
       "justify_content": null,
       "justify_items": null,
       "left": null,
       "margin": null,
       "max_height": null,
       "max_width": null,
       "min_height": null,
       "min_width": null,
       "object_fit": null,
       "object_position": null,
       "order": null,
       "overflow": null,
       "overflow_x": null,
       "overflow_y": null,
       "padding": null,
       "right": null,
       "top": null,
       "visibility": null,
       "width": null
      }
     },
     "28b805409f284439b1b8f3dc42497a84": {
      "model_module": "@jupyter-widgets/base",
      "model_module_version": "1.2.0",
      "model_name": "LayoutModel",
      "state": {
       "_model_module": "@jupyter-widgets/base",
       "_model_module_version": "1.2.0",
       "_model_name": "LayoutModel",
       "_view_count": null,
       "_view_module": "@jupyter-widgets/base",
       "_view_module_version": "1.2.0",
       "_view_name": "LayoutView",
       "align_content": null,
       "align_items": null,
       "align_self": null,
       "border": null,
       "bottom": null,
       "display": null,
       "flex": null,
       "flex_flow": null,
       "grid_area": null,
       "grid_auto_columns": null,
       "grid_auto_flow": null,
       "grid_auto_rows": null,
       "grid_column": null,
       "grid_gap": null,
       "grid_row": null,
       "grid_template_areas": null,
       "grid_template_columns": null,
       "grid_template_rows": null,
       "height": null,
       "justify_content": null,
       "justify_items": null,
       "left": null,
       "margin": null,
       "max_height": null,
       "max_width": null,
       "min_height": null,
       "min_width": null,
       "object_fit": null,
       "object_position": null,
       "order": null,
       "overflow": null,
       "overflow_x": null,
       "overflow_y": null,
       "padding": null,
       "right": null,
       "top": null,
       "visibility": null,
       "width": null
      }
     },
     "35090e6fdc3947e6b0cc8ab1c90ea6a0": {
      "model_module": "@jupyter-widgets/base",
      "model_module_version": "1.2.0",
      "model_name": "LayoutModel",
      "state": {
       "_model_module": "@jupyter-widgets/base",
       "_model_module_version": "1.2.0",
       "_model_name": "LayoutModel",
       "_view_count": null,
       "_view_module": "@jupyter-widgets/base",
       "_view_module_version": "1.2.0",
       "_view_name": "LayoutView",
       "align_content": null,
       "align_items": null,
       "align_self": null,
       "border": null,
       "bottom": null,
       "display": null,
       "flex": null,
       "flex_flow": null,
       "grid_area": null,
       "grid_auto_columns": null,
       "grid_auto_flow": null,
       "grid_auto_rows": null,
       "grid_column": null,
       "grid_gap": null,
       "grid_row": null,
       "grid_template_areas": null,
       "grid_template_columns": null,
       "grid_template_rows": null,
       "height": null,
       "justify_content": null,
       "justify_items": null,
       "left": null,
       "margin": null,
       "max_height": null,
       "max_width": null,
       "min_height": null,
       "min_width": null,
       "object_fit": null,
       "object_position": null,
       "order": null,
       "overflow": null,
       "overflow_x": null,
       "overflow_y": null,
       "padding": null,
       "right": null,
       "top": null,
       "visibility": null,
       "width": null
      }
     },
     "45a893a9b5324d3d951c4bba521b1a41": {
      "model_module": "@jupyter-widgets/base",
      "model_module_version": "1.2.0",
      "model_name": "LayoutModel",
      "state": {
       "_model_module": "@jupyter-widgets/base",
       "_model_module_version": "1.2.0",
       "_model_name": "LayoutModel",
       "_view_count": null,
       "_view_module": "@jupyter-widgets/base",
       "_view_module_version": "1.2.0",
       "_view_name": "LayoutView",
       "align_content": null,
       "align_items": null,
       "align_self": null,
       "border": null,
       "bottom": null,
       "display": null,
       "flex": null,
       "flex_flow": null,
       "grid_area": null,
       "grid_auto_columns": null,
       "grid_auto_flow": null,
       "grid_auto_rows": null,
       "grid_column": null,
       "grid_gap": null,
       "grid_row": null,
       "grid_template_areas": null,
       "grid_template_columns": null,
       "grid_template_rows": null,
       "height": null,
       "justify_content": null,
       "justify_items": null,
       "left": null,
       "margin": null,
       "max_height": null,
       "max_width": null,
       "min_height": null,
       "min_width": null,
       "object_fit": null,
       "object_position": null,
       "order": null,
       "overflow": null,
       "overflow_x": null,
       "overflow_y": null,
       "padding": null,
       "right": null,
       "top": null,
       "visibility": null,
       "width": null
      }
     },
     "473f9526064446b68cf7a6bc09091ae2": {
      "model_module": "@jupyter-widgets/controls",
      "model_module_version": "1.5.0",
      "model_name": "FloatProgressModel",
      "state": {
       "_dom_classes": [],
       "_model_module": "@jupyter-widgets/controls",
       "_model_module_version": "1.5.0",
       "_model_name": "FloatProgressModel",
       "_view_count": null,
       "_view_module": "@jupyter-widgets/controls",
       "_view_module_version": "1.5.0",
       "_view_name": "ProgressView",
       "bar_style": "success",
       "description": "Downloading: 100%",
       "description_tooltip": null,
       "layout": "IPY_MODEL_05aa0eb342714bd2a983d660a9cc52e7",
       "max": 231508.0,
       "min": 0.0,
       "orientation": "horizontal",
       "style": "IPY_MODEL_858c077813d84891a7c7f6af768aa946",
       "value": 231508.0
      }
     },
     "4e6c9bd2b7d94dca97a84f453cb172a9": {
      "model_module": "@jupyter-widgets/controls",
      "model_module_version": "1.5.0",
      "model_name": "FloatProgressModel",
      "state": {
       "_dom_classes": [],
       "_model_module": "@jupyter-widgets/controls",
       "_model_module_version": "1.5.0",
       "_model_name": "FloatProgressModel",
       "_view_count": null,
       "_view_module": "@jupyter-widgets/controls",
       "_view_module_version": "1.5.0",
       "_view_name": "ProgressView",
       "bar_style": "success",
       "description": "Downloading: 100%",
       "description_tooltip": null,
       "layout": "IPY_MODEL_96ce51dd1a6244758dbdd77e29bdf4f7",
       "max": 434.0,
       "min": 0.0,
       "orientation": "horizontal",
       "style": "IPY_MODEL_bbfda93a4fa54dbb8237669b6e4ea85b",
       "value": 434.0
      }
     },
     "858c077813d84891a7c7f6af768aa946": {
      "model_module": "@jupyter-widgets/controls",
      "model_module_version": "1.5.0",
      "model_name": "ProgressStyleModel",
      "state": {
       "_model_module": "@jupyter-widgets/controls",
       "_model_module_version": "1.5.0",
       "_model_name": "ProgressStyleModel",
       "_view_count": null,
       "_view_module": "@jupyter-widgets/base",
       "_view_module_version": "1.2.0",
       "_view_name": "StyleView",
       "bar_color": null,
       "description_width": "initial"
      }
     },
     "95afe04d52d24151bd0ba785c46b31e4": {
      "model_module": "@jupyter-widgets/controls",
      "model_module_version": "1.5.0",
      "model_name": "HBoxModel",
      "state": {
       "_dom_classes": [],
       "_model_module": "@jupyter-widgets/controls",
       "_model_module_version": "1.5.0",
       "_model_name": "HBoxModel",
       "_view_count": null,
       "_view_module": "@jupyter-widgets/controls",
       "_view_module_version": "1.5.0",
       "_view_name": "HBoxView",
       "box_style": "",
       "children": [
        "IPY_MODEL_473f9526064446b68cf7a6bc09091ae2",
        "IPY_MODEL_0003dfc134034b6fb1a05f6ae5a473bb"
       ],
       "layout": "IPY_MODEL_e3cd62eafcc7483f9d0988ba1ca10df4"
      }
     },
     "96ce51dd1a6244758dbdd77e29bdf4f7": {
      "model_module": "@jupyter-widgets/base",
      "model_module_version": "1.2.0",
      "model_name": "LayoutModel",
      "state": {
       "_model_module": "@jupyter-widgets/base",
       "_model_module_version": "1.2.0",
       "_model_name": "LayoutModel",
       "_view_count": null,
       "_view_module": "@jupyter-widgets/base",
       "_view_module_version": "1.2.0",
       "_view_name": "LayoutView",
       "align_content": null,
       "align_items": null,
       "align_self": null,
       "border": null,
       "bottom": null,
       "display": null,
       "flex": null,
       "flex_flow": null,
       "grid_area": null,
       "grid_auto_columns": null,
       "grid_auto_flow": null,
       "grid_auto_rows": null,
       "grid_column": null,
       "grid_gap": null,
       "grid_row": null,
       "grid_template_areas": null,
       "grid_template_columns": null,
       "grid_template_rows": null,
       "height": null,
       "justify_content": null,
       "justify_items": null,
       "left": null,
       "margin": null,
       "max_height": null,
       "max_width": null,
       "min_height": null,
       "min_width": null,
       "object_fit": null,
       "object_position": null,
       "order": null,
       "overflow": null,
       "overflow_x": null,
       "overflow_y": null,
       "padding": null,
       "right": null,
       "top": null,
       "visibility": null,
       "width": null
      }
     },
     "9a242677999a4cd694dceb934d6abb57": {
      "model_module": "@jupyter-widgets/controls",
      "model_module_version": "1.5.0",
      "model_name": "HBoxModel",
      "state": {
       "_dom_classes": [],
       "_model_module": "@jupyter-widgets/controls",
       "_model_module_version": "1.5.0",
       "_model_name": "HBoxModel",
       "_view_count": null,
       "_view_module": "@jupyter-widgets/controls",
       "_view_module_version": "1.5.0",
       "_view_name": "HBoxView",
       "box_style": "",
       "children": [
        "IPY_MODEL_4e6c9bd2b7d94dca97a84f453cb172a9",
        "IPY_MODEL_dcf348b7eef542558c1a33a46070bc82"
       ],
       "layout": "IPY_MODEL_28b805409f284439b1b8f3dc42497a84"
      }
     },
     "9b87ae9461ec41e98e864a213ea761ba": {
      "model_module": "@jupyter-widgets/base",
      "model_module_version": "1.2.0",
      "model_name": "LayoutModel",
      "state": {
       "_model_module": "@jupyter-widgets/base",
       "_model_module_version": "1.2.0",
       "_model_name": "LayoutModel",
       "_view_count": null,
       "_view_module": "@jupyter-widgets/base",
       "_view_module_version": "1.2.0",
       "_view_name": "LayoutView",
       "align_content": null,
       "align_items": null,
       "align_self": null,
       "border": null,
       "bottom": null,
       "display": null,
       "flex": null,
       "flex_flow": null,
       "grid_area": null,
       "grid_auto_columns": null,
       "grid_auto_flow": null,
       "grid_auto_rows": null,
       "grid_column": null,
       "grid_gap": null,
       "grid_row": null,
       "grid_template_areas": null,
       "grid_template_columns": null,
       "grid_template_rows": null,
       "height": null,
       "justify_content": null,
       "justify_items": null,
       "left": null,
       "margin": null,
       "max_height": null,
       "max_width": null,
       "min_height": null,
       "min_width": null,
       "object_fit": null,
       "object_position": null,
       "order": null,
       "overflow": null,
       "overflow_x": null,
       "overflow_y": null,
       "padding": null,
       "right": null,
       "top": null,
       "visibility": null,
       "width": null
      }
     },
     "a2be09441661467a9693ba741dd59211": {
      "model_module": "@jupyter-widgets/controls",
      "model_module_version": "1.5.0",
      "model_name": "FloatProgressModel",
      "state": {
       "_dom_classes": [],
       "_model_module": "@jupyter-widgets/controls",
       "_model_module_version": "1.5.0",
       "_model_name": "FloatProgressModel",
       "_view_count": null,
       "_view_module": "@jupyter-widgets/controls",
       "_view_module_version": "1.5.0",
       "_view_name": "ProgressView",
       "bar_style": "success",
       "description": "Downloading: 100%",
       "description_tooltip": null,
       "layout": "IPY_MODEL_9b87ae9461ec41e98e864a213ea761ba",
       "max": 1472569832.0,
       "min": 0.0,
       "orientation": "horizontal",
       "style": "IPY_MODEL_b1fc9ca141e8475fb4da8d2b06fcaec7",
       "value": 1472569832.0
      }
     },
     "a71bbabe69474cdd889f895014a72030": {
      "model_module": "@jupyter-widgets/base",
      "model_module_version": "1.2.0",
      "model_name": "LayoutModel",
      "state": {
       "_model_module": "@jupyter-widgets/base",
       "_model_module_version": "1.2.0",
       "_model_name": "LayoutModel",
       "_view_count": null,
       "_view_module": "@jupyter-widgets/base",
       "_view_module_version": "1.2.0",
       "_view_name": "LayoutView",
       "align_content": null,
       "align_items": null,
       "align_self": null,
       "border": null,
       "bottom": null,
       "display": null,
       "flex": null,
       "flex_flow": null,
       "grid_area": null,
       "grid_auto_columns": null,
       "grid_auto_flow": null,
       "grid_auto_rows": null,
       "grid_column": null,
       "grid_gap": null,
       "grid_row": null,
       "grid_template_areas": null,
       "grid_template_columns": null,
       "grid_template_rows": null,
       "height": null,
       "justify_content": null,
       "justify_items": null,
       "left": null,
       "margin": null,
       "max_height": null,
       "max_width": null,
       "min_height": null,
       "min_width": null,
       "object_fit": null,
       "object_position": null,
       "order": null,
       "overflow": null,
       "overflow_x": null,
       "overflow_y": null,
       "padding": null,
       "right": null,
       "top": null,
       "visibility": null,
       "width": null
      }
     },
     "b1fc9ca141e8475fb4da8d2b06fcaec7": {
      "model_module": "@jupyter-widgets/controls",
      "model_module_version": "1.5.0",
      "model_name": "ProgressStyleModel",
      "state": {
       "_model_module": "@jupyter-widgets/controls",
       "_model_module_version": "1.5.0",
       "_model_name": "ProgressStyleModel",
       "_view_count": null,
       "_view_module": "@jupyter-widgets/base",
       "_view_module_version": "1.2.0",
       "_view_name": "StyleView",
       "bar_color": null,
       "description_width": "initial"
      }
     },
     "bbfda93a4fa54dbb8237669b6e4ea85b": {
      "model_module": "@jupyter-widgets/controls",
      "model_module_version": "1.5.0",
      "model_name": "ProgressStyleModel",
      "state": {
       "_model_module": "@jupyter-widgets/controls",
       "_model_module_version": "1.5.0",
       "_model_name": "ProgressStyleModel",
       "_view_count": null,
       "_view_module": "@jupyter-widgets/base",
       "_view_module_version": "1.2.0",
       "_view_name": "StyleView",
       "bar_color": null,
       "description_width": "initial"
      }
     },
     "bd640c44064142c8a68cac7702a89047": {
      "model_module": "@jupyter-widgets/controls",
      "model_module_version": "1.5.0",
      "model_name": "DescriptionStyleModel",
      "state": {
       "_model_module": "@jupyter-widgets/controls",
       "_model_module_version": "1.5.0",
       "_model_name": "DescriptionStyleModel",
       "_view_count": null,
       "_view_module": "@jupyter-widgets/base",
       "_view_module_version": "1.2.0",
       "_view_name": "StyleView",
       "description_width": ""
      }
     },
     "d2f1a6b1b2a2412a8e5ecff06cdc612b": {
      "model_module": "@jupyter-widgets/controls",
      "model_module_version": "1.5.0",
      "model_name": "DescriptionStyleModel",
      "state": {
       "_model_module": "@jupyter-widgets/controls",
       "_model_module_version": "1.5.0",
       "_model_name": "DescriptionStyleModel",
       "_view_count": null,
       "_view_module": "@jupyter-widgets/base",
       "_view_module_version": "1.2.0",
       "_view_name": "StyleView",
       "description_width": ""
      }
     },
     "dc33554927ef4aadabe1657b43a9816d": {
      "model_module": "@jupyter-widgets/base",
      "model_module_version": "1.2.0",
      "model_name": "LayoutModel",
      "state": {
       "_model_module": "@jupyter-widgets/base",
       "_model_module_version": "1.2.0",
       "_model_name": "LayoutModel",
       "_view_count": null,
       "_view_module": "@jupyter-widgets/base",
       "_view_module_version": "1.2.0",
       "_view_name": "LayoutView",
       "align_content": null,
       "align_items": null,
       "align_self": null,
       "border": null,
       "bottom": null,
       "display": null,
       "flex": null,
       "flex_flow": null,
       "grid_area": null,
       "grid_auto_columns": null,
       "grid_auto_flow": null,
       "grid_auto_rows": null,
       "grid_column": null,
       "grid_gap": null,
       "grid_row": null,
       "grid_template_areas": null,
       "grid_template_columns": null,
       "grid_template_rows": null,
       "height": null,
       "justify_content": null,
       "justify_items": null,
       "left": null,
       "margin": null,
       "max_height": null,
       "max_width": null,
       "min_height": null,
       "min_width": null,
       "object_fit": null,
       "object_position": null,
       "order": null,
       "overflow": null,
       "overflow_x": null,
       "overflow_y": null,
       "padding": null,
       "right": null,
       "top": null,
       "visibility": null,
       "width": null
      }
     },
     "dcf348b7eef542558c1a33a46070bc82": {
      "model_module": "@jupyter-widgets/controls",
      "model_module_version": "1.5.0",
      "model_name": "HTMLModel",
      "state": {
       "_dom_classes": [],
       "_model_module": "@jupyter-widgets/controls",
       "_model_module_version": "1.5.0",
       "_model_name": "HTMLModel",
       "_view_count": null,
       "_view_module": "@jupyter-widgets/controls",
       "_view_module_version": "1.5.0",
       "_view_name": "HTMLView",
       "description": "",
       "description_tooltip": null,
       "layout": "IPY_MODEL_dc33554927ef4aadabe1657b43a9816d",
       "placeholder": "​",
       "style": "IPY_MODEL_d2f1a6b1b2a2412a8e5ecff06cdc612b",
       "value": " 434/434 [00:50&lt;00:00, 8.52B/s]"
      }
     },
     "e3cd62eafcc7483f9d0988ba1ca10df4": {
      "model_module": "@jupyter-widgets/base",
      "model_module_version": "1.2.0",
      "model_name": "LayoutModel",
      "state": {
       "_model_module": "@jupyter-widgets/base",
       "_model_module_version": "1.2.0",
       "_model_name": "LayoutModel",
       "_view_count": null,
       "_view_module": "@jupyter-widgets/base",
       "_view_module_version": "1.2.0",
       "_view_name": "LayoutView",
       "align_content": null,
       "align_items": null,
       "align_self": null,
       "border": null,
       "bottom": null,
       "display": null,
       "flex": null,
       "flex_flow": null,
       "grid_area": null,
       "grid_auto_columns": null,
       "grid_auto_flow": null,
       "grid_auto_rows": null,
       "grid_column": null,
       "grid_gap": null,
       "grid_row": null,
       "grid_template_areas": null,
       "grid_template_columns": null,
       "grid_template_rows": null,
       "height": null,
       "justify_content": null,
       "justify_items": null,
       "left": null,
       "margin": null,
       "max_height": null,
       "max_width": null,
       "min_height": null,
       "min_width": null,
       "object_fit": null,
       "object_position": null,
       "order": null,
       "overflow": null,
       "overflow_x": null,
       "overflow_y": null,
       "padding": null,
       "right": null,
       "top": null,
       "visibility": null,
       "width": null
      }
     },
     "e568e4c6f8914145a9066aa409440243": {
      "model_module": "@jupyter-widgets/controls",
      "model_module_version": "1.5.0",
      "model_name": "HBoxModel",
      "state": {
       "_dom_classes": [],
       "_model_module": "@jupyter-widgets/controls",
       "_model_module_version": "1.5.0",
       "_model_name": "HBoxModel",
       "_view_count": null,
       "_view_module": "@jupyter-widgets/controls",
       "_view_module_version": "1.5.0",
       "_view_name": "HBoxView",
       "box_style": "",
       "children": [
        "IPY_MODEL_a2be09441661467a9693ba741dd59211",
        "IPY_MODEL_fc3c59a8f98d41b78064cac7df332566"
       ],
       "layout": "IPY_MODEL_a71bbabe69474cdd889f895014a72030"
      }
     },
     "f82df859a1da49399f3d58ad38ff3595": {
      "model_module": "@jupyter-widgets/controls",
      "model_module_version": "1.5.0",
      "model_name": "DescriptionStyleModel",
      "state": {
       "_model_module": "@jupyter-widgets/controls",
       "_model_module_version": "1.5.0",
       "_model_name": "DescriptionStyleModel",
       "_view_count": null,
       "_view_module": "@jupyter-widgets/base",
       "_view_module_version": "1.2.0",
       "_view_name": "StyleView",
       "description_width": ""
      }
     },
     "fc3c59a8f98d41b78064cac7df332566": {
      "model_module": "@jupyter-widgets/controls",
      "model_module_version": "1.5.0",
      "model_name": "HTMLModel",
      "state": {
       "_dom_classes": [],
       "_model_module": "@jupyter-widgets/controls",
       "_model_module_version": "1.5.0",
       "_model_name": "HTMLModel",
       "_view_count": null,
       "_view_module": "@jupyter-widgets/controls",
       "_view_module_version": "1.5.0",
       "_view_name": "HTMLView",
       "description": "",
       "description_tooltip": null,
       "layout": "IPY_MODEL_45a893a9b5324d3d951c4bba521b1a41",
       "placeholder": "​",
       "style": "IPY_MODEL_f82df859a1da49399f3d58ad38ff3595",
       "value": " 1.47G/1.47G [00:50&lt;00:00, 29.4MB/s]"
      }
     }
    },
    "version_major": 2,
    "version_minor": 0
   }
  }
 },
 "nbformat": 4,
 "nbformat_minor": 4
}
